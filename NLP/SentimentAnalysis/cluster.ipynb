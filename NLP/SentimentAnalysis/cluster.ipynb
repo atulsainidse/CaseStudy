{
 "cells": [
  {
   "cell_type": "code",
   "execution_count": 1,
   "metadata": {
    "collapsed": true
   },
   "outputs": [],
   "source": [
    "import json\n",
    "import networkx as nx\n",
    "import matplotlib.pyplot as plt\n",
    "from collections import Counter"
   ]
  },
  {
   "cell_type": "code",
   "execution_count": 2,
   "metadata": {
    "collapsed": true
   },
   "outputs": [],
   "source": [
    "def create_graph(filename):\n",
    "    datafile = open(filename)\n",
    "    tweets = json.load(datafile)\n",
    "    graph = nx.Graph()\n",
    "\n",
    "    for key, value in tweets.items():\n",
    "        for friend in value[\"friends\"]:\n",
    "            if key != friend:\n",
    "                graph.add_edge(key, friend)\n",
    "    return graph"
   ]
  },
  {
   "cell_type": "code",
   "execution_count": 3,
   "metadata": {
    "collapsed": true
   },
   "outputs": [],
   "source": [
    "def jaccard_score(neighbor_nodes, neighbor_nodes2):\n",
    "    score = len(neighbor_nodes & neighbor_nodes2) / len(neighbor_nodes | neighbor_nodes2)\n",
    "    return score"
   ]
  },
  {
   "cell_type": "code",
   "execution_count": 4,
   "metadata": {
    "collapsed": true
   },
   "outputs": [],
   "source": [
    "def draw_network(graph, filename, min_degree=5):\n",
    "    labels = {}\n",
    "    for node in graph.nodes():\n",
    "        if graph.degree(node) > min_degree:\n",
    "            labels[node] = node\n",
    "        else:\n",
    "            labels[node] = ''\n",
    "    plt.figure()\n",
    "    plt.axis('off')\n",
    "    nx.draw_networkx(graph, alpha=0.95, width=0.7, edge_color='#C0C0C0', labels=labels, node_size=30, font_size=10)\n",
    "    plt.savefig(filename, dpi=200)"
   ]
  },
  {
   "cell_type": "code",
   "execution_count": 5,
   "metadata": {
    "collapsed": true
   },
   "outputs": [],
   "source": [
    "def find_best_edge(graph):\n",
    "    eb = nx.edge_betweenness_centrality(graph)\n",
    "    sorted_eb = sorted(eb.items(), key=lambda x: x[1], reverse=True)\n",
    "    return sorted_eb[0][0]"
   ]
  },
  {
   "cell_type": "code",
   "execution_count": 6,
   "metadata": {
    "collapsed": true
   },
   "outputs": [],
   "source": [
    "def girvan_newman(graph):\n",
    "    if len(graph.nodes()) == 1:\n",
    "        return [graph.nodes()]\n",
    "\n",
    "    components = list(nx.connected_component_subgraphs(graph))\n",
    "    while len(components) == 1:\n",
    "        edge = find_best_edge(graph)\n",
    "        graph.remove_edge(edge[0], edge[1])\n",
    "        components = list(nx.connected_component_subgraphs(graph))\n",
    "    return components"
   ]
  },
  {
   "cell_type": "code",
   "execution_count": 7,
   "metadata": {
    "collapsed": true
   },
   "outputs": [],
   "source": [
    "def detect_communities(graph):\n",
    "    components = girvan_newman(graph)\n",
    "    communities = dict()\n",
    "\n",
    "    for idx, g in enumerate(components):\n",
    "        communities[idx + 1] = g.nodes()\n",
    "        # print(\"Component %d - %d nodes\" % (idx + 1, len(g.nodes())))\n",
    "        # draw_network(g, \"components/component-%d.png\" % (idx + 1), min_degree=1)\n",
    "    return communities"
   ]
  },
  {
   "cell_type": "code",
   "execution_count": 8,
   "metadata": {
    "collapsed": true
   },
   "outputs": [],
   "source": [
    "def save_results(communities, filename):\n",
    "    with open(filename, \"w\") as outfile:\n",
    "        json.dump(communities, outfile)\n",
    "\n",
    "\n",
    "def compress_graph(graph, threshold=0, min_degree=1):\n",
    "    # Remove edges whose Jaccard Score is 0\n",
    "    for u1, u2 in graph.edges():\n",
    "        u1_neighbors = set(graph.neighbors(u1))\n",
    "        u2_neighbors = set(graph.neighbors(u2))\n",
    "        score = jaccard_score(u1_neighbors, u2_neighbors)\n",
    "\n",
    "        if not score > threshold:\n",
    "            graph.remove_edge(u1, u2)\n",
    "\n",
    "    # Remove nodes who don't have any edges\n",
    "    for node in graph.nodes():\n",
    "        if graph.degree(node) < min_degree:\n",
    "            graph.remove_node(node)"
   ]
  },
  {
   "cell_type": "code",
   "execution_count": 10,
   "metadata": {
    "collapsed": true
   },
   "outputs": [],
   "source": [
    "if __name__ == '__main__':\n",
    "    graph = create_graph(\"tweets.json\")\n",
    "    # print('graph has %d nodes and %d edges' %\n",
    "    #       (graph.order(), graph.number_of_edges()))\n",
    "\n",
    "    compress_graph(graph)\n",
    "    # print('compressed graph has %d nodes and %d edges' %\n",
    "    #       (graph.order(), graph.number_of_edges()))\n",
    "\n",
    "    draw_network(graph, \"graph.png\")\n",
    "\n",
    "    girvan_newman(graph)\n",
    "    communities = detect_communities(graph)\n",
    "    save_results(communities, \"communities.json\")"
   ]
  },
  {
   "cell_type": "code",
   "execution_count": null,
   "metadata": {
    "collapsed": true
   },
   "outputs": [],
   "source": [
    "`"
   ]
  }
 ],
 "metadata": {
  "anaconda-cloud": {},
  "kernelspec": {
   "display_name": "Python [conda env:anaconda3]",
   "language": "python",
   "name": "conda-env-anaconda3-py"
  },
  "language_info": {
   "codemirror_mode": {
    "name": "ipython",
    "version": 3
   },
   "file_extension": ".py",
   "mimetype": "text/x-python",
   "name": "python",
   "nbconvert_exporter": "python",
   "pygments_lexer": "ipython3",
   "version": "3.5.2"
  }
 },
 "nbformat": 4,
 "nbformat_minor": 2
}
