{
 "cells": [
  {
   "cell_type": "code",
   "execution_count": 5,
   "metadata": {
    "collapsed": false
   },
   "outputs": [],
   "source": [
    "import sys\n",
    "import time\n",
    "import json\n",
    "from TwitterAPI import TwitterAPI\n",
    "from collections import defaultdict"
   ]
  },
  {
   "cell_type": "code",
   "execution_count": 6,
   "metadata": {
    "collapsed": true
   },
   "outputs": [],
   "source": [
    "consumer_key = 'EvpNESKARkI93SLwc2pCzS5Qw'\n",
    "consumer_secret = 'hCdR2I9vu7ztEHaPgbm6HMLVFFH15I2tsE34aP98IBMpjXeTH7'\n",
    "access_token = '230795459-miEChL6zghEL9Q1PMBufQ2UpwnkRj4Qw49Yt3hr0'\n",
    "access_token_secret = '4sgcYgUxCFfx6tak0RyYQ7yc40UgUlXtpdvFcNSHVyjm2'"
   ]
  },
  {
   "cell_type": "code",
   "execution_count": 7,
   "metadata": {
    "collapsed": true
   },
   "outputs": [],
   "source": [
    "def get_twitter():\n",
    "    return TwitterAPI(consumer_key, consumer_secret, access_token, access_token_secret)"
   ]
  },
  {
   "cell_type": "code",
   "execution_count": 8,
   "metadata": {
    "collapsed": true
   },
   "outputs": [],
   "source": [
    "def robust_request(twitter, resource, params, max_tries=5):\n",
    "    for i in range(max_tries):\n",
    "        request = twitter.request(resource, params)\n",
    "        if request.status_code == 200:\n",
    "            return request\n",
    "        else:\n",
    "            print('Got error %s \\nsleeping for 15 minutes.' % request.text)\n",
    "            sys.stderr.flush()\n",
    "            time.sleep(61 * 15)"
   ]
  },
  {
   "cell_type": "code",
   "execution_count": 9,
   "metadata": {
    "collapsed": true
   },
   "outputs": [],
   "source": [
    "def get_tweets(twitter, query, count=100):\n",
    "    tweets = []\n",
    "    params = {\n",
    "        \"q\": query,\n",
    "        \"count\": 100,\n",
    "        \"lang\": \"en\",\n",
    "        \"result_type\": \"mixed\",\n",
    "    }\n",
    "\n",
    "    max_iteration = 180 if count > 18000 else count // 100\n",
    "    for i in range(1, max_iteration + 1):\n",
    "        response = robust_request(twitter, 'search/tweets', params)\n",
    "        statuses = response.json()[\"statuses\"]\n",
    "        metadata = response.json()[\"search_metadata\"]\n",
    "\n",
    "        for record in statuses:\n",
    "            # print(json.dumps(record, indent=3))\n",
    "            if record[\"entities\"][\"user_mentions\"] or \"retweeted_status\" in record:\n",
    "                tweets.append(record)\n",
    "\n",
    "        # print(json.dumps(response.json()[\"search_metadata\"], indent=3))\n",
    "        if \"next_results\" in metadata:\n",
    "            # Add max_id in {params} for next results\n",
    "            next_max_id = get_max_id(metadata[\"next_results\"])\n",
    "            if next_max_id:\n",
    "                params[\"max_id\"] = next_max_id\n",
    "            else:\n",
    "                break\n",
    "        else:\n",
    "            break\n",
    "\n",
    "        if i % 10 == 0:\n",
    "            print(\"Retrieved %d tweets.\" % (i * 100))\n",
    "\n",
    "    return tweets"
   ]
  },
  {
   "cell_type": "code",
   "execution_count": 10,
   "metadata": {
    "collapsed": true
   },
   "outputs": [],
   "source": [
    "def get_max_id(next_results):\n",
    "    for param in next_results.split(\"&\"):\n",
    "        if \"max_id\" in param:\n",
    "            return param[param.index(\"max_id=\") + 7:]\n",
    "    return None"
   ]
  },
  {
   "cell_type": "code",
   "execution_count": 11,
   "metadata": {
    "collapsed": true
   },
   "outputs": [],
   "source": [
    "def save_tweets(raw_tweets, filename):\n",
    "    tweets = defaultdict()\n",
    "\n",
    "    for tweet in raw_tweets:\n",
    "        mentions = tweet[\"entities\"][\"user_mentions\"]\n",
    "        user = tweet[\"user\"][\"screen_name\"]\n",
    "        add_user(tweets, user)\n",
    "\n",
    "        text = tweet[\"text\"]  # TODO:Clean Tweet\n",
    "\n",
    "        # If the user has re-tweeted\n",
    "        if \"retweeted_status\" in tweet:\n",
    "            tweets[user][\"friends\"].add(tweet[\"retweeted_status\"][\"user\"][\"screen_name\"])\n",
    "            text = tweet[\"retweeted_status\"][\"text\"]\n",
    "        elif mentions:\n",
    "            # If the user has mentioned someone in tweet.\n",
    "            mentions = tweet[\"entities\"][\"user_mentions\"]\n",
    "            for x in mentions:\n",
    "                tweets[user][\"friends\"].add(x[\"screen_name\"])\n",
    "\n",
    "        tweets[user][\"tweets\"].add(text)  # TODO:Clean Tweet\n",
    "\n",
    "    # Converting each SET to LIST\n",
    "    for key, value in tweets.items():\n",
    "        tweets[key] = {\"friends\": list(value[\"friends\"]), \"tweets\": list(value[\"tweets\"])}\n",
    "\n",
    "    with open(filename, \"w\") as outfile:\n",
    "        json.dump(tweets, outfile)"
   ]
  },
  {
   "cell_type": "code",
   "execution_count": 12,
   "metadata": {
    "collapsed": true
   },
   "outputs": [],
   "source": [
    "def add_user(tweets, user):\n",
    "    if user not in tweets:\n",
    "        tweets[user] = defaultdict(set)"
   ]
  },
  {
   "cell_type": "code",
   "execution_count": 14,
   "metadata": {
    "collapsed": false
   },
   "outputs": [
    {
     "name": "stdout",
     "output_type": "stream",
     "text": [
      "Retrieving 5000 tweets. May take time.\n"
     ]
    }
   ],
   "source": [
    "if __name__ == \"__main__\":\n",
    "    twitter = get_twitter()\n",
    "    count = 5000\n",
    "    print(\"Retrieving %d tweets. May take time.\" % count)\n",
    "    raw_tweets = get_tweets(twitter, \"#demonetization\", count=count)\n",
    "    save_tweets(raw_tweets, \"tweets.json\")"
   ]
  },
  {
   "cell_type": "code",
   "execution_count": null,
   "metadata": {
    "collapsed": true
   },
   "outputs": [],
   "source": []
  }
 ],
 "metadata": {
  "anaconda-cloud": {},
  "kernelspec": {
   "display_name": "Python [conda env:anaconda3]",
   "language": "python",
   "name": "conda-env-anaconda3-py"
  },
  "language_info": {
   "codemirror_mode": {
    "name": "ipython",
    "version": 3
   },
   "file_extension": ".py",
   "mimetype": "text/x-python",
   "name": "python",
   "nbconvert_exporter": "python",
   "pygments_lexer": "ipython3",
   "version": "3.5.2"
  }
 },
 "nbformat": 4,
 "nbformat_minor": 2
}
