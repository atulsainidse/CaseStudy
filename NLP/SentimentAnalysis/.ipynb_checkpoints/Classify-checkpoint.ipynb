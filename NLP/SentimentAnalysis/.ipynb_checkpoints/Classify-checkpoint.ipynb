{
 "cells": [
  {
   "cell_type": "code",
   "execution_count": 1,
   "metadata": {
    "collapsed": true
   },
   "outputs": [],
   "source": [
    "from nltk.corpus import stopwords\n",
    "from nltk import NaiveBayesClassifier\n",
    "import json\n",
    "import re"
   ]
  },
  {
   "cell_type": "code",
   "execution_count": 2,
   "metadata": {
    "collapsed": true
   },
   "outputs": [],
   "source": [
    "def read_file(filename):\n",
    "    with open(filename) as datafile:\n",
    "        return json.load(datafile)"
   ]
  },
  {
   "cell_type": "code",
   "execution_count": 3,
   "metadata": {
    "collapsed": true
   },
   "outputs": [],
   "source": [
    "def clean_tweet(tweet):\n",
    "    # Remove @-mentions\n",
    "    tweet = re.sub(r'(?:@[\\w_]+)', \"\", tweet)\n",
    "\n",
    "    # Remove hash-tags\n",
    "    tweet = re.sub(r\"(?:\\#+[\\w_]+[\\w\\'_\\-]*[\\w_]+)\", \"\", tweet)\n",
    "\n",
    "    # Remove numbers\n",
    "    tweet = re.sub(r'(?:(?:\\d+,?)+(?:\\.?\\d+)?)', \"\", tweet)\n",
    "\n",
    "    # Remove URLs\n",
    "    tweet = re.sub(r'http[s]?://(?:[a-z]|[0-9]|[$-_@.&amp;+]|[!*\\(\\),]|(?:%[0-9a-f][0-9a-f]))+', \"\", tweet)\n",
    "\n",
    "    # Remove stopwords\n",
    "    tokens = tokenize_string(tweet)\n",
    "    stopset = set(stopwords.words('english'))\n",
    "    tokens = [token for token in tokens if token not in stopset]\n",
    "\n",
    "    tweet = \" \".join(tokens)\n",
    "    return tweet"
   ]
  },
  {
   "cell_type": "code",
   "execution_count": 4,
   "metadata": {
    "collapsed": true
   },
   "outputs": [],
   "source": [
    "def tokenize_string(my_string):\n",
    "    return re.findall('[\\w\\-]+', my_string.lower())"
   ]
  },
  {
   "cell_type": "code",
   "execution_count": 5,
   "metadata": {
    "collapsed": true
   },
   "outputs": [],
   "source": [
    "def word_features(tweet):\n",
    "    return dict([(word, True) for word in tokenize_string(tweet)])"
   ]
  },
  {
   "cell_type": "code",
   "execution_count": 6,
   "metadata": {
    "collapsed": true
   },
   "outputs": [],
   "source": [
    "def read_training_set(filename):\n",
    "    training = []\n",
    "    with open(filename) as file:\n",
    "        for line in file.readlines():\n",
    "            training.append((clean_tweet(line.split(\",\")[0]), line.split(\",\")[1].replace(\"\\n\", \"\")))\n",
    "    return training"
   ]
  },
  {
   "cell_type": "code",
   "execution_count": 7,
   "metadata": {
    "collapsed": true
   },
   "outputs": [],
   "source": [
    "def get_naive_bayes_classifier():\n",
    "    training_data = read_training_set(\"train.csv\")\n",
    "    train_features = []\n",
    "\n",
    "    for tweet in training_data:\n",
    "        train_features.append((word_features(tweet[0]), tweet[1]))\n",
    "    return NaiveBayesClassifier.train(train_features)"
   ]
  },
  {
   "cell_type": "code",
   "execution_count": 8,
   "metadata": {
    "collapsed": true
   },
   "outputs": [],
   "source": [
    "def classify_tweet(classifier, text):\n",
    "    text = clean_tweet(text)\n",
    "    predicted = classifier.classify(word_features(text))\n",
    "    return predicted"
   ]
  },
  {
   "cell_type": "code",
   "execution_count": 9,
   "metadata": {
    "collapsed": true
   },
   "outputs": [],
   "source": [
    "def classify_tweets(tweets):\n",
    "    classification = []\n",
    "    classifier = get_naive_bayes_classifier()\n",
    "\n",
    "    for key, value in tweets.items():\n",
    "        for text in value[\"tweets\"]:\n",
    "            sentiment = classify_tweet(classifier, text)\n",
    "            classification.append((text, sentiment))\n",
    "    return classification"
   ]
  },
  {
   "cell_type": "code",
   "execution_count": 10,
   "metadata": {
    "collapsed": true
   },
   "outputs": [],
   "source": [
    "def save_data(data, filename):\n",
    "    with open(filename, \"w\") as outfile:\n",
    "        json.dump(data, outfile)"
   ]
  },
  {
   "cell_type": "code",
   "execution_count": 13,
   "metadata": {
    "collapsed": true
   },
   "outputs": [],
   "source": [
    "if __name__ == \"__main__\":\n",
    "    tweets = read_file(\"tweets.json\")\n",
    "    classification = classify_tweets(tweets)\n",
    "    save_data(classification, \"classification.json\")"
   ]
  },
  {
   "cell_type": "code",
   "execution_count": null,
   "metadata": {
    "collapsed": true
   },
   "outputs": [],
   "source": []
  }
 ],
 "metadata": {
  "kernelspec": {
   "display_name": "Python [conda env:anaconda3]",
   "language": "python",
   "name": "conda-env-anaconda3-py"
  },
  "language_info": {
   "codemirror_mode": {
    "name": "ipython",
    "version": 3
   },
   "file_extension": ".py",
   "mimetype": "text/x-python",
   "name": "python",
   "nbconvert_exporter": "python",
   "pygments_lexer": "ipython3",
   "version": "3.5.2"
  }
 },
 "nbformat": 4,
 "nbformat_minor": 2
}
