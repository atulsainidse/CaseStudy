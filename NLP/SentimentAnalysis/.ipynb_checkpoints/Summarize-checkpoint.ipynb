{
 "cells": [
  {
   "cell_type": "code",
   "execution_count": 1,
   "metadata": {
    "collapsed": true
   },
   "outputs": [],
   "source": [
    "import json"
   ]
  },
  {
   "cell_type": "code",
   "execution_count": 2,
   "metadata": {
    "collapsed": true
   },
   "outputs": [],
   "source": [
    "def read_file(filename):\n",
    "    with open(filename) as datafile:\n",
    "        return json.load(datafile)"
   ]
  },
  {
   "cell_type": "code",
   "execution_count": 3,
   "metadata": {
    "collapsed": true
   },
   "outputs": [],
   "source": [
    "def get_num_users(communities):\n",
    "    count = 0\n",
    "    for key, value in communities.items():\n",
    "        count += len(value)\n",
    "    return count"
   ]
  },
  {
   "cell_type": "code",
   "execution_count": 4,
   "metadata": {
    "collapsed": true
   },
   "outputs": [],
   "source": [
    "def get_num_tweets(tweets):\n",
    "    count = 0\n",
    "    for key, value in tweets.items():\n",
    "        count += len(value[\"tweets\"])\n",
    "    return count"
   ]
  },
  {
   "cell_type": "code",
   "execution_count": 5,
   "metadata": {
    "collapsed": true
   },
   "outputs": [],
   "source": [
    "def get_instances_samples(classification):\n",
    "    samples = dict()\n",
    "    instances = dict()\n",
    "    instances[\"positive\"] = 0\n",
    "    instances[\"negative\"] = 0\n",
    "\n",
    "    for entry in classification:\n",
    "        if entry[1] == \"pos\":\n",
    "            samples[\"positive\"] = entry[0]\n",
    "            instances[\"positive\"] += 1\n",
    "        else:\n",
    "            samples[\"negative\"] = entry[0]\n",
    "            instances[\"negative\"] += 1\n",
    "    return instances, samples"
   ]
  },
  {
   "cell_type": "code",
   "execution_count": 6,
   "metadata": {
    "collapsed": true
   },
   "outputs": [],
   "source": [
    "def summarize():\n",
    "    tweets = read_file(\"tweets.json\")\n",
    "    communities = read_file(\"communities.json\")\n",
    "    classification = read_file(\"classification.json\")\n",
    "    file = open(\"summarize.txt\", \"w\")\n",
    "\n",
    "    num_users = get_num_users(communities)\n",
    "    file.write(\"Number of users collected: %d \\n\" % num_users)\n",
    "    file.write(\"Number of messages collected: %d \\n\" % get_num_tweets(tweets))\n",
    "    file.write(\"Number of communities discovered: %d \\n\" % len(communities))\n",
    "    file.write(\"Average number of users per community: %d \\n\" % (num_users // len(communities)))\n",
    "\n",
    "    instances, samples = get_instances_samples(classification)\n",
    "    file.write(\"\\nNumber of instances per class found: \\n\")\n",
    "    for instance, count in instances.items():\n",
    "        file.write(\"%s - %d \\n\" % (instance, count))\n",
    "\n",
    "    file.write(\"\\nOne example from each class: \\n\")\n",
    "    for instance, sample in samples.items():\n",
    "        file.write(\"%s - %s \\n\" % (instance, sample))\n",
    "\n",
    "    file.close()"
   ]
  },
  {
   "cell_type": "code",
   "execution_count": 10,
   "metadata": {
    "collapsed": false
   },
   "outputs": [],
   "source": [
    "if __name__ == \"__main__\":\n",
    "    summarize()"
   ]
  },
  {
   "cell_type": "code",
   "execution_count": null,
   "metadata": {
    "collapsed": true
   },
   "outputs": [],
   "source": []
  },
  {
   "cell_type": "code",
   "execution_count": null,
   "metadata": {
    "collapsed": true
   },
   "outputs": [],
   "source": []
  }
 ],
 "metadata": {
  "kernelspec": {
   "display_name": "Python [conda env:anaconda3]",
   "language": "python",
   "name": "conda-env-anaconda3-py"
  },
  "language_info": {
   "codemirror_mode": {
    "name": "ipython",
    "version": 3
   },
   "file_extension": ".py",
   "mimetype": "text/x-python",
   "name": "python",
   "nbconvert_exporter": "python",
   "pygments_lexer": "ipython3",
   "version": "3.5.2"
  }
 },
 "nbformat": 4,
 "nbformat_minor": 2
}
