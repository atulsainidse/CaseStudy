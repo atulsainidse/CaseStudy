{
 "cells": [
  {
   "cell_type": "code",
   "execution_count": null,
   "metadata": {
    "collapsed": false
   },
   "outputs": [],
   "source": [
    "# 1. Load dplyr\n",
    "if (!require(\"dplyr\")) {\n",
    "    message(\"Installing dplyr\")\n",
    "    install.packages(\"dplyr\")\n",
    "}"
   ]
  },
  {
   "cell_type": "code",
   "execution_count": null,
   "metadata": {
    "collapsed": false
   },
   "outputs": [],
   "source": [
    "# 2. Create project data directory\n",
    "if (!file.exists(\"./Data\")) \n",
    "{\n",
    "    message(\"Creating data directory\")\n",
    "    dir.create(\"./Data\")\n",
    "}"
   ]
  },
  {
   "cell_type": "raw",
   "metadata": {},
   "source": [
    "# 3. Download Human Activity Recognition dataset\n",
    "if (!file.exists(\"./Data/UCI_HAR_Dataset.zip\")) \n",
    "{\n",
    "    message(\"Downloading dataset\")\n",
    "    download.file(\"https://d396qusza40orc.cloudfront.net/getdata%2Fprojectfiles%2FUCI%20HAR%20Dataset.zip\", \n",
    "                  destfile = \"./Data/UCI_HAR_Dataset.zip\", \n",
    "                  method = \"internal\",\n",
    "                  mode = \"wb\")\n",
    "}"
   ]
  },
  {
   "cell_type": "code",
   "execution_count": null,
   "metadata": {
    "collapsed": false
   },
   "outputs": [],
   "source": [
    "# 4. Extract Human Activity Recognition dataset\n",
    "if (!file.exists(\"./Data/UCI HAR Dataset\")) \n",
    "{\n",
    "    message(\"Extracting dataset\")\n",
    "    unzip(\"./Data/UCI_HAR_Dataset.zip\", \n",
    "          overwrite = FALSE, \n",
    "          exdir = \"./Data\")\n",
    "}"
   ]
  },
  {
   "cell_type": "code",
   "execution_count": null,
   "metadata": {
    "collapsed": true
   },
   "outputs": [],
   "source": [
    "# 5. Load the features\n",
    "#   5.1 Identify the mean() and std() features\n",
    "#   5.2 Create syntactically valid variable names from the features \n",
    "#       to be used as column names for the training and test datasets\n",
    "features <- tbl_df(\n",
    "    read.table(\"./Data/UCI HAR Dataset/features.txt\", \n",
    "               col.names = c(\"Id\", \"Feature\")))\n",
    "\n",
    "features <- features %>% \n",
    "    mutate(Is.Mean = grepl(\"mean\\\\(\\\\)\", features$Feature)) %>%\n",
    "    mutate(Is.Std = grepl(\"std\\\\(\\\\)\", features$Feature)) %>%\n",
    "    mutate(Feature.Variable = make.names(features$Feature, unique = TRUE)) %>%\n",
    "    mutate(Feature.Variable = gsub(\"^t\", \"Time.\", Feature.Variable)) %>%\n",
    "    mutate(Feature.Variable = gsub(\"\\\\.t\", \".Time.\", Feature.Variable)) %>%\n",
    "    mutate(Feature.Variable = gsub(\"^f\", \"Frequency.\", Feature.Variable)) %>%\n",
    "    mutate(Feature.Variable = gsub(\"\\\\.f\", \".Frequency.\", Feature.Variable)) %>%\n",
    "    mutate(Feature.Variable = gsub(\"^angle\\\\.\", \"Angle.\", Feature.Variable)) %>%\n",
    "    mutate(Feature.Variable = gsub(\"BodyBody\", \"Body\", Feature.Variable)) %>%\n",
    "    mutate(Feature.Variable = gsub(\"Acc\", \".Acc\", Feature.Variable)) %>%\n",
    "    mutate(Feature.Variable = gsub(\"Gyro\", \".Gyro\", Feature.Variable)) %>%\n",
    "    mutate(Feature.Variable = gsub(\"Jerk\", \".Jerk\", Feature.Variable)) %>%\n",
    "    mutate(Feature.Variable = gsub(\"Mag\", \".Mag\", Feature.Variable)) %>%\n",
    "    mutate(Feature.Variable = gsub(\"\\\\.\\\\.\", \".\", Feature.Variable)) %>%\n",
    "    mutate(Feature.Variable = gsub(\"\\\\.\\\\.\", \".\", Feature.Variable)) %>%\n",
    "    mutate(Feature.Variable = gsub(\"\\\\.$\", \"\", Feature.Variable)) %>%\n",
    "    mutate(Feature.Variable = gsub(\"(^|[\\\\.])([[:alpha:]])\", \"\\\\1\\\\U\\\\2\", \n",
    "                    Feature.Variable, perl=TRUE))"
   ]
  },
  {
   "cell_type": "code",
   "execution_count": null,
   "metadata": {
    "collapsed": false
   },
   "outputs": [],
   "source": [
    "features"
   ]
  },
  {
   "cell_type": "code",
   "execution_count": null,
   "metadata": {
    "collapsed": false
   },
   "outputs": [],
   "source": [
    "# 6. Load activities\n",
    "activities <- tbl_df(\n",
    "    read.table(\"./Data/UCI HAR Dataset/activity_labels.txt\", \n",
    "               col.names = c(\"Id\", \"Activity\")))"
   ]
  },
  {
   "cell_type": "code",
   "execution_count": null,
   "metadata": {
    "collapsed": true
   },
   "outputs": [],
   "source": [
    "# 7. Load the training dataset\n",
    "#   7.1 Add training data column names from features\n",
    "#   7.2 Add subject data, and activity data to the training dataset\n",
    "train <- tbl_df(read.table(\"./Data/UCI HAR Dataset/train/X_train.txt\"))\n",
    "colnames(train) <- features$Feature.Variable\n",
    "train <- cbind(\n",
    "        rename(tbl_df(read.table(\"./Data/UCI HAR Dataset/train/subject_train.txt\")), \n",
    "               Subject.Id = V1),\n",
    "        rename(tbl_df(read.table(\"./Data/UCI HAR Dataset/train/y_train.txt\")),\n",
    "               Activity.Id = V1),\n",
    "        Dataset.Partition = c(\"Training\"),\n",
    "        train)"
   ]
  },
  {
   "cell_type": "code",
   "execution_count": null,
   "metadata": {
    "collapsed": false
   },
   "outputs": [],
   "source": [
    "head(train)"
   ]
  },
  {
   "cell_type": "code",
   "execution_count": null,
   "metadata": {
    "collapsed": true
   },
   "outputs": [],
   "source": [
    "# 8. Load the test dataset\n",
    "#   8.1 Add test data column names from features\n",
    "#   8.2 Add subject data, and activity data to the test dataset\n",
    "test <- tbl_df(read.table(\"./Data/UCI HAR Dataset/test/X_test.txt\"))\n",
    "colnames(test) <- features$Feature.Variable\n",
    "test <- cbind(\n",
    "    rename(tbl_df(read.table(\"./Data/UCI HAR Dataset/test/subject_test.txt\")), \n",
    "           Subject.Id = V1),\n",
    "    rename(tbl_df(read.table(\"./Data/UCI HAR Dataset/test/y_test.txt\")),\n",
    "           Activity.Id = V1),\n",
    "    Dataset.Partition = c(\"Test\"),\n",
    "    test)"
   ]
  },
  {
   "cell_type": "code",
   "execution_count": null,
   "metadata": {
    "collapsed": false
   },
   "outputs": [],
   "source": [
    "head(test)"
   ]
  },
  {
   "cell_type": "code",
   "execution_count": null,
   "metadata": {
    "collapsed": false
   },
   "outputs": [],
   "source": [
    "merged <- rbind(train, test)\n",
    "head(merged)"
   ]
  },
  {
   "cell_type": "code",
   "execution_count": null,
   "metadata": {
    "collapsed": false
   },
   "outputs": [],
   "source": [
    "merged <- rbind(train, test) %>% left_join(activities, by = c(\"Activity.Id\" = \"Id\")) %>%\n",
    "    select(Subject.Id, Activity,   \n",
    "           one_of(\n",
    "               filter(features, Is.Mean == TRUE | Is.Std == TRUE)\n",
    "head(merged)"
   ]
  },
  {
   "cell_type": "code",
   "execution_count": null,
   "metadata": {
    "collapsed": true
   },
   "outputs": [],
   "source": []
  },
  {
   "cell_type": "code",
   "execution_count": null,
   "metadata": {
    "collapsed": false
   },
   "outputs": [],
   "source": [
    "# 9. Merge the training and test datasets\n",
    "#   9.1 Add descriptive activity names from activities \n",
    "#   9.2 Select the mean and std deviation features only\n",
    "#   9.3 Group by subject and activity\n",
    "merged <- rbind(train, test) %>%\n",
    "    left_join(activities, by = c(\"Activity.Id\" = \"Id\")) %>%\n",
    "    select(Subject.Id, Activity,   \n",
    "           one_of(\n",
    "               filter(features, Is.Mean == TRUE | Is.Std == TRUE) %>%\n",
    "                   select(Feature.Variable) %>% .[[\"Feature.Variable\"]])) %>%\n",
    "    group_by(Subject.Id, Activity)"
   ]
  },
  {
   "cell_type": "code",
   "execution_count": null,
   "metadata": {
    "collapsed": false
   },
   "outputs": [],
   "source": [
    "# 10. Create a tidy summary of feature means grouped by subject and activity\n",
    "tidy_summary <- summarise_each(merged, funs(mean))\n",
    "tidy_summary"
   ]
  },
  {
   "cell_type": "code",
   "execution_count": null,
   "metadata": {
    "collapsed": true
   },
   "outputs": [],
   "source": [
    "# 11. Write tidy summary to file\n",
    "write.table(tidy_summary, \"tidy_summary.txt\", row.names = FALSE)"
   ]
  },
  {
   "cell_type": "code",
   "execution_count": null,
   "metadata": {
    "collapsed": true
   },
   "outputs": [],
   "source": []
  },
  {
   "cell_type": "code",
   "execution_count": null,
   "metadata": {
    "collapsed": true
   },
   "outputs": [],
   "source": []
  },
  {
   "cell_type": "code",
   "execution_count": null,
   "metadata": {
    "collapsed": true
   },
   "outputs": [],
   "source": []
  },
  {
   "cell_type": "code",
   "execution_count": null,
   "metadata": {
    "collapsed": true
   },
   "outputs": [],
   "source": []
  },
  {
   "cell_type": "code",
   "execution_count": 1,
   "metadata": {
    "collapsed": true
   },
   "outputs": [],
   "source": [
    "data_dir <- \"UCI HAR Dataset\"\n",
    "\n",
    "file_path <- function(...) { paste(data_dir,...,sep=\"/\") }"
   ]
  },
  {
   "cell_type": "code",
   "execution_count": 2,
   "metadata": {
    "collapsed": true
   },
   "outputs": [],
   "source": [
    "#Load the Data Set\n",
    "training_set <- read.table(\"./train/X_train.txt\")\n",
    "test_set <- read.table(\"./test/X_test.txt\")\n",
    "data_set1 <- rbind(training_set,test_set)"
   ]
  },
  {
   "cell_type": "code",
   "execution_count": 3,
   "metadata": {
    "collapsed": false
   },
   "outputs": [
    {
     "data": {
      "text/html": [
       "<ol class=list-inline>\n",
       "\t<li>10299</li>\n",
       "\t<li>561</li>\n",
       "</ol>\n"
      ],
      "text/latex": [
       "\\begin{enumerate*}\n",
       "\\item 10299\n",
       "\\item 561\n",
       "\\end{enumerate*}\n"
      ],
      "text/markdown": [
       "1. 10299\n",
       "2. 561\n",
       "\n",
       "\n"
      ],
      "text/plain": [
       "[1] 10299   561"
      ]
     },
     "metadata": {},
     "output_type": "display_data"
    }
   ],
   "source": [
    "dim(data_set1)"
   ]
  },
  {
   "cell_type": "code",
   "execution_count": 4,
   "metadata": {
    "collapsed": true
   },
   "outputs": [],
   "source": [
    "# Removing unused data\n",
    "rm(test_set,training_set)"
   ]
  },
  {
   "cell_type": "code",
   "execution_count": 8,
   "metadata": {
    "collapsed": true
   },
   "outputs": [],
   "source": [
    "#2. Extracts only the measurements on the mean and standard deviation for each\n",
    "#measurement. \n",
    "features_name <- read.table(\"./features.txt\")[,2]\n",
    "colnames(data_set1) <- features_name\n",
    "selected_measures <- grepl('-(mean|std)\\\\(',features_name)\n",
    "data_set <- subset(data_set1, select=selected_measures)"
   ]
  },
  {
   "cell_type": "code",
   "execution_count": 9,
   "metadata": {
    "collapsed": false
   },
   "outputs": [
    {
     "data": {
      "text/html": [
       "<ol class=list-inline>\n",
       "\t<li>10299</li>\n",
       "\t<li>66</li>\n",
       "</ol>\n"
      ],
      "text/latex": [
       "\\begin{enumerate*}\n",
       "\\item 10299\n",
       "\\item 66\n",
       "\\end{enumerate*}\n"
      ],
      "text/markdown": [
       "1. 10299\n",
       "2. 66\n",
       "\n",
       "\n"
      ],
      "text/plain": [
       "[1] 10299    66"
      ]
     },
     "metadata": {},
     "output_type": "display_data"
    }
   ],
   "source": [
    "dim(data_set)"
   ]
  },
  {
   "cell_type": "code",
   "execution_count": 10,
   "metadata": {
    "collapsed": false
   },
   "outputs": [
    {
     "data": {
      "text/html": [
       "<ol class=list-inline>\n",
       "\t<li>'MeanOfTimeBodyAccMeanX'</li>\n",
       "\t<li>'MeanOfTimeBodyAccMeanY'</li>\n",
       "\t<li>'MeanOfTimeBodyAccMeanZ'</li>\n",
       "\t<li>'MeanOfTimeBodyAccStdX'</li>\n",
       "\t<li>'MeanOfTimeBodyAccStdY'</li>\n",
       "\t<li>'MeanOfTimeBodyAccStdZ'</li>\n",
       "\t<li>'MeanOfTimeGravityAccMeanX'</li>\n",
       "\t<li>'MeanOfTimeGravityAccMeanY'</li>\n",
       "\t<li>'MeanOfTimeGravityAccMeanZ'</li>\n",
       "\t<li>'MeanOfTimeGravityAccStdX'</li>\n",
       "\t<li>'MeanOfTimeGravityAccStdY'</li>\n",
       "\t<li>'MeanOfTimeGravityAccStdZ'</li>\n",
       "\t<li>'MeanOfTimeBodyAccJerkMeanX'</li>\n",
       "\t<li>'MeanOfTimeBodyAccJerkMeanY'</li>\n",
       "\t<li>'MeanOfTimeBodyAccJerkMeanZ'</li>\n",
       "\t<li>'MeanOfTimeBodyAccJerkStdX'</li>\n",
       "\t<li>'MeanOfTimeBodyAccJerkStdY'</li>\n",
       "\t<li>'MeanOfTimeBodyAccJerkStdZ'</li>\n",
       "\t<li>'MeanOfTimeBodyGyroMeanX'</li>\n",
       "\t<li>'MeanOfTimeBodyGyroMeanY'</li>\n",
       "\t<li>'MeanOfTimeBodyGyroMeanZ'</li>\n",
       "\t<li>'MeanOfTimeBodyGyroStdX'</li>\n",
       "\t<li>'MeanOfTimeBodyGyroStdY'</li>\n",
       "\t<li>'MeanOfTimeBodyGyroStdZ'</li>\n",
       "\t<li>'MeanOfTimeBodyGyroJerkMeanX'</li>\n",
       "\t<li>'MeanOfTimeBodyGyroJerkMeanY'</li>\n",
       "\t<li>'MeanOfTimeBodyGyroJerkMeanZ'</li>\n",
       "\t<li>'MeanOfTimeBodyGyroJerkStdX'</li>\n",
       "\t<li>'MeanOfTimeBodyGyroJerkStdY'</li>\n",
       "\t<li>'MeanOfTimeBodyGyroJerkStdZ'</li>\n",
       "\t<li>'MeanOfTimeBodyAccMagMean'</li>\n",
       "\t<li>'MeanOfTimeBodyAccMagStd'</li>\n",
       "\t<li>'MeanOfTimeGravityAccMagMean'</li>\n",
       "\t<li>'MeanOfTimeGravityAccMagStd'</li>\n",
       "\t<li>'MeanOfTimeBodyAccJerkMagMean'</li>\n",
       "\t<li>'MeanOfTimeBodyAccJerkMagStd'</li>\n",
       "\t<li>'MeanOfTimeBodyGyroMagMean'</li>\n",
       "\t<li>'MeanOfTimeBodyGyroMagStd'</li>\n",
       "\t<li>'MeanOfTimeBodyGyroJerkMagMean'</li>\n",
       "\t<li>'MeanOfTimeBodyGyroJerkMagStd'</li>\n",
       "\t<li>'MeanOfFrequencyBodyAccMeanX'</li>\n",
       "\t<li>'MeanOfFrequencyBodyAccMeanY'</li>\n",
       "\t<li>'MeanOfFrequencyBodyAccMeanZ'</li>\n",
       "\t<li>'MeanOfFrequencyBodyAccStdX'</li>\n",
       "\t<li>'MeanOfFrequencyBodyAccStdY'</li>\n",
       "\t<li>'MeanOfFrequencyBodyAccStdZ'</li>\n",
       "\t<li>'MeanOfFrequencyBodyAccJerkMeanX'</li>\n",
       "\t<li>'MeanOfFrequencyBodyAccJerkMeanY'</li>\n",
       "\t<li>'MeanOfFrequencyBodyAccJerkMeanZ'</li>\n",
       "\t<li>'MeanOfFrequencyBodyAccJerkStdX'</li>\n",
       "\t<li>'MeanOfFrequencyBodyAccJerkStdY'</li>\n",
       "\t<li>'MeanOfFrequencyBodyAccJerkStdZ'</li>\n",
       "\t<li>'MeanOfFrequencyBodyGyroMeanX'</li>\n",
       "\t<li>'MeanOfFrequencyBodyGyroMeanY'</li>\n",
       "\t<li>'MeanOfFrequencyBodyGyroMeanZ'</li>\n",
       "\t<li>'MeanOfFrequencyBodyGyroStdX'</li>\n",
       "\t<li>'MeanOfFrequencyBodyGyroStdY'</li>\n",
       "\t<li>'MeanOfFrequencyBodyGyroStdZ'</li>\n",
       "\t<li>'MeanOfFrequencyBodyAccMagMean'</li>\n",
       "\t<li>'MeanOfFrequencyBodyAccMagStd'</li>\n",
       "\t<li>'MeanOfFrequencyBodyAccJerkMagMean'</li>\n",
       "\t<li>'MeanOfFrequencyBodyAccJerkMagStd'</li>\n",
       "\t<li>'MeanOfFrequencyBodyGyroMagMean'</li>\n",
       "\t<li>'MeanOfFrequencyBodyGyroMagStd'</li>\n",
       "\t<li>'MeanOfFrequencyBodyGyroJerkMagMean'</li>\n",
       "\t<li>'MeanOfFrequencyBodyGyroJerkMagStd'</li>\n",
       "</ol>\n"
      ],
      "text/latex": [
       "\\begin{enumerate*}\n",
       "\\item 'MeanOfTimeBodyAccMeanX'\n",
       "\\item 'MeanOfTimeBodyAccMeanY'\n",
       "\\item 'MeanOfTimeBodyAccMeanZ'\n",
       "\\item 'MeanOfTimeBodyAccStdX'\n",
       "\\item 'MeanOfTimeBodyAccStdY'\n",
       "\\item 'MeanOfTimeBodyAccStdZ'\n",
       "\\item 'MeanOfTimeGravityAccMeanX'\n",
       "\\item 'MeanOfTimeGravityAccMeanY'\n",
       "\\item 'MeanOfTimeGravityAccMeanZ'\n",
       "\\item 'MeanOfTimeGravityAccStdX'\n",
       "\\item 'MeanOfTimeGravityAccStdY'\n",
       "\\item 'MeanOfTimeGravityAccStdZ'\n",
       "\\item 'MeanOfTimeBodyAccJerkMeanX'\n",
       "\\item 'MeanOfTimeBodyAccJerkMeanY'\n",
       "\\item 'MeanOfTimeBodyAccJerkMeanZ'\n",
       "\\item 'MeanOfTimeBodyAccJerkStdX'\n",
       "\\item 'MeanOfTimeBodyAccJerkStdY'\n",
       "\\item 'MeanOfTimeBodyAccJerkStdZ'\n",
       "\\item 'MeanOfTimeBodyGyroMeanX'\n",
       "\\item 'MeanOfTimeBodyGyroMeanY'\n",
       "\\item 'MeanOfTimeBodyGyroMeanZ'\n",
       "\\item 'MeanOfTimeBodyGyroStdX'\n",
       "\\item 'MeanOfTimeBodyGyroStdY'\n",
       "\\item 'MeanOfTimeBodyGyroStdZ'\n",
       "\\item 'MeanOfTimeBodyGyroJerkMeanX'\n",
       "\\item 'MeanOfTimeBodyGyroJerkMeanY'\n",
       "\\item 'MeanOfTimeBodyGyroJerkMeanZ'\n",
       "\\item 'MeanOfTimeBodyGyroJerkStdX'\n",
       "\\item 'MeanOfTimeBodyGyroJerkStdY'\n",
       "\\item 'MeanOfTimeBodyGyroJerkStdZ'\n",
       "\\item 'MeanOfTimeBodyAccMagMean'\n",
       "\\item 'MeanOfTimeBodyAccMagStd'\n",
       "\\item 'MeanOfTimeGravityAccMagMean'\n",
       "\\item 'MeanOfTimeGravityAccMagStd'\n",
       "\\item 'MeanOfTimeBodyAccJerkMagMean'\n",
       "\\item 'MeanOfTimeBodyAccJerkMagStd'\n",
       "\\item 'MeanOfTimeBodyGyroMagMean'\n",
       "\\item 'MeanOfTimeBodyGyroMagStd'\n",
       "\\item 'MeanOfTimeBodyGyroJerkMagMean'\n",
       "\\item 'MeanOfTimeBodyGyroJerkMagStd'\n",
       "\\item 'MeanOfFrequencyBodyAccMeanX'\n",
       "\\item 'MeanOfFrequencyBodyAccMeanY'\n",
       "\\item 'MeanOfFrequencyBodyAccMeanZ'\n",
       "\\item 'MeanOfFrequencyBodyAccStdX'\n",
       "\\item 'MeanOfFrequencyBodyAccStdY'\n",
       "\\item 'MeanOfFrequencyBodyAccStdZ'\n",
       "\\item 'MeanOfFrequencyBodyAccJerkMeanX'\n",
       "\\item 'MeanOfFrequencyBodyAccJerkMeanY'\n",
       "\\item 'MeanOfFrequencyBodyAccJerkMeanZ'\n",
       "\\item 'MeanOfFrequencyBodyAccJerkStdX'\n",
       "\\item 'MeanOfFrequencyBodyAccJerkStdY'\n",
       "\\item 'MeanOfFrequencyBodyAccJerkStdZ'\n",
       "\\item 'MeanOfFrequencyBodyGyroMeanX'\n",
       "\\item 'MeanOfFrequencyBodyGyroMeanY'\n",
       "\\item 'MeanOfFrequencyBodyGyroMeanZ'\n",
       "\\item 'MeanOfFrequencyBodyGyroStdX'\n",
       "\\item 'MeanOfFrequencyBodyGyroStdY'\n",
       "\\item 'MeanOfFrequencyBodyGyroStdZ'\n",
       "\\item 'MeanOfFrequencyBodyAccMagMean'\n",
       "\\item 'MeanOfFrequencyBodyAccMagStd'\n",
       "\\item 'MeanOfFrequencyBodyAccJerkMagMean'\n",
       "\\item 'MeanOfFrequencyBodyAccJerkMagStd'\n",
       "\\item 'MeanOfFrequencyBodyGyroMagMean'\n",
       "\\item 'MeanOfFrequencyBodyGyroMagStd'\n",
       "\\item 'MeanOfFrequencyBodyGyroJerkMagMean'\n",
       "\\item 'MeanOfFrequencyBodyGyroJerkMagStd'\n",
       "\\end{enumerate*}\n"
      ],
      "text/markdown": [
       "1. 'MeanOfTimeBodyAccMeanX'\n",
       "2. 'MeanOfTimeBodyAccMeanY'\n",
       "3. 'MeanOfTimeBodyAccMeanZ'\n",
       "4. 'MeanOfTimeBodyAccStdX'\n",
       "5. 'MeanOfTimeBodyAccStdY'\n",
       "6. 'MeanOfTimeBodyAccStdZ'\n",
       "7. 'MeanOfTimeGravityAccMeanX'\n",
       "8. 'MeanOfTimeGravityAccMeanY'\n",
       "9. 'MeanOfTimeGravityAccMeanZ'\n",
       "10. 'MeanOfTimeGravityAccStdX'\n",
       "11. 'MeanOfTimeGravityAccStdY'\n",
       "12. 'MeanOfTimeGravityAccStdZ'\n",
       "13. 'MeanOfTimeBodyAccJerkMeanX'\n",
       "14. 'MeanOfTimeBodyAccJerkMeanY'\n",
       "15. 'MeanOfTimeBodyAccJerkMeanZ'\n",
       "16. 'MeanOfTimeBodyAccJerkStdX'\n",
       "17. 'MeanOfTimeBodyAccJerkStdY'\n",
       "18. 'MeanOfTimeBodyAccJerkStdZ'\n",
       "19. 'MeanOfTimeBodyGyroMeanX'\n",
       "20. 'MeanOfTimeBodyGyroMeanY'\n",
       "21. 'MeanOfTimeBodyGyroMeanZ'\n",
       "22. 'MeanOfTimeBodyGyroStdX'\n",
       "23. 'MeanOfTimeBodyGyroStdY'\n",
       "24. 'MeanOfTimeBodyGyroStdZ'\n",
       "25. 'MeanOfTimeBodyGyroJerkMeanX'\n",
       "26. 'MeanOfTimeBodyGyroJerkMeanY'\n",
       "27. 'MeanOfTimeBodyGyroJerkMeanZ'\n",
       "28. 'MeanOfTimeBodyGyroJerkStdX'\n",
       "29. 'MeanOfTimeBodyGyroJerkStdY'\n",
       "30. 'MeanOfTimeBodyGyroJerkStdZ'\n",
       "31. 'MeanOfTimeBodyAccMagMean'\n",
       "32. 'MeanOfTimeBodyAccMagStd'\n",
       "33. 'MeanOfTimeGravityAccMagMean'\n",
       "34. 'MeanOfTimeGravityAccMagStd'\n",
       "35. 'MeanOfTimeBodyAccJerkMagMean'\n",
       "36. 'MeanOfTimeBodyAccJerkMagStd'\n",
       "37. 'MeanOfTimeBodyGyroMagMean'\n",
       "38. 'MeanOfTimeBodyGyroMagStd'\n",
       "39. 'MeanOfTimeBodyGyroJerkMagMean'\n",
       "40. 'MeanOfTimeBodyGyroJerkMagStd'\n",
       "41. 'MeanOfFrequencyBodyAccMeanX'\n",
       "42. 'MeanOfFrequencyBodyAccMeanY'\n",
       "43. 'MeanOfFrequencyBodyAccMeanZ'\n",
       "44. 'MeanOfFrequencyBodyAccStdX'\n",
       "45. 'MeanOfFrequencyBodyAccStdY'\n",
       "46. 'MeanOfFrequencyBodyAccStdZ'\n",
       "47. 'MeanOfFrequencyBodyAccJerkMeanX'\n",
       "48. 'MeanOfFrequencyBodyAccJerkMeanY'\n",
       "49. 'MeanOfFrequencyBodyAccJerkMeanZ'\n",
       "50. 'MeanOfFrequencyBodyAccJerkStdX'\n",
       "51. 'MeanOfFrequencyBodyAccJerkStdY'\n",
       "52. 'MeanOfFrequencyBodyAccJerkStdZ'\n",
       "53. 'MeanOfFrequencyBodyGyroMeanX'\n",
       "54. 'MeanOfFrequencyBodyGyroMeanY'\n",
       "55. 'MeanOfFrequencyBodyGyroMeanZ'\n",
       "56. 'MeanOfFrequencyBodyGyroStdX'\n",
       "57. 'MeanOfFrequencyBodyGyroStdY'\n",
       "58. 'MeanOfFrequencyBodyGyroStdZ'\n",
       "59. 'MeanOfFrequencyBodyAccMagMean'\n",
       "60. 'MeanOfFrequencyBodyAccMagStd'\n",
       "61. 'MeanOfFrequencyBodyAccJerkMagMean'\n",
       "62. 'MeanOfFrequencyBodyAccJerkMagStd'\n",
       "63. 'MeanOfFrequencyBodyGyroMagMean'\n",
       "64. 'MeanOfFrequencyBodyGyroMagStd'\n",
       "65. 'MeanOfFrequencyBodyGyroJerkMagMean'\n",
       "66. 'MeanOfFrequencyBodyGyroJerkMagStd'\n",
       "\n",
       "\n"
      ],
      "text/plain": [
       " [1] \"MeanOfTimeBodyAccMeanX\"             \"MeanOfTimeBodyAccMeanY\"            \n",
       " [3] \"MeanOfTimeBodyAccMeanZ\"             \"MeanOfTimeBodyAccStdX\"             \n",
       " [5] \"MeanOfTimeBodyAccStdY\"              \"MeanOfTimeBodyAccStdZ\"             \n",
       " [7] \"MeanOfTimeGravityAccMeanX\"          \"MeanOfTimeGravityAccMeanY\"         \n",
       " [9] \"MeanOfTimeGravityAccMeanZ\"          \"MeanOfTimeGravityAccStdX\"          \n",
       "[11] \"MeanOfTimeGravityAccStdY\"           \"MeanOfTimeGravityAccStdZ\"          \n",
       "[13] \"MeanOfTimeBodyAccJerkMeanX\"         \"MeanOfTimeBodyAccJerkMeanY\"        \n",
       "[15] \"MeanOfTimeBodyAccJerkMeanZ\"         \"MeanOfTimeBodyAccJerkStdX\"         \n",
       "[17] \"MeanOfTimeBodyAccJerkStdY\"          \"MeanOfTimeBodyAccJerkStdZ\"         \n",
       "[19] \"MeanOfTimeBodyGyroMeanX\"            \"MeanOfTimeBodyGyroMeanY\"           \n",
       "[21] \"MeanOfTimeBodyGyroMeanZ\"            \"MeanOfTimeBodyGyroStdX\"            \n",
       "[23] \"MeanOfTimeBodyGyroStdY\"             \"MeanOfTimeBodyGyroStdZ\"            \n",
       "[25] \"MeanOfTimeBodyGyroJerkMeanX\"        \"MeanOfTimeBodyGyroJerkMeanY\"       \n",
       "[27] \"MeanOfTimeBodyGyroJerkMeanZ\"        \"MeanOfTimeBodyGyroJerkStdX\"        \n",
       "[29] \"MeanOfTimeBodyGyroJerkStdY\"         \"MeanOfTimeBodyGyroJerkStdZ\"        \n",
       "[31] \"MeanOfTimeBodyAccMagMean\"           \"MeanOfTimeBodyAccMagStd\"           \n",
       "[33] \"MeanOfTimeGravityAccMagMean\"        \"MeanOfTimeGravityAccMagStd\"        \n",
       "[35] \"MeanOfTimeBodyAccJerkMagMean\"       \"MeanOfTimeBodyAccJerkMagStd\"       \n",
       "[37] \"MeanOfTimeBodyGyroMagMean\"          \"MeanOfTimeBodyGyroMagStd\"          \n",
       "[39] \"MeanOfTimeBodyGyroJerkMagMean\"      \"MeanOfTimeBodyGyroJerkMagStd\"      \n",
       "[41] \"MeanOfFrequencyBodyAccMeanX\"        \"MeanOfFrequencyBodyAccMeanY\"       \n",
       "[43] \"MeanOfFrequencyBodyAccMeanZ\"        \"MeanOfFrequencyBodyAccStdX\"        \n",
       "[45] \"MeanOfFrequencyBodyAccStdY\"         \"MeanOfFrequencyBodyAccStdZ\"        \n",
       "[47] \"MeanOfFrequencyBodyAccJerkMeanX\"    \"MeanOfFrequencyBodyAccJerkMeanY\"   \n",
       "[49] \"MeanOfFrequencyBodyAccJerkMeanZ\"    \"MeanOfFrequencyBodyAccJerkStdX\"    \n",
       "[51] \"MeanOfFrequencyBodyAccJerkStdY\"     \"MeanOfFrequencyBodyAccJerkStdZ\"    \n",
       "[53] \"MeanOfFrequencyBodyGyroMeanX\"       \"MeanOfFrequencyBodyGyroMeanY\"      \n",
       "[55] \"MeanOfFrequencyBodyGyroMeanZ\"       \"MeanOfFrequencyBodyGyroStdX\"       \n",
       "[57] \"MeanOfFrequencyBodyGyroStdY\"        \"MeanOfFrequencyBodyGyroStdZ\"       \n",
       "[59] \"MeanOfFrequencyBodyAccMagMean\"      \"MeanOfFrequencyBodyAccMagStd\"      \n",
       "[61] \"MeanOfFrequencyBodyAccJerkMagMean\"  \"MeanOfFrequencyBodyAccJerkMagStd\"  \n",
       "[63] \"MeanOfFrequencyBodyGyroMagMean\"     \"MeanOfFrequencyBodyGyroMagStd\"     \n",
       "[65] \"MeanOfFrequencyBodyGyroJerkMagMean\" \"MeanOfFrequencyBodyGyroJerkMagStd\" "
      ]
     },
     "metadata": {},
     "output_type": "display_data"
    },
    {
     "data": {
      "text/html": [
       "<table>\n",
       "<thead><tr><th scope=col>MeanOfTimeBodyAccMeanX</th><th scope=col>MeanOfTimeBodyAccMeanY</th><th scope=col>MeanOfTimeBodyAccMeanZ</th><th scope=col>MeanOfTimeBodyAccStdX</th><th scope=col>MeanOfTimeBodyAccStdY</th></tr></thead>\n",
       "<tbody>\n",
       "\t<tr><td>0.2885845  </td><td>-0.02029417</td><td>-0.1329051 </td><td>-0.9952786 </td><td>-0.9831106 </td></tr>\n",
       "\t<tr><td>0.2784188  </td><td>-0.01641057</td><td>-0.1235202 </td><td>-0.9982453 </td><td>-0.9753002 </td></tr>\n",
       "\t<tr><td>0.2796531  </td><td>-0.01946716</td><td>-0.1134617 </td><td>-0.9953796 </td><td>-0.9671870 </td></tr>\n",
       "\t<tr><td>0.2791739  </td><td>-0.02620065</td><td>-0.1232826 </td><td>-0.9960915 </td><td>-0.9834027 </td></tr>\n",
       "</tbody>\n",
       "</table>\n"
      ],
      "text/latex": [
       "\\begin{tabular}{r|lllll}\n",
       " MeanOfTimeBodyAccMeanX & MeanOfTimeBodyAccMeanY & MeanOfTimeBodyAccMeanZ & MeanOfTimeBodyAccStdX & MeanOfTimeBodyAccStdY\\\\\n",
       "\\hline\n",
       "\t 0.2885845   & -0.02029417 & -0.1329051  & -0.9952786  & -0.9831106 \\\\\n",
       "\t 0.2784188   & -0.01641057 & -0.1235202  & -0.9982453  & -0.9753002 \\\\\n",
       "\t 0.2796531   & -0.01946716 & -0.1134617  & -0.9953796  & -0.9671870 \\\\\n",
       "\t 0.2791739   & -0.02620065 & -0.1232826  & -0.9960915  & -0.9834027 \\\\\n",
       "\\end{tabular}\n"
      ],
      "text/markdown": [
       "\n",
       "MeanOfTimeBodyAccMeanX | MeanOfTimeBodyAccMeanY | MeanOfTimeBodyAccMeanZ | MeanOfTimeBodyAccStdX | MeanOfTimeBodyAccStdY | \n",
       "|---|---|---|---|\n",
       "| 0.2885845   | -0.02029417 | -0.1329051  | -0.9952786  | -0.9831106  | \n",
       "| 0.2784188   | -0.01641057 | -0.1235202  | -0.9982453  | -0.9753002  | \n",
       "| 0.2796531   | -0.01946716 | -0.1134617  | -0.9953796  | -0.9671870  | \n",
       "| 0.2791739   | -0.02620065 | -0.1232826  | -0.9960915  | -0.9834027  | \n",
       "\n",
       "\n"
      ],
      "text/plain": [
       "  MeanOfTimeBodyAccMeanX MeanOfTimeBodyAccMeanY MeanOfTimeBodyAccMeanZ\n",
       "1 0.2885845              -0.02029417            -0.1329051            \n",
       "2 0.2784188              -0.01641057            -0.1235202            \n",
       "3 0.2796531              -0.01946716            -0.1134617            \n",
       "4 0.2791739              -0.02620065            -0.1232826            \n",
       "  MeanOfTimeBodyAccStdX MeanOfTimeBodyAccStdY\n",
       "1 -0.9952786            -0.9831106           \n",
       "2 -0.9982453            -0.9753002           \n",
       "3 -0.9953796            -0.9671870           \n",
       "4 -0.9960915            -0.9834027           "
      ]
     },
     "metadata": {},
     "output_type": "display_data"
    }
   ],
   "source": [
    "#4. Appropriately labels the data set with descriptive variable names. \n",
    "colnames(data_set) <- gsub(\"mean\", \"Mean.\", colnames(data_set))\n",
    "colnames(data_set) <- gsub(\"std\", \"Std.\", colnames(data_set))\n",
    "colnames(data_set) <- gsub(\"^t\", \"Time.\", colnames(data_set))\n",
    "colnames(data_set) <- gsub(\"^f\", \"Frequency.\", colnames(data_set))\n",
    "colnames(data_set) <- gsub(\"\\\\(\\\\)\", \"\", colnames(data_set))\n",
    "colnames(data_set) <- gsub(\"-\", \"\", colnames(data_set))\n",
    "colnames(data_set) <- gsub(\"BodyBody\", \"Body.\", colnames(data_set))\n",
    "colnames(data_set) <- gsub(\"^\", \"MeanOf.\", colnames(data_set))\n",
    "colnames(data_set)\n",
    "data_set[1:4,1:5]"
   ]
  },
  {
   "cell_type": "code",
   "execution_count": null,
   "metadata": {
    "collapsed": false
   },
   "outputs": [],
   "source": [
    "#3. Uses descriptive activity names to name the activities in the data set\n",
    "activities_train <- read.table(\"train/y_train.txt\")\n",
    "activities_test <- read.table(\"test/y_test.txt\")\n",
    "activities <- rbind(activities_train,activities_test)[,1]\n",
    "labels <- c(\"WALKING\", \"WALKING_UPSTAIRS\", \"WALKING_DOWNSTAIRS\",\n",
    "            \"SITTING\", \"STANDING\", \"LAYING\")\n",
    "activities <- labels[activities]\n",
    "data_set <- cbind(Activity = activities,data_set)\n",
    "data_set[1:4,1:5]"
   ]
  },
  {
   "cell_type": "code",
   "execution_count": null,
   "metadata": {
    "collapsed": false
   },
   "outputs": [],
   "source": [
    "#5. From the data set in step 4, creates a second, independent tidy data set \n",
    "#with the average of each variable for each activity and each subject.\n",
    "subjects_train <- read.table(\"train/subject_train.txt\")\n",
    "subjects_test <- read.table(\"test/subject_test.txt\")\n",
    "subjects <- rbind(subjects_train,subjects_test)[,1]\n",
    "data_set <- cbind(Subject = subjects,data_set)\n",
    "data_set[1:4,1:5]"
   ]
  },
  {
   "cell_type": "code",
   "execution_count": null,
   "metadata": {
    "collapsed": false
   },
   "outputs": [],
   "source": [
    "library('dplyr')\n",
    "average_data_set <- data_set %>%\n",
    "    group_by(Subject,Activity) %>%\n",
    "    summarise_each(funs(mean))"
   ]
  },
  {
   "cell_type": "code",
   "execution_count": null,
   "metadata": {
    "collapsed": true
   },
   "outputs": [],
   "source": [
    "average_data_set"
   ]
  },
  {
   "cell_type": "code",
   "execution_count": null,
   "metadata": {
    "collapsed": false
   },
   "outputs": [],
   "source": [
    "dim(average_data_set)"
   ]
  },
  {
   "cell_type": "code",
   "execution_count": null,
   "metadata": {
    "collapsed": true
   },
   "outputs": [],
   "source": [
    "write.table(average_data_set,row.name = FALSE,file = \"tidy_data_set.txt\")    "
   ]
  },
  {
   "cell_type": "code",
   "execution_count": null,
   "metadata": {
    "collapsed": true
   },
   "outputs": [],
   "source": []
  }
 ],
 "metadata": {
  "anaconda-cloud": {},
  "kernelspec": {
   "display_name": "R",
   "language": "R",
   "name": "ir"
  },
  "language_info": {
   "codemirror_mode": "r",
   "file_extension": ".r",
   "mimetype": "text/x-r-source",
   "name": "R",
   "pygments_lexer": "r",
   "version": "3.3.2"
  }
 },
 "nbformat": 4,
 "nbformat_minor": 2
}
