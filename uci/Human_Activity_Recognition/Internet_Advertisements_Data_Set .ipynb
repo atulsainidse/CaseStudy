{
 "cells": [
  {
   "cell_type": "markdown",
   "metadata": {},
   "source": [
    "## Internet Advertisements Data Set  \n",
    "\n",
    "Using the attributes given, predict whether an image is an advertisement (“ad”) or not (“nonad”)"
   ]
  },
  {
   "cell_type": "code",
   "execution_count": null,
   "metadata": {
    "collapsed": true
   },
   "outputs": [],
   "source": [
    "train <- tbl_df(read.table(\"./train/X_train.txt\"))\n",
    "colnames(train) <- attributeNames #features$feature.Variable"
   ]
  }
 ],
 "metadata": {
  "anaconda-cloud": {},
  "kernelspec": {
   "display_name": "R",
   "language": "R",
   "name": "ir"
  },
  "language_info": {
   "codemirror_mode": "r",
   "file_extension": ".r",
   "mimetype": "text/x-r-source",
   "name": "R",
   "pygments_lexer": "r",
   "version": "3.3.2"
  }
 },
 "nbformat": 4,
 "nbformat_minor": 2
}
