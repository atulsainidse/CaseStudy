{
 "cells": [
  {
   "cell_type": "code",
   "execution_count": null,
   "metadata": {
    "collapsed": false
   },
   "outputs": [],
   "source": [
    "# 1. Load dplyr\n",
    "if (!require(\"dplyr\")) {\n",
    "    message(\"Installing dplyr\")\n",
    "    install.packages(\"dplyr\")\n",
    "}"
   ]
  },
  {
   "cell_type": "code",
   "execution_count": null,
   "metadata": {
    "collapsed": false
   },
   "outputs": [],
   "source": [
    "# 2. Create project data directory\n",
    "if (!file.exists(\"./Data\")) \n",
    "{\n",
    "    message(\"Creating data directory\")\n",
    "    dir.create(\"./Data\")\n",
    "}"
   ]
  },
  {
   "cell_type": "raw",
   "metadata": {},
   "source": [
    "# 3. Download Human Activity Recognition dataset\n",
    "if (!file.exists(\"./Data/UCI_HAR_Dataset.zip\")) \n",
    "{\n",
    "    message(\"Downloading dataset\")\n",
    "    download.file(\"https://d396qusza40orc.cloudfront.net/getdata%2Fprojectfiles%2FUCI%20HAR%20Dataset.zip\", \n",
    "                  destfile = \"./Data/UCI_HAR_Dataset.zip\", \n",
    "                  method = \"internal\",\n",
    "                  mode = \"wb\")\n",
    "}"
   ]
  },
  {
   "cell_type": "code",
   "execution_count": null,
   "metadata": {
    "collapsed": false
   },
   "outputs": [],
   "source": [
    "# 4. Extract Human Activity Recognition dataset\n",
    "if (!file.exists(\"./Data/UCI HAR Dataset\")) \n",
    "{\n",
    "    message(\"Extracting dataset\")\n",
    "    unzip(\"./Data/UCI_HAR_Dataset.zip\", \n",
    "          overwrite = FALSE, \n",
    "          exdir = \"./Data\")\n",
    "}"
   ]
  },
  {
   "cell_type": "code",
   "execution_count": null,
   "metadata": {
    "collapsed": true
   },
   "outputs": [],
   "source": [
    "# 5. Load the features\n",
    "#   5.1 Identify the mean() and std() features\n",
    "#   5.2 Create syntactically valid variable names from the features \n",
    "#       to be used as column names for the training and test datasets\n",
    "features <- tbl_df(\n",
    "    read.table(\"./Data/UCI HAR Dataset/features.txt\", \n",
    "               col.names = c(\"Id\", \"Feature\")))\n",
    "\n",
    "features <- features %>% \n",
    "    mutate(Is.Mean = grepl(\"mean\\\\(\\\\)\", features$Feature)) %>%\n",
    "    mutate(Is.Std = grepl(\"std\\\\(\\\\)\", features$Feature)) %>%\n",
    "    mutate(Feature.Variable = make.names(features$Feature, unique = TRUE)) %>%\n",
    "    mutate(Feature.Variable = gsub(\"^t\", \"Time.\", Feature.Variable)) %>%\n",
    "    mutate(Feature.Variable = gsub(\"\\\\.t\", \".Time.\", Feature.Variable)) %>%\n",
    "    mutate(Feature.Variable = gsub(\"^f\", \"Frequency.\", Feature.Variable)) %>%\n",
    "    mutate(Feature.Variable = gsub(\"\\\\.f\", \".Frequency.\", Feature.Variable)) %>%\n",
    "    mutate(Feature.Variable = gsub(\"^angle\\\\.\", \"Angle.\", Feature.Variable)) %>%\n",
    "    mutate(Feature.Variable = gsub(\"BodyBody\", \"Body\", Feature.Variable)) %>%\n",
    "    mutate(Feature.Variable = gsub(\"Acc\", \".Acc\", Feature.Variable)) %>%\n",
    "    mutate(Feature.Variable = gsub(\"Gyro\", \".Gyro\", Feature.Variable)) %>%\n",
    "    mutate(Feature.Variable = gsub(\"Jerk\", \".Jerk\", Feature.Variable)) %>%\n",
    "    mutate(Feature.Variable = gsub(\"Mag\", \".Mag\", Feature.Variable)) %>%\n",
    "    mutate(Feature.Variable = gsub(\"\\\\.\\\\.\", \".\", Feature.Variable)) %>%\n",
    "    mutate(Feature.Variable = gsub(\"\\\\.\\\\.\", \".\", Feature.Variable)) %>%\n",
    "    mutate(Feature.Variable = gsub(\"\\\\.$\", \"\", Feature.Variable)) %>%\n",
    "    mutate(Feature.Variable = gsub(\"(^|[\\\\.])([[:alpha:]])\", \"\\\\1\\\\U\\\\2\", \n",
    "                    Feature.Variable, perl=TRUE))"
   ]
  },
  {
   "cell_type": "code",
   "execution_count": null,
   "metadata": {
    "collapsed": false
   },
   "outputs": [],
   "source": [
    "features"
   ]
  },
  {
   "cell_type": "code",
   "execution_count": null,
   "metadata": {
    "collapsed": false
   },
   "outputs": [],
   "source": [
    "# 6. Load activities\n",
    "activities <- tbl_df(\n",
    "    read.table(\"./Data/UCI HAR Dataset/activity_labels.txt\", \n",
    "               col.names = c(\"Id\", \"Activity\")))"
   ]
  },
  {
   "cell_type": "code",
   "execution_count": null,
   "metadata": {
    "collapsed": true
   },
   "outputs": [],
   "source": [
    "# 7. Load the training dataset\n",
    "#   7.1 Add training data column names from features\n",
    "#   7.2 Add subject data, and activity data to the training dataset\n",
    "train <- tbl_df(read.table(\"./Data/UCI HAR Dataset/train/X_train.txt\"))\n",
    "colnames(train) <- features$Feature.Variable\n",
    "train <- cbind(\n",
    "        rename(tbl_df(read.table(\"./Data/UCI HAR Dataset/train/subject_train.txt\")), \n",
    "               Subject.Id = V1),\n",
    "        rename(tbl_df(read.table(\"./Data/UCI HAR Dataset/train/y_train.txt\")),\n",
    "               Activity.Id = V1),\n",
    "        Dataset.Partition = c(\"Training\"),\n",
    "        train)"
   ]
  },
  {
   "cell_type": "code",
   "execution_count": null,
   "metadata": {
    "collapsed": false
   },
   "outputs": [],
   "source": [
    "head(train)"
   ]
  },
  {
   "cell_type": "code",
   "execution_count": null,
   "metadata": {
    "collapsed": true
   },
   "outputs": [],
   "source": [
    "# 8. Load the test dataset\n",
    "#   8.1 Add test data column names from features\n",
    "#   8.2 Add subject data, and activity data to the test dataset\n",
    "test <- tbl_df(read.table(\"./Data/UCI HAR Dataset/test/X_test.txt\"))\n",
    "colnames(test) <- features$Feature.Variable\n",
    "test <- cbind(\n",
    "    rename(tbl_df(read.table(\"./Data/UCI HAR Dataset/test/subject_test.txt\")), \n",
    "           Subject.Id = V1),\n",
    "    rename(tbl_df(read.table(\"./Data/UCI HAR Dataset/test/y_test.txt\")),\n",
    "           Activity.Id = V1),\n",
    "    Dataset.Partition = c(\"Test\"),\n",
    "    test)"
   ]
  },
  {
   "cell_type": "code",
   "execution_count": null,
   "metadata": {
    "collapsed": false
   },
   "outputs": [],
   "source": [
    "head(test)"
   ]
  },
  {
   "cell_type": "code",
   "execution_count": null,
   "metadata": {
    "collapsed": false
   },
   "outputs": [],
   "source": [
    "merged <- rbind(train, test)\n",
    "head(merged)"
   ]
  },
  {
   "cell_type": "code",
   "execution_count": null,
   "metadata": {
    "collapsed": false
   },
   "outputs": [],
   "source": [
    "merged <- rbind(train, test) %>% left_join(activities, by = c(\"Activity.Id\" = \"Id\")) %>%\n",
    "    select(Subject.Id, Activity,   \n",
    "           one_of(\n",
    "               filter(features, Is.Mean == TRUE | Is.Std == TRUE)\n",
    "head(merged)"
   ]
  },
  {
   "cell_type": "code",
   "execution_count": null,
   "metadata": {
    "collapsed": true
   },
   "outputs": [],
   "source": []
  },
  {
   "cell_type": "code",
   "execution_count": null,
   "metadata": {
    "collapsed": false
   },
   "outputs": [],
   "source": [
    "# 9. Merge the training and test datasets\n",
    "#   9.1 Add descriptive activity names from activities \n",
    "#   9.2 Select the mean and std deviation features only\n",
    "#   9.3 Group by subject and activity\n",
    "merged <- rbind(train, test) %>%\n",
    "    left_join(activities, by = c(\"Activity.Id\" = \"Id\")) %>%\n",
    "    select(Subject.Id, Activity,   \n",
    "           one_of(\n",
    "               filter(features, Is.Mean == TRUE | Is.Std == TRUE) %>%\n",
    "                   select(Feature.Variable) %>% .[[\"Feature.Variable\"]])) %>%\n",
    "    group_by(Subject.Id, Activity)"
   ]
  },
  {
   "cell_type": "code",
   "execution_count": null,
   "metadata": {
    "collapsed": false
   },
   "outputs": [],
   "source": [
    "# 10. Create a tidy summary of feature means grouped by subject and activity\n",
    "tidy_summary <- summarise_each(merged, funs(mean))\n",
    "tidy_summary"
   ]
  },
  {
   "cell_type": "code",
   "execution_count": null,
   "metadata": {
    "collapsed": true
   },
   "outputs": [],
   "source": [
    "# 11. Write tidy summary to file\n",
    "write.table(tidy_summary, \"tidy_summary.txt\", row.names = FALSE)"
   ]
  },
  {
   "cell_type": "code",
   "execution_count": null,
   "metadata": {
    "collapsed": true
   },
   "outputs": [],
   "source": []
  },
  {
   "cell_type": "code",
   "execution_count": null,
   "metadata": {
    "collapsed": true
   },
   "outputs": [],
   "source": []
  },
  {
   "cell_type": "code",
   "execution_count": null,
   "metadata": {
    "collapsed": true
   },
   "outputs": [],
   "source": []
  },
  {
   "cell_type": "code",
   "execution_count": null,
   "metadata": {
    "collapsed": true
   },
   "outputs": [],
   "source": []
  },
  {
   "cell_type": "code",
   "execution_count": null,
   "metadata": {
    "collapsed": true
   },
   "outputs": [],
   "source": [
    "data_dir <- \"UCI HAR Dataset\"\n",
    "\n",
    "file_path <- function(...) { paste(data_dir,...,sep=\"/\") }"
   ]
  },
  {
   "cell_type": "code",
   "execution_count": null,
   "metadata": {
    "collapsed": true
   },
   "outputs": [],
   "source": [
    "#Load the Data Set\n",
    "training_set <- read.table(\"./train/X_train.txt\")\n",
    "test_set <- read.table(\"./test/X_test.txt\")\n",
    "data_set1 <- rbind(training_set,test_set)"
   ]
  },
  {
   "cell_type": "code",
   "execution_count": null,
   "metadata": {
    "collapsed": false
   },
   "outputs": [],
   "source": [
    "dim(data_set1)"
   ]
  },
  {
   "cell_type": "code",
   "execution_count": null,
   "metadata": {
    "collapsed": true
   },
   "outputs": [],
   "source": [
    "# Removing unused data\n",
    "rm(test_set,training_set)"
   ]
  },
  {
   "cell_type": "code",
   "execution_count": null,
   "metadata": {
    "collapsed": true
   },
   "outputs": [],
   "source": [
    "#2. Extracts only the measurements on the mean and standard deviation for each\n",
    "#measurement. \n",
    "features_name <- read.table(\"./features.txt\")[,2]\n",
    "colnames(data_set1) <- features_name\n",
    "selected_measures <- grepl('-(mean|std)\\\\(',features_name)\n",
    "data_set <- subset(data_set1, select=selected_measures)"
   ]
  },
  {
   "cell_type": "code",
   "execution_count": null,
   "metadata": {
    "collapsed": false
   },
   "outputs": [],
   "source": [
    "dim(data_set)"
   ]
  },
  {
   "cell_type": "code",
   "execution_count": null,
   "metadata": {
    "collapsed": false
   },
   "outputs": [],
   "source": [
    "#4. Appropriately labels the data set with descriptive variable names. \n",
    "colnames(data_set) <- gsub(\"mean\", \"Mean.\", colnames(data_set))\n",
    "colnames(data_set) <- gsub(\"std\", \"Std.\", colnames(data_set))\n",
    "colnames(data_set) <- gsub(\"^t\", \"Time.\", colnames(data_set))\n",
    "colnames(data_set) <- gsub(\"^f\", \"Frequency.\", colnames(data_set))\n",
    "colnames(data_set) <- gsub(\"\\\\(\\\\)\", \"\", colnames(data_set))\n",
    "colnames(data_set) <- gsub(\"-\", \"\", colnames(data_set))\n",
    "colnames(data_set) <- gsub(\"BodyBody\", \"Body.\", colnames(data_set))\n",
    "colnames(data_set) <- gsub(\"^\", \"MeanOf.\", colnames(data_set))\n",
    "colnames(data_set)\n",
    "data_set[1:4,1:5]"
   ]
  },
  {
   "cell_type": "code",
   "execution_count": null,
   "metadata": {
    "collapsed": false
   },
   "outputs": [],
   "source": [
    "#3. Uses descriptive activity names to name the activities in the data set\n",
    "activities_train <- read.table(\"train/y_train.txt\")\n",
    "activities_test <- read.table(\"test/y_test.txt\")\n",
    "activities <- rbind(activities_train,activities_test)[,1]\n",
    "labels <- c(\"WALKING\", \"WALKING_UPSTAIRS\", \"WALKING_DOWNSTAIRS\",\n",
    "            \"SITTING\", \"STANDING\", \"LAYING\")\n",
    "activities <- labels[activities]\n",
    "data_set <- cbind(Activity = activities,data_set)\n",
    "data_set[1:4,1:5]"
   ]
  },
  {
   "cell_type": "code",
   "execution_count": null,
   "metadata": {
    "collapsed": false
   },
   "outputs": [],
   "source": [
    "#5. From the data set in step 4, creates a second, independent tidy data set \n",
    "#with the average of each variable for each activity and each subject.\n",
    "subjects_train <- read.table(\"train/subject_train.txt\")\n",
    "subjects_test <- read.table(\"test/subject_test.txt\")\n",
    "subjects <- rbind(subjects_train,subjects_test)[,1]\n",
    "data_set <- cbind(Subject = subjects,data_set)\n",
    "data_set[1:4,1:5]"
   ]
  },
  {
   "cell_type": "code",
   "execution_count": null,
   "metadata": {
    "collapsed": false
   },
   "outputs": [],
   "source": [
    "library('dplyr')\n",
    "average_data_set <- data_set %>%\n",
    "    group_by(Subject,Activity) %>%\n",
    "    summarise_each(funs(mean))"
   ]
  },
  {
   "cell_type": "code",
   "execution_count": null,
   "metadata": {
    "collapsed": false,
    "scrolled": true
   },
   "outputs": [],
   "source": [
    "average_data_set"
   ]
  },
  {
   "cell_type": "code",
   "execution_count": null,
   "metadata": {
    "collapsed": false
   },
   "outputs": [],
   "source": [
    "dim(average_data_set)"
   ]
  },
  {
   "cell_type": "code",
   "execution_count": null,
   "metadata": {
    "collapsed": true
   },
   "outputs": [],
   "source": [
    "write.table(average_data_set,row.name = FALSE,file = \"tidy_data_set.txt\")    "
   ]
  },
  {
   "cell_type": "code",
   "execution_count": null,
   "metadata": {
    "collapsed": true
   },
   "outputs": [],
   "source": []
  }
 ],
 "metadata": {
  "anaconda-cloud": {},
  "kernelspec": {
   "display_name": "R",
   "language": "R",
   "name": "ir"
  },
  "language_info": {
   "codemirror_mode": "r",
   "file_extension": ".r",
   "mimetype": "text/x-r-source",
   "name": "R",
   "pygments_lexer": "r",
   "version": "3.3.2"
  }
 },
 "nbformat": 4,
 "nbformat_minor": 2
}
