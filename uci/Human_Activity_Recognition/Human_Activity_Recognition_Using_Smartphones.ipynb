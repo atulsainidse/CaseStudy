{
 "cells": [
  {
   "cell_type": "markdown",
   "metadata": {},
   "source": [
    "## Problem Statement\n",
    "Using the attributes given, predict which activity of daily living (ADL) each test subject is performing (i.e. WALKING, WALKING_UPSTAIRS, WALKING_DOWNSTAIRS, SITTING, STANDING, LAYING)"
   ]
  },
  {
   "cell_type": "code",
   "execution_count": null,
   "metadata": {
    "collapsed": false
   },
   "outputs": [],
   "source": [
    "library(readr)\n",
    "library(dplyr)\n",
    "library(glmnet)\n"
   ]
  },
  {
   "cell_type": "markdown",
   "metadata": {},
   "source": [
    "### Read Feature Names"
   ]
  },
  {
   "cell_type": "code",
   "execution_count": null,
   "metadata": {
    "collapsed": false
   },
   "outputs": [],
   "source": [
    "activities = read.table(\"activity_labels.txt\", sep = \"\", col.names = c(\"Id\", \"activity\"))\n",
    "activityLabels = as.character(activities$activity)\n",
    "features = read.table(\"features.txt\", sep = \"\", col.names = c(\"Id\", \"feature\"))\n",
    "attributeNames = features$feature"
   ]
  },
  {
   "cell_type": "code",
   "execution_count": null,
   "metadata": {
    "collapsed": false
   },
   "outputs": [],
   "source": [
    "cat(\"Total no of features - \", length(attributeNames))"
   ]
  },
  {
   "cell_type": "code",
   "execution_count": null,
   "metadata": {
    "collapsed": false,
    "scrolled": true
   },
   "outputs": [],
   "source": [
    "attributeNames"
   ]
  },
  {
   "cell_type": "raw",
   "metadata": {},
   "source": [
    "features <- features %>% \n",
    "    mutate(Is.Mean = grepl(\"mean\\\\(\\\\)\", features$feature)) %>%\n",
    "    mutate(Is.Std = grepl(\"std\\\\(\\\\)\", features$feature)) %>%\n",
    "    mutate(feature.Variable = make.names(features$feature, unique = TRUE)) %>%\n",
    "    mutate(feature.Variable = gsub(\"^t\", \"Time.\", feature.Variable)) %>%\n",
    "    mutate(feature.Variable = gsub(\"\\\\.t\", \".Time.\", feature.Variable)) %>%\n",
    "    mutate(feature.Variable = gsub(\"^f\", \"Frequency.\", feature.Variable)) %>%\n",
    "    mutate(feature.Variable = gsub(\"\\\\.f\", \".Frequency.\", feature.Variable)) %>%\n",
    "    mutate(feature.Variable = gsub(\"^angle\\\\.\", \"Angle.\", feature.Variable)) %>%\n",
    "    mutate(feature.Variable = gsub(\"BodyBody\", \"Body\", feature.Variable)) %>%\n",
    "    mutate(feature.Variable = gsub(\"Acc\", \".Acc\", feature.Variable)) %>%\n",
    "    mutate(feature.Variable = gsub(\"Gyro\", \".Gyro\", feature.Variable)) %>%\n",
    "    mutate(feature.Variable = gsub(\"Jerk\", \".Jerk\", feature.Variable)) %>%\n",
    "    mutate(feature.Variable = gsub(\"Mag\", \".Mag\", feature.Variable)) %>%\n",
    "    mutate(feature.Variable = gsub(\"\\\\.\\\\.\", \".\", feature.Variable)) %>%\n",
    "    mutate(feature.Variable = gsub(\"\\\\.\\\\.\", \".\", feature.Variable)) %>%\n",
    "    mutate(feature.Variable = gsub(\"\\\\.$\", \"\", feature.Variable)) %>%\n",
    "    mutate(feature.Variable = gsub(\"(^|[\\\\.])([[:alpha:]])\", \"\\\\1\\\\U\\\\2\", \n",
    "                    feature.Variable, perl=TRUE))"
   ]
  },
  {
   "cell_type": "raw",
   "metadata": {},
   "source": [
    "features"
   ]
  },
  {
   "cell_type": "code",
   "execution_count": null,
   "metadata": {
    "collapsed": true
   },
   "outputs": [],
   "source": [
    "# Load the training dataset\n",
    "# Add training data column names from features\n",
    "\n",
    "train <- tbl_df(read.table(\"./train/X_train.txt\"))\n",
    "colnames(train) <- attributeNames #features$feature.Variable\n",
    "\n",
    "\n",
    "# Load the test dataset\n",
    "# Add test data column names from features\n",
    "\n",
    "test <- tbl_df(read.table(\"./test/X_test.txt\"))\n",
    "colnames(test) <- attributeNames  # features$feature.Variable\n",
    "merged <- rbind(train, test)"
   ]
  },
  {
   "cell_type": "code",
   "execution_count": null,
   "metadata": {
    "collapsed": true
   },
   "outputs": [],
   "source": [
    "# Add subject data, and activity data to the training dataset\n",
    "train <- cbind(\n",
    "        rename(tbl_df(read.table(\"./train/subject_train.txt\")), \n",
    "               subject = V1),\n",
    "        rename(tbl_df(read.table(\"./train/y_train.txt\")),\n",
    "               Activity = V1),\n",
    "        Dataset.Partition = c(\"Training\"),\n",
    "        train)\n",
    "\n",
    "# Add subject data, and activity data to the test dataset\n",
    "test <- cbind(\n",
    "    rename(tbl_df(read.table(\"./test/subject_test.txt\")), \n",
    "           subject = V1),\n",
    "    rename(tbl_df(read.table(\"./test/y_test.txt\")),\n",
    "           Activity = V1),\n",
    "    Dataset.Partition = c(\"Test\"),\n",
    "    test)\n",
    "\n"
   ]
  },
  {
   "cell_type": "code",
   "execution_count": null,
   "metadata": {
    "collapsed": false
   },
   "outputs": [],
   "source": [
    "head(merged)"
   ]
  },
  {
   "cell_type": "code",
   "execution_count": null,
   "metadata": {
    "collapsed": false
   },
   "outputs": [],
   "source": [
    "selected_measures <- grepl('-(mean|std)\\\\(',colnames(merged))\n",
    "data_set <- subset(merged, select=selected_measures)\n",
    "merged <- subset(merged, select=selected_measures)\n",
    "dim(merged)"
   ]
  },
  {
   "cell_type": "code",
   "execution_count": null,
   "metadata": {
    "collapsed": false
   },
   "outputs": [],
   "source": [
    "colnames(merged) <- gsub(\"mean\", \".Mean.\", colnames(merged))\n",
    "colnames(merged) <- gsub(\"std\", \".Std.\", colnames(merged))\n",
    "colnames(merged) <- gsub(\"^t\", \"Time.\", colnames(merged))\n",
    "colnames(merged) <- gsub(\"\\\\.t\", \".Time.\", colnames(merged))\n",
    "colnames(merged) <- gsub(\"^f\", \"Frequency.\", colnames(merged))\n",
    "colnames(merged) <- gsub(\"\\\\.f\", \".Frequency.\", colnames(merged))\n",
    "colnames(merged) <- gsub(\"\\\\(\\\\)\", \"\", colnames(merged))\n",
    "colnames(merged) <- gsub(\"-\", \"\", colnames(merged))\n",
    "colnames(merged) <- gsub(\"\\\\.\\\\.\", \".\", colnames(merged))\n",
    "colnames(merged) <- gsub(\"\\\\.\\\\.\", \".\", colnames(merged))\n",
    "colnames(merged) <- gsub(\"\\\\.$\", \"\", colnames(merged))\n",
    "colnames(merged) <- gsub(\"BodyBody\", \"Body.\", colnames(merged))\n",
    "colnames(merged) <- gsub(\"^angle\\\\.\", \"Angle.\", colnames(merged))\n",
    "colnames(merged) <- gsub(\"Gyro\", \".Gyro\", colnames(merged))\n",
    "colnames(merged) <- gsub(\"Acc\", \".Acc\", colnames(merged))\n",
    "colnames(merged) <- gsub(\"Jerk\", \".Jerk\", colnames(merged))\n",
    "colnames(merged) <- gsub(\"Mag\", \".Mag\", colnames(merged))\n",
    "colnames(merged) <- gsub(\"^\", \"MeanOf.\", colnames(merged))\n",
    "colnames(merged) <- gsub(\"(^|[\\\\.])([[:alpha:]])\", \"\\\\1\\\\U\\\\2\", colnames(merged), perl=TRUE)\n"
   ]
  },
  {
   "cell_type": "code",
   "execution_count": null,
   "metadata": {
    "collapsed": true
   },
   "outputs": [],
   "source": [
    "activities_train <- read.table(\"./train/y_train.txt\")\n",
    "activities_test <- read.table(\"./test/y_test.txt\")\n",
    "activities <- rbind(activities_train,activities_test)[,1]\n",
    "labels <- c(\"WALKING\", \"WALKING_UPSTAIRS\", \"WALKING_DOWNSTAIRS\",\n",
    "            \"SITTING\", \"STANDING\", \"LAYING\")\n",
    "activities <- labels[activities]\n",
    "merged <- cbind(Activity = activities,merged)\n"
   ]
  },
  {
   "cell_type": "code",
   "execution_count": null,
   "metadata": {
    "collapsed": false
   },
   "outputs": [],
   "source": [
    "subjects_train <- read.table(\"train/subject_train.txt\")\n",
    "subjects_test <- read.table(\"test/subject_test.txt\")\n",
    "subjects <- rbind(subjects_train,subjects_test)[,1]\n",
    "merged <- cbind(Subject = subjects,merged)\n",
    "merged[1:4,1:5]"
   ]
  },
  {
   "cell_type": "code",
   "execution_count": null,
   "metadata": {
    "collapsed": true
   },
   "outputs": [],
   "source": [
    "library('dplyr')\n",
    "average_data_set <- merged %>%\n",
    "    group_by(Subject,Activity) %>%\n",
    "    summarise_each(funs(mean))"
   ]
  },
  {
   "cell_type": "code",
   "execution_count": null,
   "metadata": {
    "collapsed": false,
    "scrolled": true
   },
   "outputs": [],
   "source": [
    "average_data_set"
   ]
  },
  {
   "cell_type": "code",
   "execution_count": null,
   "metadata": {
    "collapsed": true
   },
   "outputs": [],
   "source": [
    "write.table(average_data_set,row.name = FALSE,file = \"tidy_data_set.txt\")  "
   ]
  },
  {
   "cell_type": "code",
   "execution_count": null,
   "metadata": {
    "collapsed": true
   },
   "outputs": [],
   "source": []
  },
  {
   "cell_type": "code",
   "execution_count": null,
   "metadata": {
    "collapsed": true
   },
   "outputs": [],
   "source": []
  },
  {
   "cell_type": "code",
   "execution_count": null,
   "metadata": {
    "collapsed": false
   },
   "outputs": [],
   "source": [
    "require(plyr)\n",
    "library(dplyr)\n",
    "\n",
    "# A function that takes in a variable name and generates a description for the\n",
    "# variable\n",
    "generateVariableDescription <- function(x) {\n",
    "    x <- as.character(x)\n",
    "    desc <- \"\"\n",
    "    \n",
    "    if (x == \"Activity\")\n",
    "        desc <- paste(desc, \"The motion activity\" , sep = \"\")\n",
    "    \n",
    "    if (x == \"Subject.Id\")\n",
    "        desc <- paste(desc, \"The subject identifier\" , sep = \"\")\n",
    "    \n",
    "    if (grepl(\"\\\\.mean\", x, ignore.case = TRUE)[1] == TRUE) \n",
    "        desc <- paste(desc, \"The mean of \" , sep = \"\")\n",
    "    \n",
    "    if (grepl(\"\\\\.std\", x, ignore.case = TRUE)[1] == TRUE) \n",
    "        desc <- paste(desc, \"The standard deviation of \", sep = \"\")\n",
    "    \n",
    "    if (grepl(\"frequency\\\\.\", x, ignore.case = TRUE)[1] == TRUE) {\n",
    "        desc <- paste(desc, \"a Fourier transformed \", sep = \"\")\n",
    "        if (grepl(\"mag\\\\.\", x, ignore.case = TRUE)[1] == TRUE) {\n",
    "            desc <- paste(desc, \"resultant XYZ signal (Euclidean norm) \", sep = \"\")\n",
    "        } else if (grepl(\"\\\\.x\", x, ignore.case = TRUE)[1] == TRUE) {\n",
    "            desc <- paste(desc, \"X signal \", sep = \"\")\n",
    "        } else if (grepl(\"\\\\.y\", x, ignore.case = TRUE)[1] == TRUE) {\n",
    "            desc <- paste(desc, \"Y signal \", sep = \"\")\n",
    "        } else if (grepl(\"\\\\.z\", x, ignore.case = TRUE)[1] == TRUE) {\n",
    "            desc <- paste(desc, \"Z signal \", sep = \"\")\n",
    "        }\n",
    "    } else {\n",
    "        if (grepl(\"mag\\\\.\", x, ignore.case = TRUE)[1] == TRUE) {\n",
    "            desc <- paste(desc, \"the resultant XYZ \", sep = \"\")\n",
    "        } else if (grepl(\"\\\\.x\", x, ignore.case = TRUE)[1] == TRUE) {\n",
    "            desc <- paste(desc, \"the X \", sep = \"\")\n",
    "        } else if (grepl(\"\\\\.y\", x, ignore.case = TRUE)[1] == TRUE) {\n",
    "            desc <- paste(desc, \"the Y \", sep = \"\")\n",
    "        } else if (grepl(\"\\\\.z\", x, ignore.case = TRUE)[1] == TRUE) {\n",
    "            desc <- paste(desc, \"the Z \", sep = \"\")\n",
    "        }\n",
    "    }\n",
    "    \n",
    "    if (grepl(\"jerk\\\\.\", x, ignore.case = TRUE)[1] == TRUE) {\n",
    "        if (grepl(\"acc\\\\.\", x, ignore.case = TRUE)[1] == TRUE)\n",
    "            desc <- paste(desc, \"jerk from an accelerometer signal \", sep = \"\")\n",
    "        \n",
    "        if (grepl(\"gyro\\\\.\", x, ignore.case = TRUE)[1] == TRUE)\n",
    "            desc <- paste(desc, \"jerk from a gyroscope signal \", sep = \"\")\n",
    "    }\n",
    "    else {\n",
    "        if (grepl(\"acc\\\\.\", x, ignore.case = TRUE)[1] == TRUE)\n",
    "            desc <- paste(desc, \"acceleration from an accelerometer signal \", sep = \"\")\n",
    "        \n",
    "        if (grepl(\"gyro\\\\.\", x, ignore.case = TRUE)[1] == TRUE)\n",
    "            desc <- paste(desc, \"angular velocity from a gyroscope signal \", sep = \"\")\n",
    "    }\n",
    "    \n",
    "    if (grepl(\"\\\\.body\", x, ignore.case = TRUE)[1] == TRUE) \n",
    "        desc <- paste(desc, \"related to body motion\", sep = \"\") \n",
    "    \n",
    "    if (grepl(\"\\\\.gravity\", x, ignore.case = TRUE)[1] == TRUE) \n",
    "        desc <- paste(desc, \"related gravity\", sep = \"\") \n",
    "    \n",
    "    desc\n",
    "}\n",
    "\n",
    "# 1. Read the variable names from the tidy_summary.txt file\n",
    "tidy_summary_variables <- read.table(\"tidy_data_set.txt\", header = TRUE) %>%\n",
    "    names %>%\n",
    "    data.frame %>%\n",
    "    tbl_df %>%\n",
    "    plyr::rename(c(\".\" =\"Variable\"))\n",
    "\n",
    "# 2. Generate a list of descriptions related to the variable names\n",
    "descriptions <- data.frame(\n",
    "    tapply(tidy_summary_variables$Variable, \n",
    "           tidy_summary_variables[1], \n",
    "           generateVariableDescription))\n",
    "\n",
    "# 3. Rename the descriptions column to Description\n",
    "colnames(descriptions)[1] <- \"Description\"\n",
    "\n",
    "# 4. Add the row names of the descriptions as the variable name\n",
    "descriptions <- cbind(Variable = rownames(descriptions), descriptions)\n",
    "\n",
    "# 5. Output the variable names and descriptions to file\n",
    "write.table(descriptions, \"variable_descriptions.txt\", row.names = FALSE)\n",
    "rm(description)"
   ]
  },
  {
   "cell_type": "code",
   "execution_count": null,
   "metadata": {
    "collapsed": true
   },
   "outputs": [],
   "source": []
  },
  {
   "cell_type": "code",
   "execution_count": null,
   "metadata": {
    "collapsed": true
   },
   "outputs": [],
   "source": []
  },
  {
   "cell_type": "code",
   "execution_count": null,
   "metadata": {
    "collapsed": true
   },
   "outputs": [],
   "source": []
  },
  {
   "cell_type": "markdown",
   "metadata": {},
   "source": [
    "### Read Train Data"
   ]
  },
  {
   "cell_type": "code",
   "execution_count": null,
   "metadata": {
    "collapsed": false
   },
   "outputs": [],
   "source": [
    "train_X = read.table(\"./train/X_train.txt\", sep=\"\", col.names=attributeNames)\n",
    "train_y <- read.table(\"./train/y_train.txt\", sep=\"\\n\")\n",
    "names(train_y) = \"Activity\"\n",
    "#combining features and activity label\n",
    "train_y$Activity = as.factor(train_y$Activity)\n",
    "levels(train_y$Activity) = activityLabels\n",
    "trainSubjects = read.table(\"./train/subject_train.txt\", sep = \"\")\n",
    "names(trainSubjects) = \"subject\"\n",
    "trainSubjects$subject = as.factor(trainSubjects$subject)\n",
    "\n",
    "train <- cbind(train_X, trainSubjects, train_y)\n",
    "train_labels <- train$Activity"
   ]
  },
  {
   "cell_type": "code",
   "execution_count": null,
   "metadata": {
    "collapsed": false
   },
   "outputs": [],
   "source": [
    "dim(train)"
   ]
  },
  {
   "cell_type": "markdown",
   "metadata": {},
   "source": [
    "### Read Test Data"
   ]
  },
  {
   "cell_type": "code",
   "execution_count": null,
   "metadata": {
    "collapsed": false
   },
   "outputs": [],
   "source": [
    "test_X = read.table(\"./test/X_test.txt\", sep=\"\", col.names=attributeNames)\n",
    "test_y <- read.table(\"./test/y_test.txt\", sep=\"\\n\")\n",
    "names(test_y) = \"Activity\"\n",
    "\n",
    "test_y$Activity = as.factor(test_y$Activity)\n",
    "levels(test_y$Activity) = activityLabels\n",
    "testSubjects = read.table(\"./test/subject_test.txt\", sep = \"\")\n",
    "names(testSubjects) = \"subject\"\n",
    "testSubjects$subject = as.factor(testSubjects$subject)\n",
    "\n",
    "#combined features and acitvity\n",
    "test <- cbind(test_X, testSubjects, test_y)"
   ]
  },
  {
   "cell_type": "code",
   "execution_count": null,
   "metadata": {
    "collapsed": false
   },
   "outputs": [],
   "source": [
    "dim(test)"
   ]
  },
  {
   "cell_type": "code",
   "execution_count": null,
   "metadata": {
    "collapsed": false
   },
   "outputs": [],
   "source": [
    "head(train)"
   ]
  },
  {
   "cell_type": "markdown",
   "metadata": {},
   "source": [
    "### Dataset Exploration"
   ]
  },
  {
   "cell_type": "code",
   "execution_count": null,
   "metadata": {
    "collapsed": false
   },
   "outputs": [],
   "source": [
    "summary(train)"
   ]
  },
  {
   "cell_type": "code",
   "execution_count": null,
   "metadata": {
    "collapsed": false
   },
   "outputs": [],
   "source": [
    "summary(train$subject)"
   ]
  },
  {
   "cell_type": "code",
   "execution_count": null,
   "metadata": {
    "collapsed": false
   },
   "outputs": [],
   "source": [
    "summary(test)"
   ]
  },
  {
   "cell_type": "code",
   "execution_count": null,
   "metadata": {
    "collapsed": false
   },
   "outputs": [],
   "source": [
    "summary(test$subject)"
   ]
  },
  {
   "cell_type": "code",
   "execution_count": null,
   "metadata": {
    "collapsed": true
   },
   "outputs": [],
   "source": [
    "cat_var <- names(train)[which(sapply(train, is.character))]\n",
    "num_var <- names(train)[which(sapply(train, is.numeric))]"
   ]
  },
  {
   "cell_type": "code",
   "execution_count": null,
   "metadata": {
    "collapsed": false
   },
   "outputs": [],
   "source": [
    "cat(paste0(\"Total number of numeric variables: \", num_var))"
   ]
  },
  {
   "cell_type": "code",
   "execution_count": null,
   "metadata": {
    "collapsed": true
   },
   "outputs": [],
   "source": []
  },
  {
   "cell_type": "code",
   "execution_count": null,
   "metadata": {
    "collapsed": false
   },
   "outputs": [],
   "source": [
    "train$Partition = \"Train\"\n",
    "test$Partition = \"Test\"\n",
    "\n",
    "library(ggplot2)\n",
    "all = rbind(train,test)\n",
    "\n",
    "all$Partition = as.factor(all$Partition)\n",
    "qplot(data = all, x = subject, fill = Partition)"
   ]
  },
  {
   "cell_type": "code",
   "execution_count": null,
   "metadata": {
    "collapsed": false
   },
   "outputs": [],
   "source": [
    "qplot(data = all , x = subject, fill = Activity)"
   ]
  },
  {
   "cell_type": "code",
   "execution_count": null,
   "metadata": {
    "collapsed": true
   },
   "outputs": [],
   "source": []
  },
  {
   "cell_type": "code",
   "execution_count": null,
   "metadata": {
    "collapsed": true
   },
   "outputs": [],
   "source": []
  },
  {
   "cell_type": "code",
   "execution_count": null,
   "metadata": {
    "collapsed": true
   },
   "outputs": [],
   "source": []
  },
  {
   "cell_type": "code",
   "execution_count": null,
   "metadata": {
    "collapsed": true
   },
   "outputs": [],
   "source": []
  },
  {
   "cell_type": "code",
   "execution_count": null,
   "metadata": {
    "collapsed": true
   },
   "outputs": [],
   "source": []
  },
  {
   "cell_type": "code",
   "execution_count": null,
   "metadata": {
    "collapsed": true
   },
   "outputs": [],
   "source": []
  },
  {
   "cell_type": "code",
   "execution_count": null,
   "metadata": {
    "collapsed": true
   },
   "outputs": [],
   "source": []
  },
  {
   "cell_type": "markdown",
   "metadata": {},
   "source": [
    "Unique number of features"
   ]
  },
  {
   "cell_type": "markdown",
   "metadata": {},
   "source": [
    "### Dataset Subset"
   ]
  },
  {
   "cell_type": "code",
   "execution_count": null,
   "metadata": {
    "collapsed": false
   },
   "outputs": [],
   "source": [
    "# Create a calibration and training set from the main training set\n",
    "set.seed(42)\n",
    "idx = sample(c(TRUE, FALSE), nrow(train_X), replace = TRUE, prob = c(0.8, 0.2))\n",
    "\n",
    "train = subset(train_X, idx)\n",
    "train_labels  = subset(train_labels, idx)\n",
    "\n",
    "cal = subset(train_X, !idx)\n",
    "cal_labels = subset(train_labels, !idx)"
   ]
  },
  {
   "cell_type": "markdown",
   "metadata": {},
   "source": [
    "### Lasso Feature Selection\n",
    "\n",
    "With over 500 features, it's important to reduce the feature-set to avoid overfitting and to create a sensical model. The more features you have, the easier it is to create a model that trains well, but may not do so well with test data. To learn more about these problems, checkout the bias-variance trade-off and the curse of dimensionality.\n",
    "\n",
    "Lasso selection works by reducing the coefficients of certain features towards (and exactly) 0. The higher the lambda, the faster this will happen. A sufficiently high lamba would set all features to 0, meaning only the coefficient will be used in the model (a simple mean, for example, in regression)."
   ]
  },
  {
   "cell_type": "code",
   "execution_count": null,
   "metadata": {
    "collapsed": false
   },
   "outputs": [],
   "source": [
    "x <- model.matrix(train_labels ~ ., train)[,-1]"
   ]
  },
  {
   "cell_type": "code",
   "execution_count": null,
   "metadata": {
    "collapsed": false
   },
   "outputs": [],
   "source": [
    "fit = glmnet(x, train_labels, family = \"multinomial\", type.multinomial = \"grouped\")"
   ]
  },
  {
   "cell_type": "code",
   "execution_count": null,
   "metadata": {
    "collapsed": true
   },
   "outputs": [],
   "source": []
  }
 ],
 "metadata": {
  "anaconda-cloud": {},
  "kernelspec": {
   "display_name": "R",
   "language": "R",
   "name": "ir"
  },
  "language_info": {
   "codemirror_mode": "r",
   "file_extension": ".r",
   "mimetype": "text/x-r-source",
   "name": "R",
   "pygments_lexer": "r",
   "version": "3.3.2"
  }
 },
 "nbformat": 4,
 "nbformat_minor": 2
}
