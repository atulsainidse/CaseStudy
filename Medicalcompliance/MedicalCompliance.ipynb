{
 "cells": [
  {
   "cell_type": "markdown",
   "metadata": {},
   "source": [
    "# Medical Compliance Forcasting\n",
    "\n",
    "Predict if patient will Adhere to Prescription or not"
   ]
  },
  {
   "cell_type": "code",
   "execution_count": 92,
   "metadata": {
    "collapsed": false
   },
   "outputs": [],
   "source": [
    "import pandas as pd\n",
    "import numpy as np\n",
    "import matplotlib.pyplot as plt\n",
    "%matplotlib inline\n",
    "plt.style.use(\"ggplot\")\n",
    "\n",
    "import seaborn as sns\n",
    "from sklearn.preprocessing import LabelEncoder\n",
    "from sklearn.preprocessing import OneHotEncoder\n",
    "\n",
    "from sklearn.model_selection import train_test_split\n",
    "from imblearn.ensemble import BalanceCascade\n",
    "\n",
    "from sklearn.ensemble import ExtraTreesClassifier\n",
    "from sklearn.ensemble import RandomForestClassifier\n",
    "from sklearn.linear_model import LogisticRegression\n",
    "from sklearn.cross_validation import cross_val_score\n",
    "from sklearn.tree import DecisionTreeClassifier, export_graphviz\n",
    "from sklearn.cross_validation import KFold\n",
    "from sklearn.svm import SVC\n",
    "from xgboost import XGBClassifier\n",
    "from sklearn import metrics\n",
    "from sklearn.preprocessing import StandardScaler\n",
    "from sklearn.linear_model import SGDClassifier\n",
    "\n",
    "from sklearn.metrics import classification_report, accuracy_score"
   ]
  },
  {
   "cell_type": "markdown",
   "metadata": {},
   "source": [
    "### Read data"
   ]
  },
  {
   "cell_type": "code",
   "execution_count": 2,
   "metadata": {
    "collapsed": true
   },
   "outputs": [],
   "source": [
    "data = pd.read_csv('TrainingData.csv')"
   ]
  },
  {
   "cell_type": "markdown",
   "metadata": {},
   "source": [
    "#### Lets see how data looks like"
   ]
  },
  {
   "cell_type": "code",
   "execution_count": 3,
   "metadata": {
    "collapsed": false
   },
   "outputs": [
    {
     "data": {
      "text/html": [
       "<div>\n",
       "<style>\n",
       "    .dataframe thead tr:only-child th {\n",
       "        text-align: right;\n",
       "    }\n",
       "\n",
       "    .dataframe thead th {\n",
       "        text-align: left;\n",
       "    }\n",
       "\n",
       "    .dataframe tbody tr th {\n",
       "        vertical-align: top;\n",
       "    }\n",
       "</style>\n",
       "<table border=\"1\" class=\"dataframe\">\n",
       "  <thead>\n",
       "    <tr style=\"text-align: right;\">\n",
       "      <th></th>\n",
       "      <th>patient_id</th>\n",
       "      <th>Age</th>\n",
       "      <th>Gender</th>\n",
       "      <th>Prescription_period</th>\n",
       "      <th>Diabetes</th>\n",
       "      <th>Alcoholism</th>\n",
       "      <th>HyperTension</th>\n",
       "      <th>Smokes</th>\n",
       "      <th>Tuberculosis</th>\n",
       "      <th>Sms_Reminder</th>\n",
       "      <th>Adherence</th>\n",
       "    </tr>\n",
       "  </thead>\n",
       "  <tbody>\n",
       "    <tr>\n",
       "      <th>0</th>\n",
       "      <td>1</td>\n",
       "      <td>19</td>\n",
       "      <td>M</td>\n",
       "      <td>7</td>\n",
       "      <td>0</td>\n",
       "      <td>0</td>\n",
       "      <td>0</td>\n",
       "      <td>0</td>\n",
       "      <td>0</td>\n",
       "      <td>0</td>\n",
       "      <td>No</td>\n",
       "    </tr>\n",
       "  </tbody>\n",
       "</table>\n",
       "</div>"
      ],
      "text/plain": [
       "   patient_id  Age Gender  Prescription_period  Diabetes  Alcoholism  \\\n",
       "0           1   19      M                    7         0           0   \n",
       "\n",
       "   HyperTension  Smokes  Tuberculosis  Sms_Reminder Adherence  \n",
       "0             0       0             0             0        No  "
      ]
     },
     "execution_count": 3,
     "metadata": {},
     "output_type": "execute_result"
    }
   ],
   "source": [
    "data.head(1)"
   ]
  },
  {
   "cell_type": "code",
   "execution_count": 4,
   "metadata": {
    "collapsed": false
   },
   "outputs": [
    {
     "data": {
      "text/plain": [
       "No     125822\n",
       "Yes     54390\n",
       "Name: Adherence, dtype: int64"
      ]
     },
     "execution_count": 4,
     "metadata": {},
     "output_type": "execute_result"
    }
   ],
   "source": [
    "data['Adherence'].value_counts()"
   ]
  },
  {
   "cell_type": "code",
   "execution_count": 5,
   "metadata": {
    "collapsed": false
   },
   "outputs": [
    {
     "data": {
      "text/plain": [
       "0.6981887998579451"
      ]
     },
     "execution_count": 5,
     "metadata": {},
     "output_type": "execute_result"
    }
   ],
   "source": [
    "125822/(125822+54390)"
   ]
  },
  {
   "cell_type": "markdown",
   "metadata": {},
   "source": [
    "70:30 class ratio - might lead to imbalance"
   ]
  },
  {
   "cell_type": "code",
   "execution_count": 9,
   "metadata": {
    "collapsed": false
   },
   "outputs": [
    {
     "data": {
      "text/plain": [
       "(180212, 11)"
      ]
     },
     "execution_count": 9,
     "metadata": {},
     "output_type": "execute_result"
    }
   ],
   "source": [
    "data.shape"
   ]
  },
  {
   "cell_type": "code",
   "execution_count": 10,
   "metadata": {
    "collapsed": false
   },
   "outputs": [
    {
     "data": {
      "text/plain": [
       "patient_id              int64\n",
       "Age                     int64\n",
       "Gender                 object\n",
       "Prescription_period     int64\n",
       "Diabetes                int64\n",
       "Alcoholism              int64\n",
       "HyperTension            int64\n",
       "Smokes                  int64\n",
       "Tuberculosis            int64\n",
       "Sms_Reminder            int64\n",
       "Adherence              object\n",
       "dtype: object"
      ]
     },
     "execution_count": 10,
     "metadata": {},
     "output_type": "execute_result"
    }
   ],
   "source": [
    "data.dtypes"
   ]
  },
  {
   "cell_type": "code",
   "execution_count": 11,
   "metadata": {
    "collapsed": false
   },
   "outputs": [
    {
     "data": {
      "text/html": [
       "<div>\n",
       "<style>\n",
       "    .dataframe thead tr:only-child th {\n",
       "        text-align: right;\n",
       "    }\n",
       "\n",
       "    .dataframe thead th {\n",
       "        text-align: left;\n",
       "    }\n",
       "\n",
       "    .dataframe tbody tr th {\n",
       "        vertical-align: top;\n",
       "    }\n",
       "</style>\n",
       "<table border=\"1\" class=\"dataframe\">\n",
       "  <thead>\n",
       "    <tr style=\"text-align: right;\">\n",
       "      <th></th>\n",
       "      <th>patient_id</th>\n",
       "      <th>Age</th>\n",
       "      <th>Prescription_period</th>\n",
       "      <th>Diabetes</th>\n",
       "      <th>Alcoholism</th>\n",
       "      <th>HyperTension</th>\n",
       "      <th>Smokes</th>\n",
       "      <th>Tuberculosis</th>\n",
       "      <th>Sms_Reminder</th>\n",
       "    </tr>\n",
       "  </thead>\n",
       "  <tbody>\n",
       "    <tr>\n",
       "      <th>count</th>\n",
       "      <td>180212.000000</td>\n",
       "      <td>180212.000000</td>\n",
       "      <td>180212.000000</td>\n",
       "      <td>180212.000000</td>\n",
       "      <td>180212.000000</td>\n",
       "      <td>180212.000000</td>\n",
       "      <td>180212.000000</td>\n",
       "      <td>180212.000000</td>\n",
       "      <td>180212.000000</td>\n",
       "    </tr>\n",
       "    <tr>\n",
       "      <th>mean</th>\n",
       "      <td>90106.500000</td>\n",
       "      <td>37.795363</td>\n",
       "      <td>54.668485</td>\n",
       "      <td>0.078524</td>\n",
       "      <td>0.025043</td>\n",
       "      <td>0.216512</td>\n",
       "      <td>0.052566</td>\n",
       "      <td>0.000338</td>\n",
       "      <td>0.573968</td>\n",
       "    </tr>\n",
       "    <tr>\n",
       "      <th>std</th>\n",
       "      <td>52022.867693</td>\n",
       "      <td>22.852072</td>\n",
       "      <td>35.752491</td>\n",
       "      <td>0.268995</td>\n",
       "      <td>0.156255</td>\n",
       "      <td>0.411868</td>\n",
       "      <td>0.223166</td>\n",
       "      <td>0.018395</td>\n",
       "      <td>0.499824</td>\n",
       "    </tr>\n",
       "    <tr>\n",
       "      <th>min</th>\n",
       "      <td>1.000000</td>\n",
       "      <td>0.000000</td>\n",
       "      <td>1.000000</td>\n",
       "      <td>0.000000</td>\n",
       "      <td>0.000000</td>\n",
       "      <td>0.000000</td>\n",
       "      <td>0.000000</td>\n",
       "      <td>0.000000</td>\n",
       "      <td>0.000000</td>\n",
       "    </tr>\n",
       "    <tr>\n",
       "      <th>25%</th>\n",
       "      <td>45053.750000</td>\n",
       "      <td>19.000000</td>\n",
       "      <td>22.000000</td>\n",
       "      <td>0.000000</td>\n",
       "      <td>0.000000</td>\n",
       "      <td>0.000000</td>\n",
       "      <td>0.000000</td>\n",
       "      <td>0.000000</td>\n",
       "      <td>0.000000</td>\n",
       "    </tr>\n",
       "    <tr>\n",
       "      <th>50%</th>\n",
       "      <td>90106.500000</td>\n",
       "      <td>38.000000</td>\n",
       "      <td>51.000000</td>\n",
       "      <td>0.000000</td>\n",
       "      <td>0.000000</td>\n",
       "      <td>0.000000</td>\n",
       "      <td>0.000000</td>\n",
       "      <td>0.000000</td>\n",
       "      <td>1.000000</td>\n",
       "    </tr>\n",
       "    <tr>\n",
       "      <th>75%</th>\n",
       "      <td>135159.250000</td>\n",
       "      <td>56.000000</td>\n",
       "      <td>86.000000</td>\n",
       "      <td>0.000000</td>\n",
       "      <td>0.000000</td>\n",
       "      <td>0.000000</td>\n",
       "      <td>0.000000</td>\n",
       "      <td>0.000000</td>\n",
       "      <td>1.000000</td>\n",
       "    </tr>\n",
       "    <tr>\n",
       "      <th>max</th>\n",
       "      <td>180212.000000</td>\n",
       "      <td>113.000000</td>\n",
       "      <td>120.000000</td>\n",
       "      <td>1.000000</td>\n",
       "      <td>1.000000</td>\n",
       "      <td>1.000000</td>\n",
       "      <td>1.000000</td>\n",
       "      <td>1.000000</td>\n",
       "      <td>2.000000</td>\n",
       "    </tr>\n",
       "  </tbody>\n",
       "</table>\n",
       "</div>"
      ],
      "text/plain": [
       "          patient_id            Age  Prescription_period       Diabetes  \\\n",
       "count  180212.000000  180212.000000        180212.000000  180212.000000   \n",
       "mean    90106.500000      37.795363            54.668485       0.078524   \n",
       "std     52022.867693      22.852072            35.752491       0.268995   \n",
       "min         1.000000       0.000000             1.000000       0.000000   \n",
       "25%     45053.750000      19.000000            22.000000       0.000000   \n",
       "50%     90106.500000      38.000000            51.000000       0.000000   \n",
       "75%    135159.250000      56.000000            86.000000       0.000000   \n",
       "max    180212.000000     113.000000           120.000000       1.000000   \n",
       "\n",
       "          Alcoholism   HyperTension         Smokes   Tuberculosis  \\\n",
       "count  180212.000000  180212.000000  180212.000000  180212.000000   \n",
       "mean        0.025043       0.216512       0.052566       0.000338   \n",
       "std         0.156255       0.411868       0.223166       0.018395   \n",
       "min         0.000000       0.000000       0.000000       0.000000   \n",
       "25%         0.000000       0.000000       0.000000       0.000000   \n",
       "50%         0.000000       0.000000       0.000000       0.000000   \n",
       "75%         0.000000       0.000000       0.000000       0.000000   \n",
       "max         1.000000       1.000000       1.000000       1.000000   \n",
       "\n",
       "        Sms_Reminder  \n",
       "count  180212.000000  \n",
       "mean        0.573968  \n",
       "std         0.499824  \n",
       "min         0.000000  \n",
       "25%         0.000000  \n",
       "50%         1.000000  \n",
       "75%         1.000000  \n",
       "max         2.000000  "
      ]
     },
     "execution_count": 11,
     "metadata": {},
     "output_type": "execute_result"
    }
   ],
   "source": [
    "data.describe()"
   ]
  },
  {
   "cell_type": "code",
   "execution_count": 12,
   "metadata": {
    "collapsed": true
   },
   "outputs": [],
   "source": [
    "unique_count = []\n",
    "for i in data.columns:\n",
    "    unique_count.append([i,len(data[i].unique()),data[i].isnull().sum()])"
   ]
  },
  {
   "cell_type": "code",
   "execution_count": 13,
   "metadata": {
    "collapsed": false
   },
   "outputs": [
    {
     "data": {
      "text/html": [
       "<div>\n",
       "<style>\n",
       "    .dataframe thead tr:only-child th {\n",
       "        text-align: right;\n",
       "    }\n",
       "\n",
       "    .dataframe thead th {\n",
       "        text-align: left;\n",
       "    }\n",
       "\n",
       "    .dataframe tbody tr th {\n",
       "        vertical-align: top;\n",
       "    }\n",
       "</style>\n",
       "<table border=\"1\" class=\"dataframe\">\n",
       "  <thead>\n",
       "    <tr style=\"text-align: right;\">\n",
       "      <th>Column</th>\n",
       "      <th>patient_id</th>\n",
       "      <th>Age</th>\n",
       "      <th>Gender</th>\n",
       "      <th>Prescription_period</th>\n",
       "      <th>Diabetes</th>\n",
       "      <th>Alcoholism</th>\n",
       "      <th>HyperTension</th>\n",
       "      <th>Smokes</th>\n",
       "      <th>Tuberculosis</th>\n",
       "      <th>Sms_Reminder</th>\n",
       "      <th>Adherence</th>\n",
       "    </tr>\n",
       "  </thead>\n",
       "  <tbody>\n",
       "    <tr>\n",
       "      <th>Unique</th>\n",
       "      <td>180212</td>\n",
       "      <td>107</td>\n",
       "      <td>2</td>\n",
       "      <td>120</td>\n",
       "      <td>2</td>\n",
       "      <td>2</td>\n",
       "      <td>2</td>\n",
       "      <td>2</td>\n",
       "      <td>2</td>\n",
       "      <td>3</td>\n",
       "      <td>2</td>\n",
       "    </tr>\n",
       "    <tr>\n",
       "      <th>Missing</th>\n",
       "      <td>0</td>\n",
       "      <td>0</td>\n",
       "      <td>0</td>\n",
       "      <td>0</td>\n",
       "      <td>0</td>\n",
       "      <td>0</td>\n",
       "      <td>0</td>\n",
       "      <td>0</td>\n",
       "      <td>0</td>\n",
       "      <td>0</td>\n",
       "      <td>0</td>\n",
       "    </tr>\n",
       "  </tbody>\n",
       "</table>\n",
       "</div>"
      ],
      "text/plain": [
       "Column   patient_id  Age  Gender  Prescription_period  Diabetes  Alcoholism  \\\n",
       "Unique       180212  107       2                  120         2           2   \n",
       "Missing           0    0       0                    0         0           0   \n",
       "\n",
       "Column   HyperTension  Smokes  Tuberculosis  Sms_Reminder  Adherence  \n",
       "Unique              2       2             2             3          2  \n",
       "Missing             0       0             0             0          0  "
      ]
     },
     "execution_count": 13,
     "metadata": {},
     "output_type": "execute_result"
    }
   ],
   "source": [
    "pd.DataFrame(unique_count, columns=[\"Column\",\"Unique\",\"Missing\"]).set_index(\"Column\").T"
   ]
  },
  {
   "cell_type": "code",
   "execution_count": 14,
   "metadata": {
    "collapsed": true
   },
   "outputs": [],
   "source": [
    "y = data.Adherence"
   ]
  },
  {
   "cell_type": "markdown",
   "metadata": {},
   "source": [
    "There are no missing values in data set, so imputation is not required"
   ]
  },
  {
   "cell_type": "code",
   "execution_count": 15,
   "metadata": {
    "collapsed": false
   },
   "outputs": [
    {
     "data": {
      "text/plain": [
       "array([ 19,  24,   4,  38,  46,  20,  51,  58,  73,  48,  64,   5,  16,\n",
       "         7,  29,  59,   8,  27,  37,   9,  25,  57,  78,  41,  95,   0,\n",
       "        34,  44,   1,  67,  63,  35,  28,  77,  23,  13,  80,  39,  61,\n",
       "        55,  54,  60,  42,  21,  52,  65,  15,  53,  50,  36,  69,  62,\n",
       "        18,  14,  32,  17,  76,  43,  31,  30,  33,  22,  10,  49,  81,\n",
       "        75,  26,  45,   6,  70,  66,   2,  84,   3,  56,  11,  71,  82,\n",
       "        40,  85,  12,  74,  68,  47,  88,  79,  83,  72,  86,  93,  89,\n",
       "        94,  91,  87, 104,  96,  92,  90, 101,  98, 103, 100,  97,  99,\n",
       "       113, 108, 102])"
      ]
     },
     "execution_count": 15,
     "metadata": {},
     "output_type": "execute_result"
    }
   ],
   "source": [
    "data.Age.unique()"
   ]
  },
  {
   "cell_type": "code",
   "execution_count": 16,
   "metadata": {
    "collapsed": false
   },
   "outputs": [
    {
     "data": {
      "text/html": [
       "<div>\n",
       "<style>\n",
       "    .dataframe thead tr:only-child th {\n",
       "        text-align: right;\n",
       "    }\n",
       "\n",
       "    .dataframe thead th {\n",
       "        text-align: left;\n",
       "    }\n",
       "\n",
       "    .dataframe tbody tr th {\n",
       "        vertical-align: top;\n",
       "    }\n",
       "</style>\n",
       "<table border=\"1\" class=\"dataframe\">\n",
       "  <thead>\n",
       "    <tr style=\"text-align: right;\">\n",
       "      <th></th>\n",
       "      <th>patient_id</th>\n",
       "      <th>Age</th>\n",
       "      <th>Prescription_period</th>\n",
       "      <th>Diabetes</th>\n",
       "      <th>Alcoholism</th>\n",
       "      <th>HyperTension</th>\n",
       "      <th>Smokes</th>\n",
       "      <th>Tuberculosis</th>\n",
       "      <th>Sms_Reminder</th>\n",
       "    </tr>\n",
       "  </thead>\n",
       "  <tbody>\n",
       "    <tr>\n",
       "      <th>patient_id</th>\n",
       "      <td>1.000000</td>\n",
       "      <td>0.000386</td>\n",
       "      <td>0.000724</td>\n",
       "      <td>0.000260</td>\n",
       "      <td>0.001969</td>\n",
       "      <td>0.003887</td>\n",
       "      <td>-0.003523</td>\n",
       "      <td>0.003778</td>\n",
       "      <td>0.002661</td>\n",
       "    </tr>\n",
       "    <tr>\n",
       "      <th>Age</th>\n",
       "      <td>0.000386</td>\n",
       "      <td>1.000000</td>\n",
       "      <td>0.061055</td>\n",
       "      <td>0.295050</td>\n",
       "      <td>0.071761</td>\n",
       "      <td>0.509416</td>\n",
       "      <td>0.090797</td>\n",
       "      <td>0.001300</td>\n",
       "      <td>-0.051713</td>\n",
       "    </tr>\n",
       "    <tr>\n",
       "      <th>Prescription_period</th>\n",
       "      <td>0.000724</td>\n",
       "      <td>0.061055</td>\n",
       "      <td>1.000000</td>\n",
       "      <td>0.017072</td>\n",
       "      <td>-0.015018</td>\n",
       "      <td>0.035913</td>\n",
       "      <td>-0.016020</td>\n",
       "      <td>-0.001677</td>\n",
       "      <td>0.001959</td>\n",
       "    </tr>\n",
       "    <tr>\n",
       "      <th>Diabetes</th>\n",
       "      <td>0.000260</td>\n",
       "      <td>0.295050</td>\n",
       "      <td>0.017072</td>\n",
       "      <td>1.000000</td>\n",
       "      <td>0.021997</td>\n",
       "      <td>0.423884</td>\n",
       "      <td>0.041240</td>\n",
       "      <td>0.004721</td>\n",
       "      <td>-0.031252</td>\n",
       "    </tr>\n",
       "    <tr>\n",
       "      <th>Alcoholism</th>\n",
       "      <td>0.001969</td>\n",
       "      <td>0.071761</td>\n",
       "      <td>-0.015018</td>\n",
       "      <td>0.021997</td>\n",
       "      <td>1.000000</td>\n",
       "      <td>0.068796</td>\n",
       "      <td>0.390472</td>\n",
       "      <td>0.045315</td>\n",
       "      <td>-0.017998</td>\n",
       "    </tr>\n",
       "    <tr>\n",
       "      <th>HyperTension</th>\n",
       "      <td>0.003887</td>\n",
       "      <td>0.509416</td>\n",
       "      <td>0.035913</td>\n",
       "      <td>0.423884</td>\n",
       "      <td>0.068796</td>\n",
       "      <td>1.000000</td>\n",
       "      <td>0.077154</td>\n",
       "      <td>-0.001617</td>\n",
       "      <td>-0.043751</td>\n",
       "    </tr>\n",
       "    <tr>\n",
       "      <th>Smokes</th>\n",
       "      <td>-0.003523</td>\n",
       "      <td>0.090797</td>\n",
       "      <td>-0.016020</td>\n",
       "      <td>0.041240</td>\n",
       "      <td>0.390472</td>\n",
       "      <td>0.077154</td>\n",
       "      <td>1.000000</td>\n",
       "      <td>0.021349</td>\n",
       "      <td>-0.011701</td>\n",
       "    </tr>\n",
       "    <tr>\n",
       "      <th>Tuberculosis</th>\n",
       "      <td>0.003778</td>\n",
       "      <td>0.001300</td>\n",
       "      <td>-0.001677</td>\n",
       "      <td>0.004721</td>\n",
       "      <td>0.045315</td>\n",
       "      <td>-0.001617</td>\n",
       "      <td>0.021349</td>\n",
       "      <td>1.000000</td>\n",
       "      <td>-0.006043</td>\n",
       "    </tr>\n",
       "    <tr>\n",
       "      <th>Sms_Reminder</th>\n",
       "      <td>0.002661</td>\n",
       "      <td>-0.051713</td>\n",
       "      <td>0.001959</td>\n",
       "      <td>-0.031252</td>\n",
       "      <td>-0.017998</td>\n",
       "      <td>-0.043751</td>\n",
       "      <td>-0.011701</td>\n",
       "      <td>-0.006043</td>\n",
       "      <td>1.000000</td>\n",
       "    </tr>\n",
       "  </tbody>\n",
       "</table>\n",
       "</div>"
      ],
      "text/plain": [
       "                     patient_id       Age  Prescription_period  Diabetes  \\\n",
       "patient_id             1.000000  0.000386             0.000724  0.000260   \n",
       "Age                    0.000386  1.000000             0.061055  0.295050   \n",
       "Prescription_period    0.000724  0.061055             1.000000  0.017072   \n",
       "Diabetes               0.000260  0.295050             0.017072  1.000000   \n",
       "Alcoholism             0.001969  0.071761            -0.015018  0.021997   \n",
       "HyperTension           0.003887  0.509416             0.035913  0.423884   \n",
       "Smokes                -0.003523  0.090797            -0.016020  0.041240   \n",
       "Tuberculosis           0.003778  0.001300            -0.001677  0.004721   \n",
       "Sms_Reminder           0.002661 -0.051713             0.001959 -0.031252   \n",
       "\n",
       "                     Alcoholism  HyperTension    Smokes  Tuberculosis  \\\n",
       "patient_id             0.001969      0.003887 -0.003523      0.003778   \n",
       "Age                    0.071761      0.509416  0.090797      0.001300   \n",
       "Prescription_period   -0.015018      0.035913 -0.016020     -0.001677   \n",
       "Diabetes               0.021997      0.423884  0.041240      0.004721   \n",
       "Alcoholism             1.000000      0.068796  0.390472      0.045315   \n",
       "HyperTension           0.068796      1.000000  0.077154     -0.001617   \n",
       "Smokes                 0.390472      0.077154  1.000000      0.021349   \n",
       "Tuberculosis           0.045315     -0.001617  0.021349      1.000000   \n",
       "Sms_Reminder          -0.017998     -0.043751 -0.011701     -0.006043   \n",
       "\n",
       "                     Sms_Reminder  \n",
       "patient_id               0.002661  \n",
       "Age                     -0.051713  \n",
       "Prescription_period      0.001959  \n",
       "Diabetes                -0.031252  \n",
       "Alcoholism              -0.017998  \n",
       "HyperTension            -0.043751  \n",
       "Smokes                  -0.011701  \n",
       "Tuberculosis            -0.006043  \n",
       "Sms_Reminder             1.000000  "
      ]
     },
     "execution_count": 16,
     "metadata": {},
     "output_type": "execute_result"
    }
   ],
   "source": [
    "data.corr()"
   ]
  },
  {
   "cell_type": "markdown",
   "metadata": {},
   "source": [
    "Check corr in Age vs Prescription_period"
   ]
  },
  {
   "cell_type": "code",
   "execution_count": 18,
   "metadata": {
    "collapsed": false
   },
   "outputs": [
    {
     "data": {
      "text/plain": [
       "(0.061054820207031374, 2.2015646254229287e-148)"
      ]
     },
     "execution_count": 18,
     "metadata": {},
     "output_type": "execute_result"
    }
   ],
   "source": [
    "from scipy.stats.stats import pearsonr   \n",
    "pearsonr(data.Age, data.Prescription_period)"
   ]
  },
  {
   "cell_type": "code",
   "execution_count": 19,
   "metadata": {
    "collapsed": false
   },
   "outputs": [
    {
     "data": {
      "image/png": "[encoded data removed]",
      "text/plain": [
       "<matplotlib.figure.Figure at 0x7f77a28e9588>"
      ]
     },
     "metadata": {},
     "output_type": "display_data"
    }
   ],
   "source": [
    "plt.scatter(data.Age, data.Prescription_period)\n",
    "plt.show()"
   ]
  },
  {
   "cell_type": "markdown",
   "metadata": {},
   "source": [
    "##### There is no correlation between Age and Prescription_period"
   ]
  },
  {
   "cell_type": "markdown",
   "metadata": {},
   "source": [
    "Let's see how Age is distributed"
   ]
  },
  {
   "cell_type": "code",
   "execution_count": 20,
   "metadata": {
    "collapsed": false
   },
   "outputs": [
    {
     "data": {
      "image/png": "[encoded data removed]",
      "text/plain": [
       "<matplotlib.figure.Figure at 0x7f77a2639f28>"
      ]
     },
     "metadata": {},
     "output_type": "display_data"
    }
   ],
   "source": [
    "sns.set(style=\"whitegrid\")\n",
    "tips = sns.load_dataset(\"tips\")\n",
    "ax = sns.violinplot(x=data['Age'])"
   ]
  },
  {
   "cell_type": "code",
   "execution_count": 21,
   "metadata": {
    "collapsed": false
   },
   "outputs": [
    {
     "data": {
      "image/png": "[encoded data removed]",
      "text/plain": [
       "<matplotlib.figure.Figure at 0x7f77a26414e0>"
      ]
     },
     "metadata": {},
     "output_type": "display_data"
    }
   ],
   "source": [
    "ax = sns.violinplot(x=\"Diabetes\", y=\"Age\", hue=\"Adherence\", data=data, palette=\"muted\", split=True)"
   ]
  },
  {
   "cell_type": "code",
   "execution_count": 22,
   "metadata": {
    "collapsed": false
   },
   "outputs": [
    {
     "data": {
      "image/png": "[encoded data removed]",
      "text/plain": [
       "<matplotlib.figure.Figure at 0x7f77a21011d0>"
      ]
     },
     "metadata": {},
     "output_type": "display_data"
    }
   ],
   "source": [
    "ax = sns.violinplot(x=\"Alcoholism\", y=\"Age\", hue=\"Adherence\", data=data, palette=\"muted\", split=True)"
   ]
  },
  {
   "cell_type": "code",
   "execution_count": 23,
   "metadata": {
    "collapsed": false
   },
   "outputs": [
    {
     "data": {
      "image/png": "[encoded data removed]",
      "text/plain": [
       "<matplotlib.figure.Figure at 0x7f77a217d6d8>"
      ]
     },
     "metadata": {},
     "output_type": "display_data"
    }
   ],
   "source": [
    "ax = sns.violinplot(x=\"HyperTension\", y=\"Age\", hue=\"Adherence\", data=data, palette=\"muted\", split=True)"
   ]
  },
  {
   "cell_type": "code",
   "execution_count": 24,
   "metadata": {
    "collapsed": false
   },
   "outputs": [
    {
     "data": {
      "image/png": "[encoded data removed]",
      "text/plain": [
       "<matplotlib.figure.Figure at 0x7f77a1f816a0>"
      ]
     },
     "metadata": {},
     "output_type": "display_data"
    }
   ],
   "source": [
    "ax = sns.violinplot(x=\"Smokes\", y=\"Age\", hue=\"Adherence\", data=data, palette=\"muted\", split=True)"
   ]
  },
  {
   "cell_type": "code",
   "execution_count": 25,
   "metadata": {
    "collapsed": false
   },
   "outputs": [
    {
     "data": {
      "image/png": "[encoded data removed]",
      "text/plain": [
       "<matplotlib.figure.Figure at 0x7f77a28d8780>"
      ]
     },
     "metadata": {},
     "output_type": "display_data"
    }
   ],
   "source": [
    "ax = sns.violinplot(x=\"Tuberculosis\", y=\"Age\", hue=\"Adherence\", data=data, palette=\"muted\", split=True)"
   ]
  },
  {
   "cell_type": "code",
   "execution_count": 26,
   "metadata": {
    "collapsed": false
   },
   "outputs": [
    {
     "data": {
      "image/png": "[encoded data removed]",
      "text/plain": [
       "<matplotlib.figure.Figure at 0x7f77a28d84e0>"
      ]
     },
     "metadata": {},
     "output_type": "display_data"
    }
   ],
   "source": [
    "ax = sns.violinplot(x=\"Sms_Reminder\", y=\"Age\", hue=\"Adherence\", data=data, palette=\"muted\", split=True)"
   ]
  },
  {
   "cell_type": "markdown",
   "metadata": {},
   "source": [
    "Categorical data exploration"
   ]
  },
  {
   "cell_type": "code",
   "execution_count": 27,
   "metadata": {
    "collapsed": false
   },
   "outputs": [
    {
     "data": {
      "image/png": "[encoded data removed]",
      "text/plain": [
       "<matplotlib.figure.Figure at 0x7f77a1f4c6d8>"
      ]
     },
     "metadata": {},
     "output_type": "display_data"
    },
    {
     "data": {
      "image/png": "[encoded data removed]",
      "text/plain": [
       "<matplotlib.figure.Figure at 0x7f77a1d89d68>"
      ]
     },
     "metadata": {},
     "output_type": "display_data"
    },
    {
     "data": {
      "image/png": "[encoded data removed]",
      "text/plain": [
       "<matplotlib.figure.Figure at 0x7f77a1d6fdd8>"
      ]
     },
     "metadata": {},
     "output_type": "display_data"
    },
    {
     "data": {
      "image/png": "[encoded data removed]",
      "text/plain": [
       "<matplotlib.figure.Figure at 0x7f77a1b30b70>"
      ]
     },
     "metadata": {},
     "output_type": "display_data"
    },
    {
     "data": {
      "image/png": "[encoded data removed]",
      "text/plain": [
       "<matplotlib.figure.Figure at 0x7f77a2123828>"
      ]
     },
     "metadata": {},
     "output_type": "display_data"
    }
   ],
   "source": [
    "#Plot count plot for all attributes in a 29x4 grid\n",
    "cols = data.columns[1:]\n",
    "n_cols = 2\n",
    "n_rows = 5\n",
    "for i in range(n_rows):\n",
    "    fg,ax = plt.subplots(nrows=1,ncols=n_cols,sharey=True,figsize=(12, 8))\n",
    "    for j in range(n_cols):\n",
    "        sns.countplot(x=cols[i*n_cols+j], data=data, ax=ax[j])"
   ]
  },
  {
   "cell_type": "code",
   "execution_count": 28,
   "metadata": {
    "collapsed": false
   },
   "outputs": [
    {
     "data": {
      "text/plain": [
       "array([  7,  59,  43,  66,  98,  73, 102,  96,  89,  97,  77, 107,   9,\n",
       "       115,  35,  17,  31,  92,  44,  13,  21,   1,  69,  79, 119,  46,\n",
       "        58,  19,  64,  18,  28,  14,  10,  23,   6,  99,  33,  39,   3,\n",
       "        36,  24,  25,  30,  86,   4,  32,  75,  76, 101,  80, 108,  83,\n",
       "        40,  93,   8,  57,  50,  54,  72,  55,  38,  56,  12,  47, 104,\n",
       "        41,  26,  65, 118, 114,  70,  91, 117,  87, 106,  63, 105,  20,\n",
       "        45, 113,  27, 111,  67, 116,  95, 100,  51,  74,  16,  34, 103,\n",
       "        11,  90, 110,   5,   2,  84,  37, 112,  42, 120,  29, 109,  61,\n",
       "        60,  53,  68,  49,  22,  94,  85,  15,  81,  78,  71,  62,  82,\n",
       "        48,  88,  52])"
      ]
     },
     "execution_count": 28,
     "metadata": {},
     "output_type": "execute_result"
    }
   ],
   "source": [
    "data.Prescription_period.unique()"
   ]
  },
  {
   "cell_type": "markdown",
   "metadata": {},
   "source": [
    "### Data Transformation"
   ]
  },
  {
   "cell_type": "markdown",
   "metadata": {},
   "source": [
    "Convert Prescription_period days to weeeks"
   ]
  },
  {
   "cell_type": "code",
   "execution_count": 30,
   "metadata": {
    "collapsed": false,
    "scrolled": true
   },
   "outputs": [
    {
     "data": {
      "text/plain": [
       "0          1.0\n",
       "1          8.0\n",
       "2          6.0\n",
       "3          9.0\n",
       "4         14.0\n",
       "5         10.0\n",
       "6         15.0\n",
       "7         14.0\n",
       "8         13.0\n",
       "9         14.0\n",
       "10        11.0\n",
       "11        15.0\n",
       "12         1.0\n",
       "13        16.0\n",
       "14         5.0\n",
       "15         2.0\n",
       "16         4.0\n",
       "17        13.0\n",
       "18         6.0\n",
       "19         2.0\n",
       "20         6.0\n",
       "21         3.0\n",
       "22         0.0\n",
       "23        10.0\n",
       "24        11.0\n",
       "25        17.0\n",
       "26         7.0\n",
       "27        17.0\n",
       "28         8.0\n",
       "29         8.0\n",
       "          ... \n",
       "180182    17.0\n",
       "180183    14.0\n",
       "180184     3.0\n",
       "180185     2.0\n",
       "180186     8.0\n",
       "180187    12.0\n",
       "180188     3.0\n",
       "180189     3.0\n",
       "180190    17.0\n",
       "180191     6.0\n",
       "180192    14.0\n",
       "180193     1.0\n",
       "180194     6.0\n",
       "180195     1.0\n",
       "180196    15.0\n",
       "180197    14.0\n",
       "180198    15.0\n",
       "180199     2.0\n",
       "180200    13.0\n",
       "180201     6.0\n",
       "180202     3.0\n",
       "180203    12.0\n",
       "180204     4.0\n",
       "180205     0.0\n",
       "180206     0.0\n",
       "180207    12.0\n",
       "180208    13.0\n",
       "180209     3.0\n",
       "180210    15.0\n",
       "180211    14.0\n",
       "Name: Prescription_weeks, Length: 180212, dtype: float64"
      ]
     },
     "execution_count": 30,
     "metadata": {},
     "output_type": "execute_result"
    }
   ],
   "source": [
    "data['Prescription_weeks'] = np.round(data.Prescription_period/7)\n",
    "data.Prescription_weeks"
   ]
  },
  {
   "cell_type": "code",
   "execution_count": 31,
   "metadata": {
    "collapsed": false
   },
   "outputs": [
    {
     "data": {
      "text/plain": [
       "array([ 19,  24,   4,  38,  46,  20,  51,  58,  73,  48,  64,   5,  16,\n",
       "         7,  29,  59,   8,  27,  37,   9,  25,  57,  78,  41,  95,   0,\n",
       "        34,  44,   1,  67,  63,  35,  28,  77,  23,  13,  80,  39,  61,\n",
       "        55,  54,  60,  42,  21,  52,  65,  15,  53,  50,  36,  69,  62,\n",
       "        18,  14,  32,  17,  76,  43,  31,  30,  33,  22,  10,  49,  81,\n",
       "        75,  26,  45,   6,  70,  66,   2,  84,   3,  56,  11,  71,  82,\n",
       "        40,  85,  12,  74,  68,  47,  88,  79,  83,  72,  86,  93,  89,\n",
       "        94,  91,  87, 104,  96,  92,  90, 101,  98, 103, 100,  97,  99,\n",
       "       113, 108, 102])"
      ]
     },
     "execution_count": 31,
     "metadata": {},
     "output_type": "execute_result"
    }
   ],
   "source": [
    "data.Age.unique()"
   ]
  },
  {
   "cell_type": "markdown",
   "metadata": {},
   "source": [
    "Convert Age to Infant id, Young, Middle-aged Senior, Old bins."
   ]
  },
  {
   "cell_type": "code",
   "execution_count": 32,
   "metadata": {
    "collapsed": false
   },
   "outputs": [
    {
     "data": {
      "text/plain": [
       "0          Young\n",
       "1          Young\n",
       "2         Infant\n",
       "3    Middle-aged\n",
       "4         Senior\n",
       "Name: Age_bins, dtype: category\n",
       "Categories (6, object): [Infant < Kid < Young < Middle-aged < Senior < Old]"
      ]
     },
     "execution_count": 32,
     "metadata": {},
     "output_type": "execute_result"
    }
   ],
   "source": [
    "age_bins = [0, 5, 10, 25, 45, 65, 113]\n",
    "age_labels = [\"Infant\", \"Kid\", \"Young\", \"Middle-aged\", \"Senior\", \"Old\"]\n",
    "data['Age_bins'] = pd.cut(data['Age'], age_bins, labels=age_labels, \n",
    "    right=True, include_lowest=True)\n",
    "data['Age_bins'][:5]"
   ]
  },
  {
   "cell_type": "code",
   "execution_count": 33,
   "metadata": {
    "collapsed": false
   },
   "outputs": [],
   "source": [
    "for i in data.columns:\n",
    "    le = LabelEncoder()\n",
    "    data[i] = le.fit_transform(data[i])"
   ]
  },
  {
   "cell_type": "code",
   "execution_count": 34,
   "metadata": {
    "collapsed": false
   },
   "outputs": [
    {
     "data": {
      "text/plain": [
       "patient_id             int64\n",
       "Age                    int64\n",
       "Gender                 int64\n",
       "Prescription_period    int64\n",
       "Diabetes               int64\n",
       "Alcoholism             int64\n",
       "HyperTension           int64\n",
       "Smokes                 int64\n",
       "Tuberculosis           int64\n",
       "Sms_Reminder           int64\n",
       "Adherence              int64\n",
       "Prescription_weeks     int64\n",
       "Age_bins               int64\n",
       "dtype: object"
      ]
     },
     "execution_count": 34,
     "metadata": {},
     "output_type": "execute_result"
    }
   ],
   "source": [
    "data.dtypes"
   ]
  },
  {
   "cell_type": "code",
   "execution_count": 35,
   "metadata": {
    "collapsed": false
   },
   "outputs": [
    {
     "data": {
      "text/html": [
       "<div>\n",
       "<style>\n",
       "    .dataframe thead tr:only-child th {\n",
       "        text-align: right;\n",
       "    }\n",
       "\n",
       "    .dataframe thead th {\n",
       "        text-align: left;\n",
       "    }\n",
       "\n",
       "    .dataframe tbody tr th {\n",
       "        vertical-align: top;\n",
       "    }\n",
       "</style>\n",
       "<table border=\"1\" class=\"dataframe\">\n",
       "  <thead>\n",
       "    <tr style=\"text-align: right;\">\n",
       "      <th></th>\n",
       "      <th>patient_id</th>\n",
       "      <th>Age</th>\n",
       "      <th>Gender</th>\n",
       "      <th>Prescription_period</th>\n",
       "      <th>Diabetes</th>\n",
       "      <th>Alcoholism</th>\n",
       "      <th>HyperTension</th>\n",
       "      <th>Smokes</th>\n",
       "      <th>Tuberculosis</th>\n",
       "      <th>Sms_Reminder</th>\n",
       "      <th>Adherence</th>\n",
       "      <th>Prescription_weeks</th>\n",
       "      <th>Age_bins</th>\n",
       "    </tr>\n",
       "  </thead>\n",
       "  <tbody>\n",
       "    <tr>\n",
       "      <th>0</th>\n",
       "      <td>0</td>\n",
       "      <td>19</td>\n",
       "      <td>1</td>\n",
       "      <td>6</td>\n",
       "      <td>0</td>\n",
       "      <td>0</td>\n",
       "      <td>0</td>\n",
       "      <td>0</td>\n",
       "      <td>0</td>\n",
       "      <td>0</td>\n",
       "      <td>0</td>\n",
       "      <td>1</td>\n",
       "      <td>5</td>\n",
       "    </tr>\n",
       "    <tr>\n",
       "      <th>1</th>\n",
       "      <td>1</td>\n",
       "      <td>24</td>\n",
       "      <td>0</td>\n",
       "      <td>58</td>\n",
       "      <td>0</td>\n",
       "      <td>0</td>\n",
       "      <td>0</td>\n",
       "      <td>0</td>\n",
       "      <td>0</td>\n",
       "      <td>0</td>\n",
       "      <td>0</td>\n",
       "      <td>8</td>\n",
       "      <td>5</td>\n",
       "    </tr>\n",
       "    <tr>\n",
       "      <th>2</th>\n",
       "      <td>2</td>\n",
       "      <td>4</td>\n",
       "      <td>0</td>\n",
       "      <td>42</td>\n",
       "      <td>0</td>\n",
       "      <td>0</td>\n",
       "      <td>0</td>\n",
       "      <td>0</td>\n",
       "      <td>0</td>\n",
       "      <td>0</td>\n",
       "      <td>0</td>\n",
       "      <td>6</td>\n",
       "      <td>0</td>\n",
       "    </tr>\n",
       "    <tr>\n",
       "      <th>3</th>\n",
       "      <td>3</td>\n",
       "      <td>38</td>\n",
       "      <td>1</td>\n",
       "      <td>65</td>\n",
       "      <td>0</td>\n",
       "      <td>0</td>\n",
       "      <td>0</td>\n",
       "      <td>0</td>\n",
       "      <td>0</td>\n",
       "      <td>1</td>\n",
       "      <td>0</td>\n",
       "      <td>9</td>\n",
       "      <td>2</td>\n",
       "    </tr>\n",
       "    <tr>\n",
       "      <th>4</th>\n",
       "      <td>4</td>\n",
       "      <td>46</td>\n",
       "      <td>0</td>\n",
       "      <td>97</td>\n",
       "      <td>0</td>\n",
       "      <td>0</td>\n",
       "      <td>0</td>\n",
       "      <td>0</td>\n",
       "      <td>0</td>\n",
       "      <td>1</td>\n",
       "      <td>0</td>\n",
       "      <td>14</td>\n",
       "      <td>4</td>\n",
       "    </tr>\n",
       "  </tbody>\n",
       "</table>\n",
       "</div>"
      ],
      "text/plain": [
       "   patient_id  Age  Gender  Prescription_period  Diabetes  Alcoholism  \\\n",
       "0           0   19       1                    6         0           0   \n",
       "1           1   24       0                   58         0           0   \n",
       "2           2    4       0                   42         0           0   \n",
       "3           3   38       1                   65         0           0   \n",
       "4           4   46       0                   97         0           0   \n",
       "\n",
       "   HyperTension  Smokes  Tuberculosis  Sms_Reminder  Adherence  \\\n",
       "0             0       0             0             0          0   \n",
       "1             0       0             0             0          0   \n",
       "2             0       0             0             0          0   \n",
       "3             0       0             0             1          0   \n",
       "4             0       0             0             1          0   \n",
       "\n",
       "   Prescription_weeks  Age_bins  \n",
       "0                   1         5  \n",
       "1                   8         5  \n",
       "2                   6         0  \n",
       "3                   9         2  \n",
       "4                  14         4  "
      ]
     },
     "execution_count": 35,
     "metadata": {},
     "output_type": "execute_result"
    }
   ],
   "source": [
    "data.head()"
   ]
  },
  {
   "cell_type": "code",
   "execution_count": 36,
   "metadata": {
    "collapsed": false
   },
   "outputs": [
    {
     "data": {
      "text/plain": [
       "patient_id                int64\n",
       "Age                       int64\n",
       "Gender                    int64\n",
       "Prescription_period       int64\n",
       "Diabetes               category\n",
       "Alcoholism             category\n",
       "HyperTension           category\n",
       "Smokes                 category\n",
       "Tuberculosis           category\n",
       "Sms_Reminder           category\n",
       "Adherence              category\n",
       "Prescription_weeks     category\n",
       "Age_bins               category\n",
       "dtype: object"
      ]
     },
     "execution_count": 36,
     "metadata": {},
     "output_type": "execute_result"
    }
   ],
   "source": [
    "cat_var = [ 'Age_bins', 'Prescription_weeks', 'Diabetes', 'Alcoholism',\n",
    "       'HyperTension', 'Smokes', 'Tuberculosis', 'Sms_Reminder', 'Adherence']\n",
    "for i in cat_var:\n",
    "    data[i] = pd.Categorical(data[i])\n",
    "\n",
    "data.dtypes"
   ]
  },
  {
   "cell_type": "markdown",
   "metadata": {},
   "source": [
    "Generalized method to call classification model"
   ]
  },
  {
   "cell_type": "code",
   "execution_count": 37,
   "metadata": {
    "collapsed": false
   },
   "outputs": [],
   "source": [
    "def classification_model(model, data, predictors, outcome, test_):\n",
    "    \n",
    "    #fit model\n",
    "    model.fit(data[predictors], data[outcome])\n",
    "    \n",
    "    #predict using model\n",
    "    predictions = model.predict(data[predictors])\n",
    "    \n",
    "    #Print accuracy\n",
    "    accuracy = metrics.accuracy_score(predictions, data[outcome])\n",
    "    print(\" Accuracy is\", accuracy)\n",
    "    \n",
    "    # k-fold cross validation\n",
    "    kf = KFold(data.shape[0], n_folds= 5)\n",
    "    \n",
    "    error =[]\n",
    "    \n",
    "    for train, test in kf:\n",
    "        train_predictors = (data[predictors].iloc[train,:]) \n",
    "        train_target = (data[outcome].iloc[train])\n",
    "        \n",
    "        test_predictors = (data[predictors].iloc[test,:])\n",
    "        test_target = (data[outcome].iloc[test])\n",
    "        \n",
    "        model.fit(train_predictors, train_target)\n",
    "        \n",
    "        #error on the test data from k-fold\n",
    "        temp = model.score(test_predictors, test_target)\n",
    "        \n",
    "        error.append(temp)\n",
    "    \n",
    "    y_pred = model.predict_proba(test_[predictors])[:,1]\n",
    "    threshold = 0.4 # You can play on this value (default is 0.5)\n",
    "    y_pred = [1 if i >= threshold else 0 for i in y_pred]\n",
    "    print(classification_report(test_[outcome], y_pred))    \n",
    "    print(\"Cross validation score: %s\"% np.mean(error))"
   ]
  },
  {
   "cell_type": "markdown",
   "metadata": {},
   "source": [
    "### Logistic"
   ]
  },
  {
   "cell_type": "code",
   "execution_count": 38,
   "metadata": {
    "collapsed": true
   },
   "outputs": [],
   "source": [
    "predictor_var1 = ['Age', 'Gender', 'Prescription_period', 'Diabetes',\n",
    "                 'Alcoholism', 'HyperTension', 'Smokes', 'Tuberculosis', 'Sms_Reminder']\n",
    "\n",
    "\n",
    "predictor_var2 = ['Prescription_weeks', 'Age_bins', 'Gender',  'Diabetes',\n",
    "                 'Alcoholism', 'HyperTension', 'Smokes', 'Tuberculosis', 'Sms_Reminder']\n",
    "\n",
    "outcome = 'Adherence'"
   ]
  },
  {
   "cell_type": "code",
   "execution_count": 39,
   "metadata": {
    "collapsed": true
   },
   "outputs": [],
   "source": [
    "train, test, y_train, y_test = train_test_split(data, data[outcome], test_size=0.2)"
   ]
  },
  {
   "cell_type": "code",
   "execution_count": 40,
   "metadata": {
    "collapsed": false
   },
   "outputs": [
    {
     "name": "stdout",
     "output_type": "stream",
     "text": [
      " Accuracy is 0.880244712802\n",
      "             precision    recall  f1-score   support\n",
      "\n",
      "          0       0.95      0.86      0.90     25178\n",
      "          1       0.73      0.90      0.81     10865\n",
      "\n",
      "avg / total       0.88      0.87      0.87     36043\n",
      "\n",
      "Cross validation score: 0.880258602371\n"
     ]
    }
   ],
   "source": [
    "logit_model = LogisticRegression()\n",
    "classification_model(logit_model, train, predictor_var1, outcome, test)"
   ]
  },
  {
   "cell_type": "code",
   "execution_count": 42,
   "metadata": {
    "collapsed": false
   },
   "outputs": [
    {
     "name": "stdout",
     "output_type": "stream",
     "text": [
      " Accuracy is 0.883366049567\n",
      "             precision    recall  f1-score   support\n",
      "\n",
      "          0       0.95      0.87      0.91     25178\n",
      "          1       0.75      0.90      0.82     10865\n",
      "\n",
      "avg / total       0.89      0.88      0.88     36043\n",
      "\n",
      "Cross validation score: 0.883435429904\n"
     ]
    }
   ],
   "source": [
    "logit_model = LogisticRegression()\n",
    "classification_model(logit_model, train, predictor_var2, outcome, test)"
   ]
  },
  {
   "cell_type": "code",
   "execution_count": 43,
   "metadata": {
    "collapsed": false
   },
   "outputs": [
    {
     "name": "stdout",
     "output_type": "stream",
     "text": [
      " Accuracy is 0.92368678426\n",
      "             precision    recall  f1-score   support\n",
      "\n",
      "          0       0.91      0.87      0.89     25178\n",
      "          1       0.73      0.81      0.77     10865\n",
      "\n",
      "avg / total       0.86      0.85      0.85     36043\n",
      "\n",
      "Cross validation score: 0.850182781395\n"
     ]
    }
   ],
   "source": [
    "dt_model = DecisionTreeClassifier()\n",
    "classification_model(dt_model, train, predictor_var1,outcome, test)"
   ]
  },
  {
   "cell_type": "code",
   "execution_count": 44,
   "metadata": {
    "collapsed": false
   },
   "outputs": [
    {
     "name": "stdout",
     "output_type": "stream",
     "text": [
      " Accuracy is 0.88804111841\n",
      "             precision    recall  f1-score   support\n",
      "\n",
      "          0       0.95      0.88      0.91     25178\n",
      "          1       0.76      0.90      0.82     10865\n",
      "\n",
      "avg / total       0.89      0.88      0.89     36043\n",
      "\n",
      "Cross validation score: 0.885280490789\n"
     ]
    }
   ],
   "source": [
    "dt_model = DecisionTreeClassifier()\n",
    "classification_model(dt_model, train, predictor_var2,outcome, test)"
   ]
  },
  {
   "cell_type": "code",
   "execution_count": 45,
   "metadata": {
    "collapsed": false
   },
   "outputs": [
    {
     "name": "stdout",
     "output_type": "stream",
     "text": [
      " Accuracy is 0.920232504907\n",
      "             precision    recall  f1-score   support\n",
      "\n",
      "          0       0.93      0.87      0.90     25178\n",
      "          1       0.74      0.84      0.79     10865\n",
      "\n",
      "avg / total       0.87      0.86      0.87     36043\n",
      "\n",
      "Cross validation score: 0.863764062406\n"
     ]
    }
   ],
   "source": [
    "rf_model1 = RandomForestClassifier()\n",
    "classification_model(rf_model1, train, predictor_var1, outcome, test)"
   ]
  },
  {
   "cell_type": "code",
   "execution_count": 46,
   "metadata": {
    "collapsed": false
   },
   "outputs": [
    {
     "name": "stdout",
     "output_type": "stream",
     "text": [
      " Accuracy is 0.887985627978\n",
      "             precision    recall  f1-score   support\n",
      "\n",
      "          0       0.95      0.88      0.91     25178\n",
      "          1       0.76      0.90      0.82     10865\n",
      "\n",
      "avg / total       0.89      0.88      0.89     36043\n",
      "\n",
      "Cross validation score: 0.885412282536\n"
     ]
    }
   ],
   "source": [
    "rf_model2 = RandomForestClassifier()\n",
    "classification_model(rf_model2, train, predictor_var2, outcome, test)"
   ]
  },
  {
   "cell_type": "markdown",
   "metadata": {},
   "source": [
    "Let's see which features are important\n",
    "\n",
    "Random Forest - will give list of features and it's importance\n",
    "PCA - will create all together new variables\n"
   ]
  },
  {
   "cell_type": "code",
   "execution_count": 47,
   "metadata": {
    "collapsed": false,
    "scrolled": true
   },
   "outputs": [
    {
     "name": "stdout",
     "output_type": "stream",
     "text": [
      "Prescription_period    0.846721\n",
      "Age                    0.131118\n",
      "Sms_Reminder           0.006539\n",
      "Gender                 0.005475\n",
      "HyperTension           0.003580\n",
      "Diabetes               0.002662\n",
      "Smokes                 0.002409\n",
      "Alcoholism             0.001377\n",
      "Tuberculosis           0.000119\n",
      "dtype: float64\n"
     ]
    }
   ],
   "source": [
    "featureImportance = pd.Series(rf_model1.feature_importances_, index= predictor_var1).sort_values(ascending = False)\n",
    "print(featureImportance)"
   ]
  },
  {
   "cell_type": "code",
   "execution_count": 48,
   "metadata": {
    "collapsed": false
   },
   "outputs": [
    {
     "name": "stdout",
     "output_type": "stream",
     "text": [
      "Prescription_weeks    0.971227\n",
      "Age_bins              0.013500\n",
      "Sms_Reminder          0.004356\n",
      "HyperTension          0.002881\n",
      "Gender                0.002401\n",
      "Smokes                0.002347\n",
      "Alcoholism            0.001670\n",
      "Diabetes              0.001456\n",
      "Tuberculosis          0.000162\n",
      "dtype: float64\n"
     ]
    }
   ],
   "source": [
    "featureImportance = pd.Series(rf_model2.feature_importances_, index= predictor_var2).sort_values(ascending = False)\n",
    "print(featureImportance)"
   ]
  },
  {
   "cell_type": "markdown",
   "metadata": {},
   "source": [
    "It is clearly been seen that - Sms_Reminder , HyperTension, Diabetes, Smokes, Alcoholism, Tuberculosis have least importance\n",
    "\n",
    "It is clear Age bin is not that important"
   ]
  },
  {
   "cell_type": "markdown",
   "metadata": {},
   "source": [
    "So now let's try with important features"
   ]
  },
  {
   "cell_type": "code",
   "execution_count": 49,
   "metadata": {
    "collapsed": false
   },
   "outputs": [
    {
     "name": "stdout",
     "output_type": "stream",
     "text": [
      " Accuracy is 0.895830587713\n",
      "             precision    recall  f1-score   support\n",
      "\n",
      "          0       0.95      0.89      0.92     25178\n",
      "          1       0.78      0.89      0.83     10865\n",
      "\n",
      "avg / total       0.90      0.89      0.89     36043\n",
      "\n",
      "Cross validation score: 0.889636484216\n"
     ]
    }
   ],
   "source": [
    "new_var = ['Prescription_period', 'Age']\n",
    "rf_model = RandomForestClassifier()\n",
    "classification_model(rf_model, train, new_var, outcome, test)"
   ]
  },
  {
   "cell_type": "code",
   "execution_count": 50,
   "metadata": {
    "collapsed": false
   },
   "outputs": [
    {
     "name": "stdout",
     "output_type": "stream",
     "text": [
      " Accuracy is 0.898209739958\n",
      "             precision    recall  f1-score   support\n",
      "\n",
      "          0       0.94      0.88      0.91     25178\n",
      "          1       0.77      0.87      0.82     10865\n",
      "\n",
      "avg / total       0.89      0.88      0.88     36043\n",
      "\n",
      "Cross validation score: 0.881840083611\n"
     ]
    }
   ],
   "source": [
    "new_var = ['Prescription_period', 'Age', 'Gender']\n",
    "rf_model = RandomForestClassifier()\n",
    "classification_model(rf_model, train, new_var, outcome, test)"
   ]
  },
  {
   "cell_type": "code",
   "execution_count": 51,
   "metadata": {
    "collapsed": false
   },
   "outputs": [
    {
     "name": "stdout",
     "output_type": "stream",
     "text": [
      " Accuracy is 0.887534768223\n",
      "             precision    recall  f1-score   support\n",
      "\n",
      "          0       0.95      0.88      0.91     25178\n",
      "          1       0.76      0.90      0.82     10865\n",
      "\n",
      "avg / total       0.90      0.89      0.89     36043\n",
      "\n",
      "Cross validation score: 0.885800713102\n"
     ]
    }
   ],
   "source": [
    "new_var = ['Prescription_weeks', 'Age', 'Gender']\n",
    "rf_model = RandomForestClassifier()\n",
    "classification_model(rf_model, train, new_var, outcome, test)"
   ]
  },
  {
   "cell_type": "code",
   "execution_count": 52,
   "metadata": {
    "collapsed": false
   },
   "outputs": [
    {
     "name": "stdout",
     "output_type": "stream",
     "text": [
      " Accuracy is 0.887160207812\n",
      "             precision    recall  f1-score   support\n",
      "\n",
      "          0       0.95      0.88      0.91     25178\n",
      "          1       0.76      0.90      0.83     10865\n",
      "\n",
      "avg / total       0.90      0.89      0.89     36043\n",
      "\n",
      "Cross validation score: 0.887160228382\n"
     ]
    }
   ],
   "source": [
    "new_var = ['Prescription_weeks', 'Age_bins', 'Gender']\n",
    "rf_model = RandomForestClassifier()\n",
    "classification_model(rf_model, train, new_var, outcome, test)"
   ]
  },
  {
   "cell_type": "code",
   "execution_count": 53,
   "metadata": {
    "collapsed": false
   },
   "outputs": [
    {
     "name": "stdout",
     "output_type": "stream",
     "text": [
      " Accuracy is 0.887160207812\n",
      "             precision    recall  f1-score   support\n",
      "\n",
      "          0       0.95      0.88      0.91     25178\n",
      "          1       0.76      0.90      0.83     10865\n",
      "\n",
      "avg / total       0.90      0.89      0.89     36043\n",
      "\n",
      "Cross validation score: 0.887160228382\n"
     ]
    }
   ],
   "source": [
    "new_var = ['Prescription_weeks', 'Age_bins']\n",
    "rf_model = RandomForestClassifier()\n",
    "classification_model(rf_model, train, new_var, outcome, test)"
   ]
  },
  {
   "cell_type": "code",
   "execution_count": 54,
   "metadata": {
    "collapsed": false
   },
   "outputs": [
    {
     "name": "stdout",
     "output_type": "stream",
     "text": [
      " Accuracy is 0.887271188674\n",
      "             precision    recall  f1-score   support\n",
      "\n",
      "          0       0.95      0.88      0.91     25178\n",
      "          1       0.76      0.90      0.83     10865\n",
      "\n",
      "avg / total       0.90      0.89      0.89     36043\n",
      "\n",
      "Cross validation score: 0.886459663178\n"
     ]
    }
   ],
   "source": [
    "new_var = ['Prescription_weeks', 'Age']\n",
    "rf_model = RandomForestClassifier()\n",
    "classification_model(rf_model, train, new_var, outcome, test)"
   ]
  },
  {
   "cell_type": "code",
   "execution_count": 57,
   "metadata": {
    "collapsed": false
   },
   "outputs": [
    {
     "name": "stdout",
     "output_type": "stream",
     "text": [
      "Accuracy: 89.42%\n",
      "             precision    recall  f1-score   support\n",
      "\n",
      "          0       0.95      0.90      0.92     25178\n",
      "          1       0.79      0.89      0.83     10865\n",
      "\n",
      "avg / total       0.90      0.89      0.90     36043\n",
      "\n"
     ]
    }
   ],
   "source": [
    "xgb_var = ['Prescription_period','Age']\n",
    "\n",
    "model = XGBClassifier()\n",
    "model.fit(train[xgb_var], train[outcome])\n",
    "y_pred = model.predict(test[xgb_var])\n",
    "\n",
    "accuracy = accuracy_score(test[outcome], y_pred)\n",
    "print(\"Accuracy: %.2f%%\" % (accuracy * 100.0))\n",
    "print(classification_report(test[outcome], y_pred))"
   ]
  },
  {
   "cell_type": "code",
   "execution_count": 58,
   "metadata": {
    "collapsed": false
   },
   "outputs": [
    {
     "name": "stderr",
     "output_type": "stream",
     "text": [
      "/home/sayali/anaconda3/lib/python3.5/site-packages/sklearn/linear_model/stochastic_gradient.py:73: DeprecationWarning: n_iter parameter is deprecated in 0.19 and will be removed in 0.21. Use max_iter and tol instead.\n",
      "  DeprecationWarning)\n"
     ]
    },
    {
     "name": "stdout",
     "output_type": "stream",
     "text": [
      "             precision    recall  f1-score   support\n",
      "\n",
      "          0       0.93      0.90      0.91     25178\n",
      "          1       0.78      0.84      0.81     10865\n",
      "\n",
      "avg / total       0.88      0.88      0.88     36043\n",
      "\n"
     ]
    }
   ],
   "source": [
    "svm_model = SGDClassifier(n_iter=100, alpha=0.01) \n",
    "svm_model.fit(train[predictor_var1], train[outcome])\n",
    "y_pred = svm_model.predict(test[predictor_var1])\n",
    "print(classification_report(test[outcome], y_pred))"
   ]
  },
  {
   "cell_type": "code",
   "execution_count": 63,
   "metadata": {
    "collapsed": false
   },
   "outputs": [
    {
     "data": {
      "image/png": "[encoded data removed]",
      "text/plain": [
       "<matplotlib.figure.Figure at 0x7f77a10c29b0>"
      ]
     },
     "metadata": {},
     "output_type": "display_data"
    }
   ],
   "source": [
    "plt.scatter(data['Prescription_weeks'], data['Age_bins'], c=data['Adherence'], s=50, cmap='autumn');"
   ]
  },
  {
   "cell_type": "code",
   "execution_count": 64,
   "metadata": {
    "collapsed": false
   },
   "outputs": [
    {
     "data": {
      "image/png": "[encoded data removed]",
      "text/plain": [
       "<matplotlib.figure.Figure at 0x7f77a109c438>"
      ]
     },
     "metadata": {},
     "output_type": "display_data"
    }
   ],
   "source": [
    "plt.scatter(data['Prescription_period'], data['Age'], c=data['Adherence'], s=50, cmap='autumn');"
   ]
  },
  {
   "cell_type": "markdown",
   "metadata": {},
   "source": [
    "##### This is might land in imbalanced class problem"
   ]
  },
  {
   "cell_type": "code",
   "execution_count": 59,
   "metadata": {
    "collapsed": false
   },
   "outputs": [
    {
     "name": "stderr",
     "output_type": "stream",
     "text": [
      "/home/sayali/anaconda3/lib/python3.5/site-packages/sklearn/linear_model/stochastic_gradient.py:73: DeprecationWarning: n_iter parameter is deprecated in 0.19 and will be removed in 0.21. Use max_iter and tol instead.\n",
      "  DeprecationWarning)\n"
     ]
    },
    {
     "name": "stdout",
     "output_type": "stream",
     "text": [
      "             precision    recall  f1-score   support\n",
      "\n",
      "          0       0.94      0.87      0.91     25178\n",
      "          1       0.75      0.88      0.81     10865\n",
      "\n",
      "avg / total       0.89      0.88      0.88     36043\n",
      "\n"
     ]
    }
   ],
   "source": [
    "svm_model = SGDClassifier(n_iter=100, alpha=0.01, class_weight={1: 0.9}) # try with different class weight\n",
    "svm_model.fit(train[predictor_var1], train[outcome])\n",
    "y_pred = svm_model.predict(test[predictor_var1])\n",
    "print(classification_report(test[outcome], y_pred))"
   ]
  },
  {
   "cell_type": "code",
   "execution_count": 60,
   "metadata": {
    "collapsed": false
   },
   "outputs": [
    {
     "name": "stderr",
     "output_type": "stream",
     "text": [
      "/home/sayali/anaconda3/lib/python3.5/site-packages/sklearn/linear_model/stochastic_gradient.py:73: DeprecationWarning: n_iter parameter is deprecated in 0.19 and will be removed in 0.21. Use max_iter and tol instead.\n",
      "  DeprecationWarning)\n"
     ]
    },
    {
     "name": "stdout",
     "output_type": "stream",
     "text": [
      "             precision    recall  f1-score   support\n",
      "\n",
      "          0       0.95      0.89      0.91     25178\n",
      "          1       0.77      0.88      0.82     10865\n",
      "\n",
      "avg / total       0.89      0.88      0.89     36043\n",
      "\n"
     ]
    }
   ],
   "source": [
    "svm_model = SGDClassifier(n_iter=100, alpha=0.01, class_weight={1: 0.9}) \n",
    "svm_model.fit(train[new_var], train[outcome])\n",
    "y_pred = svm_model.predict(test[new_var])\n",
    "print(classification_report(test[outcome], y_pred))"
   ]
  },
  {
   "cell_type": "markdown",
   "metadata": {},
   "source": [
    "##### Though it is not high dimention problem we can try generate important features using PCA"
   ]
  },
  {
   "cell_type": "code",
   "execution_count": 65,
   "metadata": {
    "collapsed": false
   },
   "outputs": [
    {
     "data": {
      "text/plain": [
       "PCA(copy=True, iterated_power='auto', n_components=9, random_state=None,\n",
       "  svd_solver='auto', tol=0.0, whiten=False)"
      ]
     },
     "execution_count": 65,
     "metadata": {},
     "output_type": "execute_result"
    }
   ],
   "source": [
    "from sklearn.decomposition import PCA\n",
    "pca = PCA(n_components=9)\n",
    "pca.fit(data[predictor_var1])"
   ]
  },
  {
   "cell_type": "code",
   "execution_count": 66,
   "metadata": {
    "collapsed": true
   },
   "outputs": [
    {
     "name": "stdout",
     "output_type": "stream",
     "text": [
      "[[  6.55578657e-02  -1.19126542e-04   9.97848517e-01   2.20662710e-04\n",
      "   -5.22205983e-05   6.57146894e-04  -7.58389294e-05  -8.30929027e-07\n",
      "   -2.96305640e-06]\n",
      " [  9.97797069e-01  -2.12009443e-03  -6.55614427e-02   3.46765138e-03\n",
      "    5.03362729e-04   9.15477602e-03   9.06615458e-04   1.19011524e-06\n",
      "   -1.14073228e-03]\n",
      " [  9.53975207e-04  -2.56948447e-01  -6.52025188e-05  -1.88440158e-02\n",
      "   -1.42063488e-02  -3.45567385e-02  -1.18390249e-02  -3.00838468e-04\n",
      "    9.65445619e-01]\n",
      " [  2.23199902e-03   9.64817446e-01  -3.05657984e-05   6.41271815e-03\n",
      "    3.82459794e-02   4.39278223e-03   3.20340883e-02   3.15369585e-04\n",
      "    2.58017162e-01]\n",
      " [ -9.83078630e-03  -1.83704435e-02  -4.42687221e-05   3.85456950e-01\n",
      "    1.94379450e-02   9.20913482e-01   3.47885395e-02  -3.94307426e-05\n",
      "    3.63194299e-02]\n",
      " [ -7.91501741e-04  -4.13825441e-02   1.38220213e-04  -3.58652967e-01\n",
      "    3.67994616e-01   1.09343173e-01   8.49865826e-01   1.99484612e-03\n",
      "    1.73775459e-03]\n",
      " [  4.25078087e-05  -2.16946447e-02   8.51733673e-05   8.49809073e-01\n",
      "    1.30314713e-01  -3.72208582e-01   3.49023429e-01   1.32750580e-03\n",
      "    3.68830030e-03]\n",
      " [ -1.02034390e-04  -2.40751010e-02   2.63733834e-05   1.43879430e-02\n",
      "    9.19526137e-01  -1.11968337e-02  -3.91833111e-01   4.65344267e-03\n",
      "    2.19984099e-03]\n",
      " [  5.97398877e-08  -1.58914507e-04   3.83927590e-07  -4.72125446e-04\n",
      "   -5.20168970e-03   3.52615543e-04  -3.47607669e-04   9.99986206e-01\n",
      "    1.91908893e-04]]\n"
     ]
    }
   ],
   "source": [
    "print(pca.components_)"
   ]
  },
  {
   "cell_type": "code",
   "execution_count": 67,
   "metadata": {
    "collapsed": false
   },
   "outputs": [
    {
     "name": "stdout",
     "output_type": "stream",
     "text": [
      "[  7.11467473e-01   2.88124964e-01   1.39662952e-04   1.20792999e-04\n",
      "   7.67656189e-05   3.04817511e-05   2.94793211e-05   1.01921183e-05\n",
      "   1.87444434e-07]\n"
     ]
    }
   ],
   "source": [
    "print(pca.explained_variance_ratio_)"
   ]
  },
  {
   "cell_type": "markdown",
   "metadata": {},
   "source": [
    "###### First 2 parameters explains around 99 % of variance"
   ]
  },
  {
   "cell_type": "code",
   "execution_count": 68,
   "metadata": {
    "collapsed": false
   },
   "outputs": [
    {
     "data": {
      "text/plain": [
       "[<matplotlib.lines.Line2D at 0x7f77a1ffd6a0>]"
      ]
     },
     "execution_count": 68,
     "metadata": {},
     "output_type": "execute_result"
    },
    {
     "data": {
      "image/png": "[encoded data removed]",
      "text/plain": [
       "<matplotlib.figure.Figure at 0x7f77a10b4a20>"
      ]
     },
     "metadata": {},
     "output_type": "display_data"
    }
   ],
   "source": [
    "var1 = np.cumsum(np.round(pca.explained_variance_ratio_, decimals=4)*100)\n",
    "plt.plot(var1)"
   ]
  },
  {
   "cell_type": "code",
   "execution_count": 69,
   "metadata": {
    "collapsed": false
   },
   "outputs": [
    {
     "data": {
      "text/plain": [
       "(180212, 9)"
      ]
     },
     "execution_count": 69,
     "metadata": {},
     "output_type": "execute_result"
    }
   ],
   "source": [
    "pca_X = pca.transform(data[predictor_var1])\n",
    "pca_X.shape"
   ]
  },
  {
   "cell_type": "code",
   "execution_count": 70,
   "metadata": {
    "collapsed": false,
    "scrolled": true
   },
   "outputs": [
    {
     "data": {
      "image/png": "[encoded data removed]",
      "text/plain": [
       "<matplotlib.figure.Figure at 0x7f77a20ec748>"
      ]
     },
     "metadata": {},
     "output_type": "display_data"
    }
   ],
   "source": [
    "plt.scatter(pca_X[:, 0], pca_X[:, 1], c=data['Adherence'], s=50, cmap='autumn');"
   ]
  },
  {
   "cell_type": "markdown",
   "metadata": {},
   "source": [
    "##### Try with transformed data"
   ]
  },
  {
   "cell_type": "code",
   "execution_count": 71,
   "metadata": {
    "collapsed": false
   },
   "outputs": [
    {
     "data": {
      "image/png": "[encoded data removed]",
      "text/plain": [
       "<matplotlib.figure.Figure at 0x7f77a218ac88>"
      ]
     },
     "metadata": {},
     "output_type": "display_data"
    }
   ],
   "source": [
    "pca_bin = PCA(n_components=9)\n",
    "pca_X_bin = pca_bin.fit_transform(data[predictor_var2])\n",
    "plt.scatter(pca_X_bin[:, 0], pca_X_bin[:, 1], c=data['Adherence'], s=50, cmap='autumn');"
   ]
  },
  {
   "cell_type": "code",
   "execution_count": 72,
   "metadata": {
    "collapsed": false
   },
   "outputs": [
    {
     "name": "stderr",
     "output_type": "stream",
     "text": [
      "/home/sayali/anaconda3/lib/python3.5/site-packages/sklearn/linear_model/stochastic_gradient.py:73: DeprecationWarning: n_iter parameter is deprecated in 0.19 and will be removed in 0.21. Use max_iter and tol instead.\n",
      "  DeprecationWarning)\n"
     ]
    },
    {
     "name": "stdout",
     "output_type": "stream",
     "text": [
      "             precision    recall  f1-score   support\n",
      "\n",
      "          0       0.95      0.88      0.92     25200\n",
      "          1       0.77      0.90      0.83     10843\n",
      "\n",
      "avg / total       0.90      0.89      0.89     36043\n",
      "\n"
     ]
    }
   ],
   "source": [
    "train, test, y_train, y_test = train_test_split(pca_X_bin[:, 0:2], data['Adherence'], test_size=0.2)\n",
    "svm_model = SGDClassifier(n_iter=100, alpha=0.01) \n",
    "svm_model.fit(train, y_train)\n",
    "y_pred = svm_model.predict(test)\n",
    "print(classification_report(y_test, y_pred))"
   ]
  },
  {
   "cell_type": "code",
   "execution_count": 73,
   "metadata": {
    "collapsed": true
   },
   "outputs": [],
   "source": [
    "train, test, y_train, y_test = train_test_split(pca_X[:, 0:2], data['Adherence'], test_size=0.2)"
   ]
  },
  {
   "cell_type": "code",
   "execution_count": 74,
   "metadata": {
    "collapsed": false
   },
   "outputs": [
    {
     "name": "stderr",
     "output_type": "stream",
     "text": [
      "/home/sayali/anaconda3/lib/python3.5/site-packages/sklearn/linear_model/stochastic_gradient.py:73: DeprecationWarning: n_iter parameter is deprecated in 0.19 and will be removed in 0.21. Use max_iter and tol instead.\n",
      "  DeprecationWarning)\n"
     ]
    },
    {
     "name": "stdout",
     "output_type": "stream",
     "text": [
      "             precision    recall  f1-score   support\n",
      "\n",
      "          0       0.88      0.93      0.90     25152\n",
      "          1       0.80      0.70      0.74     10891\n",
      "\n",
      "avg / total       0.85      0.86      0.85     36043\n",
      "\n"
     ]
    }
   ],
   "source": [
    "svm_model = SGDClassifier(n_iter=100, alpha=0.01) \n",
    "svm_model.fit(train, y_train)\n",
    "y_pred = svm_model.predict(test)\n",
    "print(classification_report(y_test, y_pred))"
   ]
  },
  {
   "cell_type": "code",
   "execution_count": 75,
   "metadata": {
    "collapsed": true
   },
   "outputs": [],
   "source": [
    "def plot_2d_space(X, y, label='Classes'):   \n",
    "    colors = ['#1F77B4', '#FF7F0E']\n",
    "    markers = ['o', 's']\n",
    "    for l, c, m in zip(np.unique(y), colors, markers):\n",
    "        plt.scatter(\n",
    "            X[y==l, 0],\n",
    "            X[y==l, 1],\n",
    "            c=c, label=l, marker=m\n",
    "        )\n",
    "    plt.title(label)\n",
    "    plt.legend(loc='upper right')\n",
    "    plt.show()"
   ]
  },
  {
   "cell_type": "markdown",
   "metadata": {},
   "source": [
    "## Sampling\n",
    "For imbalanced Class"
   ]
  },
  {
   "cell_type": "code",
   "execution_count": 76,
   "metadata": {
    "collapsed": false
   },
   "outputs": [
    {
     "name": "stdout",
     "output_type": "stream",
     "text": [
      "Removed indexes: [ 33645   1057   6058 ..., 144162 144164 144165]\n"
     ]
    },
    {
     "data": {
      "image/png": "[encoded data removed]",
      "text/plain": [
       "<matplotlib.figure.Figure at 0x7f77a1b27c18>"
      ]
     },
     "metadata": {},
     "output_type": "display_data"
    }
   ],
   "source": [
    "from imblearn.under_sampling import RandomUnderSampler\n",
    "\n",
    "rus = RandomUnderSampler(return_indices=True)\n",
    "X_rus, y_rus, id_rus = rus.fit_sample(train, y_train)\n",
    "\n",
    "print('Removed indexes:', id_rus)\n",
    "\n",
    "plot_2d_space(X_rus, y_rus, 'Random under-sampling')"
   ]
  },
  {
   "cell_type": "code",
   "execution_count": 77,
   "metadata": {
    "collapsed": false
   },
   "outputs": [
    {
     "data": {
      "text/plain": [
       "array([0, 0, 0, ..., 1, 1, 1])"
      ]
     },
     "execution_count": 77,
     "metadata": {},
     "output_type": "execute_result"
    }
   ],
   "source": [
    "y_rus"
   ]
  },
  {
   "cell_type": "code",
   "execution_count": 79,
   "metadata": {
    "collapsed": false
   },
   "outputs": [
    {
     "name": "stdout",
     "output_type": "stream",
     "text": [
      "100670\n",
      "43499\n",
      "43499\n",
      "43499\n"
     ]
    }
   ],
   "source": [
    "print(len([i for i in y_train if i == 0 ] ))\n",
    "print(len([i for i in y_train if i == 1 ] ))\n",
    "print(len([i for i in y_rus if i == 0 ] ))\n",
    "print(len([i for i in y_rus if i == 1 ] ))"
   ]
  },
  {
   "cell_type": "code",
   "execution_count": 80,
   "metadata": {
    "collapsed": false
   },
   "outputs": [
    {
     "name": "stdout",
     "output_type": "stream",
     "text": [
      "57171 new random picked points\n",
      "100670\n",
      "43499\n",
      "100670\n",
      "100670\n"
     ]
    },
    {
     "data": {
      "image/png": "[encoded data removed]",
      "text/plain": [
       "<matplotlib.figure.Figure at 0x7f77a19cc9e8>"
      ]
     },
     "metadata": {},
     "output_type": "display_data"
    }
   ],
   "source": [
    "from imblearn.over_sampling import RandomOverSampler\n",
    "\n",
    "ros = RandomOverSampler()\n",
    "X_ros, y_ros = ros.fit_sample(train, y_train)\n",
    "\n",
    "print(X_ros.shape[0] - train.shape[0], 'new random picked points')\n",
    "print(len([i for i in y_train if i == 0 ] ))\n",
    "print(len([i for i in y_train if i == 1 ] ))\n",
    "print(len([i for i in y_ros if i == 0 ] ))\n",
    "print(len([i for i in y_ros if i == 1 ] ))\n",
    "plot_2d_space(X_ros, y_ros, 'Random over-sampling')\n"
   ]
  },
  {
   "cell_type": "code",
   "execution_count": 84,
   "metadata": {
    "collapsed": false
   },
   "outputs": [
    {
     "name": "stdout",
     "output_type": "stream",
     "text": [
      "100670\n",
      "43499\n",
      "100670\n",
      "100670\n"
     ]
    },
    {
     "data": {
      "image/png": "[encoded data removed]",
      "text/plain": [
       "<matplotlib.figure.Figure at 0x7f77a2601cc0>"
      ]
     },
     "metadata": {},
     "output_type": "display_data"
    }
   ],
   "source": [
    "from imblearn.over_sampling import SMOTE\n",
    "\n",
    "smote = SMOTE(ratio='minority')\n",
    "X_sm, y_sm = smote.fit_sample(train, y_train)\n",
    "print(len([i for i in y_train if i == 0 ] ))\n",
    "print(len([i for i in y_train if i == 1 ] ))\n",
    "print(len([i for i in y_sm if i == 0 ] ))\n",
    "print(len([i for i in y_sm if i == 1 ] ))\n",
    "plot_2d_space(X_sm, y_sm, 'SMOTE over-sampling')"
   ]
  },
  {
   "cell_type": "markdown",
   "metadata": {},
   "source": [
    "Apply Models on Sampling data"
   ]
  },
  {
   "cell_type": "code",
   "execution_count": 85,
   "metadata": {
    "collapsed": false
   },
   "outputs": [
    {
     "name": "stderr",
     "output_type": "stream",
     "text": [
      "/home/sayali/anaconda3/lib/python3.5/site-packages/sklearn/linear_model/stochastic_gradient.py:73: DeprecationWarning: n_iter parameter is deprecated in 0.19 and will be removed in 0.21. Use max_iter and tol instead.\n",
      "  DeprecationWarning)\n"
     ]
    },
    {
     "name": "stdout",
     "output_type": "stream",
     "text": [
      "             precision    recall  f1-score   support\n",
      "\n",
      "          0       0.95      0.80      0.87     25152\n",
      "          1       0.66      0.91      0.77     10891\n",
      "\n",
      "avg / total       0.87      0.83      0.84     36043\n",
      "\n"
     ]
    }
   ],
   "source": [
    "svm_model = SGDClassifier(n_iter=100, alpha=0.01) \n",
    "svm_model.fit(X_ros, y_ros)\n",
    "y_pred = svm_model.predict(test)\n",
    "print(classification_report(y_test, y_pred))"
   ]
  },
  {
   "cell_type": "code",
   "execution_count": 86,
   "metadata": {
    "collapsed": false
   },
   "outputs": [
    {
     "name": "stderr",
     "output_type": "stream",
     "text": [
      "/home/sayali/anaconda3/lib/python3.5/site-packages/sklearn/linear_model/stochastic_gradient.py:73: DeprecationWarning: n_iter parameter is deprecated in 0.19 and will be removed in 0.21. Use max_iter and tol instead.\n",
      "  DeprecationWarning)\n"
     ]
    },
    {
     "name": "stdout",
     "output_type": "stream",
     "text": [
      "             precision    recall  f1-score   support\n",
      "\n",
      "          0       0.95      0.80      0.87     25152\n",
      "          1       0.66      0.91      0.77     10891\n",
      "\n",
      "avg / total       0.87      0.83      0.84     36043\n",
      "\n"
     ]
    }
   ],
   "source": [
    "svm_model = SGDClassifier(n_iter=100, alpha=0.01) \n",
    "svm_model.fit(X_rus, y_rus)\n",
    "y_pred = svm_model.predict(test)\n",
    "print(classification_report(y_test, y_pred))"
   ]
  },
  {
   "cell_type": "code",
   "execution_count": 87,
   "metadata": {
    "collapsed": false
   },
   "outputs": [
    {
     "name": "stderr",
     "output_type": "stream",
     "text": [
      "/home/sayali/anaconda3/lib/python3.5/site-packages/sklearn/linear_model/stochastic_gradient.py:73: DeprecationWarning: n_iter parameter is deprecated in 0.19 and will be removed in 0.21. Use max_iter and tol instead.\n",
      "  DeprecationWarning)\n"
     ]
    },
    {
     "name": "stdout",
     "output_type": "stream",
     "text": [
      "             precision    recall  f1-score   support\n",
      "\n",
      "          0       0.95      0.79      0.87     25152\n",
      "          1       0.66      0.91      0.76     10891\n",
      "\n",
      "avg / total       0.86      0.83      0.84     36043\n",
      "\n"
     ]
    }
   ],
   "source": [
    "svm_model = SGDClassifier(n_iter=100, alpha=0.01) \n",
    "svm_model.fit(X_sm, y_sm)\n",
    "y_pred = svm_model.predict(test)\n",
    "print(classification_report(y_test, y_pred))"
   ]
  },
  {
   "cell_type": "markdown",
   "metadata": {},
   "source": [
    "## Final OutPut\n",
    "\n",
    "We need predict Probablities"
   ]
  },
  {
   "cell_type": "code",
   "execution_count": 107,
   "metadata": {
    "collapsed": false
   },
   "outputs": [
    {
     "name": "stdout",
     "output_type": "stream",
     "text": [
      "             precision    recall  f1-score   support\n",
      "\n",
      "         No       0.94      0.90      0.92     25218\n",
      "        Yes       0.78      0.87      0.83     10825\n",
      "\n",
      "avg / total       0.90      0.89      0.89     36043\n",
      "\n"
     ]
    }
   ],
   "source": [
    "train, test, y_train, y_test = train_test_split(data, y, test_size=0.2)\n",
    "new_var = ['Prescription_period','Age']\n",
    "rf_model = RandomForestClassifier(random_state=42)\n",
    "rf_model.fit(train[new_var], y_train)\n",
    "y_pred = rf_model.predict(test[new_var])\n",
    "y_pred_prob = rf_model.predict_proba(test[new_var])\n",
    "print(classification_report(y_test, y_pred))"
   ]
  },
  {
   "cell_type": "code",
   "execution_count": 111,
   "metadata": {
    "collapsed": false
   },
   "outputs": [],
   "source": [
    "prob = []\n",
    "for i in range(len(y_pred)):\n",
    "    if y_pred[i] == 'Yes':\n",
    "        prob.append(y_pred_prob[i,1])\n",
    "    elif y_pred[i] == 'No':\n",
    "        prob.append(y_pred_prob[i,0])\n"
   ]
  },
  {
   "cell_type": "code",
   "execution_count": 115,
   "metadata": {
    "collapsed": false
   },
   "outputs": [
    {
     "data": {
      "text/html": [
       "<div>\n",
       "<style>\n",
       "    .dataframe thead tr:only-child th {\n",
       "        text-align: right;\n",
       "    }\n",
       "\n",
       "    .dataframe thead th {\n",
       "        text-align: left;\n",
       "    }\n",
       "\n",
       "    .dataframe tbody tr th {\n",
       "        vertical-align: top;\n",
       "    }\n",
       "</style>\n",
       "<table border=\"1\" class=\"dataframe\">\n",
       "  <thead>\n",
       "    <tr style=\"text-align: right;\">\n",
       "      <th></th>\n",
       "      <th>patient_id</th>\n",
       "      <th>Adherence</th>\n",
       "      <th>prob</th>\n",
       "    </tr>\n",
       "  </thead>\n",
       "  <tbody>\n",
       "    <tr>\n",
       "      <th>153062</th>\n",
       "      <td>153062</td>\n",
       "      <td>No</td>\n",
       "      <td>1.000000</td>\n",
       "    </tr>\n",
       "    <tr>\n",
       "      <th>35569</th>\n",
       "      <td>35569</td>\n",
       "      <td>No</td>\n",
       "      <td>0.935675</td>\n",
       "    </tr>\n",
       "    <tr>\n",
       "      <th>138279</th>\n",
       "      <td>138279</td>\n",
       "      <td>No</td>\n",
       "      <td>1.000000</td>\n",
       "    </tr>\n",
       "    <tr>\n",
       "      <th>50461</th>\n",
       "      <td>50461</td>\n",
       "      <td>No</td>\n",
       "      <td>0.932130</td>\n",
       "    </tr>\n",
       "    <tr>\n",
       "      <th>45497</th>\n",
       "      <td>45497</td>\n",
       "      <td>No</td>\n",
       "      <td>1.000000</td>\n",
       "    </tr>\n",
       "  </tbody>\n",
       "</table>\n",
       "</div>"
      ],
      "text/plain": [
       "        patient_id Adherence      prob\n",
       "153062      153062        No  1.000000\n",
       "35569        35569        No  0.935675\n",
       "138279      138279        No  1.000000\n",
       "50461        50461        No  0.932130\n",
       "45497        45497        No  1.000000"
      ]
     },
     "execution_count": 115,
     "metadata": {},
     "output_type": "execute_result"
    }
   ],
   "source": [
    "from pandas.compat import OrderedDict\n",
    "output_d = OrderedDict()\n",
    "output_d['patient_id'] = test.patient_id\n",
    "output_d['Adherence'] = y_pred\n",
    "output_d['prob'] = prob\n",
    "output = pd.DataFrame(output_d)\n",
    "output.to_csv('./output.csv')\n",
    "output.head()"
   ]
  },
  {
   "cell_type": "markdown",
   "metadata": {},
   "source": []
  },
  {
   "cell_type": "markdown",
   "metadata": {},
   "source": [
    "### To be Continued ....."
   ]
  },
  {
   "cell_type": "raw",
   "metadata": {},
   "source": [
    "rf_model = RandomForestClassifier(n_jobs=-1, \n",
    "                max_depth=10, max_features='sqrt', min_samples_leaf = 1)\n",
    "\n",
    "# Range of `n_estimators` values to explore.\n",
    "n_estim = filter(lambda x: x % 2 == 0, list(range(10,100)))\n",
    " \n",
    "cv_scores = []\n",
    " \n",
    "for i in n_estim:\n",
    "    rf_model.set_params(n_estimators=i)\n",
    "    kfold = model_selection.KFold(n_splits=10, random_state=seed)\n",
    "    scores = model_selection.cross_val_score(rf_model, train, train_y, cv=kfold, scoring='accuracy')\n",
    "    cv_scores.append(scores.mean()*100)\n",
    "    \n",
    "optimal_n_estim = n_estim[cv_scores.index(max(cv_scores))]\n",
    "print(\"The optimal number of estimators is %d with %0.1f%%\" % (optimal_n_estim, cv_scores[optimal_n_estim]))\n",
    " \n",
    "plt.plot(n_estim, cv_scores)\n",
    "plt.xlabel('Number of Estimators')\n",
    "plt.ylabel('Train Accuracy')\n",
    "plt.show()"
   ]
  },
  {
   "cell_type": "code",
   "execution_count": null,
   "metadata": {
    "collapsed": true
   },
   "outputs": [],
   "source": []
  }
 ],
 "metadata": {
  "anaconda-cloud": {},
  "kernelspec": {
   "display_name": "Python [conda env:anaconda3]",
   "language": "python",
   "name": "conda-env-anaconda3-py"
  },
  "language_info": {
   "codemirror_mode": {
    "name": "ipython",
    "version": 3
   },
   "file_extension": ".py",
   "mimetype": "text/x-python",
   "name": "python",
   "nbconvert_exporter": "python",
   "pygments_lexer": "ipython3",
   "version": "3.5.2"
  }
 },
 "nbformat": 4,
 "nbformat_minor": 2
}
