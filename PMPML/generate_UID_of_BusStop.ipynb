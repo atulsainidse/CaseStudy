{
 "cells": [
  {
   "cell_type": "code",
   "execution_count": 1,
   "metadata": {
    "collapsed": true
   },
   "outputs": [],
   "source": [
    "import pandas as pd"
   ]
  },
  {
   "cell_type": "code",
   "execution_count": 2,
   "metadata": {
    "collapsed": false
   },
   "outputs": [
    {
     "name": "stdout",
     "output_type": "stream",
     "text": [
      "<class 'pandas.core.frame.DataFrame'>\n",
      "RangeIndex: 1105 entries, 0 to 1104\n",
      "Data columns (total 9 columns):\n",
      "list                  1105 non-null object\n",
      "Direction             1105 non-null object\n",
      "Stop Name             1105 non-null object\n",
      "Latitude              1099 non-null float64\n",
      "Longitude             1099 non-null float64\n",
      "Name-en-normalized    1105 non-null object\n",
      "UID                   34 non-null object\n",
      "map link              1105 non-null object\n",
      "Unnamed: 8            1099 non-null float64\n",
      "dtypes: float64(3), object(6)\n",
      "memory usage: 77.8+ KB\n"
     ]
    }
   ],
   "source": [
    "data = pd.read_csv('BusStops.csv')\n",
    "data.info()"
   ]
  },
  {
   "cell_type": "code",
   "execution_count": 3,
   "metadata": {
    "collapsed": false
   },
   "outputs": [
    {
     "data": {
      "text/html": [
       "<div>\n",
       "<table border=\"1\" class=\"dataframe\">\n",
       "  <thead>\n",
       "    <tr style=\"text-align: right;\">\n",
       "      <th></th>\n",
       "      <th>list</th>\n",
       "      <th>Direction</th>\n",
       "      <th>Stop Name</th>\n",
       "      <th>Latitude</th>\n",
       "      <th>Longitude</th>\n",
       "      <th>Name-en-normalized</th>\n",
       "      <th>UID</th>\n",
       "      <th>map link</th>\n",
       "      <th>Unnamed: 8</th>\n",
       "    </tr>\n",
       "  </thead>\n",
       "  <tbody>\n",
       "    <tr>\n",
       "      <th>0</th>\n",
       "      <td>brts stops</td>\n",
       "      <td>UP</td>\n",
       "      <td>509</td>\n",
       "      <td>18.574521</td>\n",
       "      <td>73.899507</td>\n",
       "      <td>509</td>\n",
       "      <td>A509Y1</td>\n",
       "      <td>http://maps.google.com/?q=loc:18.5745209999995</td>\n",
       "      <td>73.899507</td>\n",
       "    </tr>\n",
       "    <tr>\n",
       "      <th>1</th>\n",
       "      <td>brts stops</td>\n",
       "      <td>Down</td>\n",
       "      <td>509</td>\n",
       "      <td>18.574580</td>\n",
       "      <td>73.899595</td>\n",
       "      <td>509</td>\n",
       "      <td>A509Y2</td>\n",
       "      <td>http://maps.google.com/?q=loc:18.5745800000002</td>\n",
       "      <td>73.899595</td>\n",
       "    </tr>\n",
       "    <tr>\n",
       "      <th>2</th>\n",
       "      <td>brts stops</td>\n",
       "      <td>UP</td>\n",
       "      <td>12 Wa Mile</td>\n",
       "      <td>18.608913</td>\n",
       "      <td>74.015420</td>\n",
       "      <td>12 Wa Mile</td>\n",
       "      <td>12WML1</td>\n",
       "      <td>http://maps.google.com/?q=loc:18.608913</td>\n",
       "      <td>74.015420</td>\n",
       "    </tr>\n",
       "    <tr>\n",
       "      <th>3</th>\n",
       "      <td>brts stops</td>\n",
       "      <td>Down</td>\n",
       "      <td>12 Wa Mile</td>\n",
       "      <td>18.608913</td>\n",
       "      <td>74.015420</td>\n",
       "      <td>12 Wa Mile</td>\n",
       "      <td>12WML2</td>\n",
       "      <td>http://maps.google.com/?q=loc:18.608913</td>\n",
       "      <td>74.015420</td>\n",
       "    </tr>\n",
       "    <tr>\n",
       "      <th>4</th>\n",
       "      <td>brts stops</td>\n",
       "      <td>UP</td>\n",
       "      <td>15 August Chowk</td>\n",
       "      <td>18.522448</td>\n",
       "      <td>73.866454</td>\n",
       "      <td>15 August Chowk</td>\n",
       "      <td>15AUG1</td>\n",
       "      <td>http://maps.google.com/?q=loc:18.5224480000003</td>\n",
       "      <td>73.866454</td>\n",
       "    </tr>\n",
       "  </tbody>\n",
       "</table>\n",
       "</div>"
      ],
      "text/plain": [
       "         list Direction        Stop Name   Latitude  Longitude  \\\n",
       "0  brts stops        UP              509  18.574521  73.899507   \n",
       "1  brts stops      Down              509  18.574580  73.899595   \n",
       "2  brts stops        UP       12 Wa Mile  18.608913  74.015420   \n",
       "3  brts stops      Down       12 Wa Mile  18.608913  74.015420   \n",
       "4  brts stops        UP  15 August Chowk  18.522448  73.866454   \n",
       "\n",
       "  Name-en-normalized     UID                                        map link  \\\n",
       "0                509  A509Y1  http://maps.google.com/?q=loc:18.5745209999995   \n",
       "1                509  A509Y2  http://maps.google.com/?q=loc:18.5745800000002   \n",
       "2         12 Wa Mile  12WML1         http://maps.google.com/?q=loc:18.608913   \n",
       "3         12 Wa Mile  12WML2         http://maps.google.com/?q=loc:18.608913   \n",
       "4    15 August Chowk  15AUG1  http://maps.google.com/?q=loc:18.5224480000003   \n",
       "\n",
       "   Unnamed: 8  \n",
       "0   73.899507  \n",
       "1   73.899595  \n",
       "2   74.015420  \n",
       "3   74.015420  \n",
       "4   73.866454  "
      ]
     },
     "execution_count": 3,
     "metadata": {},
     "output_type": "execute_result"
    }
   ],
   "source": [
    "data.head()"
   ]
  },
  {
   "cell_type": "code",
   "execution_count": 4,
   "metadata": {
    "collapsed": false
   },
   "outputs": [
    {
     "data": {
      "text/plain": [
       "Index(['list', 'Direction', 'Stop Name', 'Latitude', 'Longitude',\n",
       "       'Name-en-normalized', 'UID', 'map link', 'Unnamed: 8'],\n",
       "      dtype='object')"
      ]
     },
     "execution_count": 4,
     "metadata": {},
     "output_type": "execute_result"
    }
   ],
   "source": [
    "data.columns"
   ]
  },
  {
   "cell_type": "code",
   "execution_count": 5,
   "metadata": {
    "collapsed": false
   },
   "outputs": [],
   "source": [
    "def return_UID(tokens, to_len, direction):\n",
    "    UID = []\n",
    "    if len(tokens) >1:\n",
    "        for token in tokens:\n",
    "            if len(token) > 1:\n",
    "                strin = token[0:to_len].upper()\n",
    "                UID.append(strin)\n",
    "            else:\n",
    "                UID.append(token.upper())\n",
    "    else:\n",
    "        UID.append(tokens[0][0:to_len +1].upper())\n",
    "\n",
    "    UID.append(str(direction))\n",
    "    return ''.join(UID)"
   ]
  },
  {
   "cell_type": "code",
   "execution_count": 6,
   "metadata": {
    "collapsed": false
   },
   "outputs": [],
   "source": [
    "UIDS = {}\n",
    "def generate_UID(row):\n",
    "    UID = ''\n",
    "    if type(row['UID']) is not str :\n",
    "        tokens = row['Name-en-normalized'].strip().split()\n",
    "        if row['Direction'].strip() == 'UP':\n",
    "            UID = return_UID(tokens, 2, 1)\n",
    "            if UID in UIDS:\n",
    "                UID = return_UID(tokens, 3, 1)\n",
    "        elif row['Direction'].strip() == 'Down':\n",
    "            UID = return_UID(tokens, 2, 1)\n",
    "            if UID in UIDS:\n",
    "                UID = return_UID(tokens, 3, 1)\n",
    "        if UID in UIDS:\n",
    "            return ''\n",
    "        UIDS[UID] = 1\n",
    "        return UID\n",
    "    else :\n",
    "        return row['UID']"
   ]
  },
  {
   "cell_type": "code",
   "execution_count": 7,
   "metadata": {
    "collapsed": false
   },
   "outputs": [],
   "source": [
    "data['UID_new'] = data.apply(generate_UID, axis=1)"
   ]
  },
  {
   "cell_type": "code",
   "execution_count": 8,
   "metadata": {
    "collapsed": false
   },
   "outputs": [
    {
     "data": {
      "text/plain": [
       "0           A509Y1\n",
       "1           A509Y2\n",
       "2           12WML1\n",
       "3           12WML2\n",
       "4           15AUG1\n",
       "5           15AUG2\n",
       "6           15NUM1\n",
       "7           15NUM2\n",
       "8           16NUM1\n",
       "9           16NUM2\n",
       "10          5WMIL1\n",
       "11          5WMIL2\n",
       "12          APLGH1\n",
       "13          APLGH2\n",
       "14          ADCMP1\n",
       "15          ADCMP2\n",
       "16          AKLND1\n",
       "17          AGRCL1\n",
       "18          AGRCL2\n",
       "19          AHLSC1\n",
       "20          AHLSC2\n",
       "21          AHRWD1\n",
       "22          AHRWD2\n",
       "23          AITCL1\n",
       "24          AITCL2\n",
       "25          AJTNG1\n",
       "26          AJTNG2\n",
       "27          AKSHW1\n",
       "28          AKSHW2\n",
       "29          AKRDC1\n",
       "           ...    \n",
       "1075       WAKPHA1\n",
       "1076              \n",
       "1077       WALCOR1\n",
       "1078              \n",
       "1079          WAL1\n",
       "1080         WALK1\n",
       "1081         WAMA1\n",
       "1082       WARMAL1\n",
       "1083          WAR1\n",
       "1084         WARJ1\n",
       "1085          WES1\n",
       "1086         WEST1\n",
       "1087       WICOCI1\n",
       "1088    WIPCOMCIR1\n",
       "1089         WICO1\n",
       "1090       WIRCOL1\n",
       "1091          YAM1\n",
       "1092         YAMU1\n",
       "1093         YAKH1\n",
       "1094       YASKHA1\n",
       "1095       YATERO1\n",
       "1096    YASTELROA1\n",
       "1097       YACHNA1\n",
       "1098    YASCHANAT1\n",
       "1099          YER1\n",
       "1100         YERA1\n",
       "1101              \n",
       "1102              \n",
       "1103       YEPOOF1\n",
       "1104    YERPOSOFF1\n",
       "Name: UID_new, dtype: object"
      ]
     },
     "execution_count": 8,
     "metadata": {},
     "output_type": "execute_result"
    }
   ],
   "source": [
    "data['UID_new']"
   ]
  },
  {
   "cell_type": "code",
   "execution_count": 9,
   "metadata": {
    "collapsed": true
   },
   "outputs": [],
   "source": [
    "NonBRT = pd.read_csv('NonBRTBusStop.csv')"
   ]
  },
  {
   "cell_type": "code",
   "execution_count": 12,
   "metadata": {
    "collapsed": false
   },
   "outputs": [
    {
     "data": {
      "text/plain": [
       "Index(['Sr.', 'Direction', 'Stop Name', 'Name-en-normalized', 'UID',\n",
       "       'UID_new'],\n",
       "      dtype='object')"
      ]
     },
     "execution_count": 12,
     "metadata": {},
     "output_type": "execute_result"
    }
   ],
   "source": [
    "NonBRT.columns"
   ]
  },
  {
   "cell_type": "code",
   "execution_count": 10,
   "metadata": {
    "collapsed": true
   },
   "outputs": [],
   "source": [
    "NonBRT['UID_new'] = NonBRT.apply(generate_UID, axis=1)"
   ]
  },
  {
   "cell_type": "code",
   "execution_count": 11,
   "metadata": {
    "collapsed": false
   },
   "outputs": [
    {
     "data": {
      "text/plain": [
       "0        A509Y1\n",
       "1        A509Y1\n",
       "2        A512Y1\n",
       "3        A512Y1\n",
       "4        10MAL1\n",
       "5        10MAL1\n",
       "6        15AUG1\n",
       "7        15AUG1\n",
       "8        15NUM1\n",
       "9        15NUM1\n",
       "10       16NUM1\n",
       "11       16NUM1\n",
       "12       40AUD1\n",
       "13       40AUD1\n",
       "14       5WMIL1\n",
       "15       5WMIL1\n",
       "16       AWAOF1\n",
       "17       AWAOF1\n",
       "18      AAMAMA1\n",
       "19             \n",
       "20       APLGH1\n",
       "21       APLGH1\n",
       "22        ABFA1\n",
       "23             \n",
       "24        ABCH1\n",
       "25             \n",
       "26      ABSHSO1\n",
       "27             \n",
       "28        ABCO1\n",
       "29             \n",
       "         ...   \n",
       "4288           \n",
       "4289           \n",
       "4290      YCHO1\n",
       "4291           \n",
       "4292       YEL1\n",
       "4293           \n",
       "4294      YEPH1\n",
       "4295           \n",
       "4296           \n",
       "4297           \n",
       "4298      YEJA1\n",
       "4299           \n",
       "4300      YEPR1\n",
       "4301           \n",
       "4302           \n",
       "4303           \n",
       "4304       YEW1\n",
       "4305           \n",
       "4306      YOCO1\n",
       "4307           \n",
       "4308       ZEN1\n",
       "4309           \n",
       "4310      ZEND1\n",
       "4311           \n",
       "4312    ZEBOBA1\n",
       "4313           \n",
       "4314    ZFSTCO1\n",
       "4315           \n",
       "4316      ZHCO1\n",
       "4317           \n",
       "Name: UID_new, dtype: object"
      ]
     },
     "execution_count": 11,
     "metadata": {},
     "output_type": "execute_result"
    }
   ],
   "source": [
    "NonBRT.UID_new"
   ]
  },
  {
   "cell_type": "code",
   "execution_count": 12,
   "metadata": {
    "collapsed": true
   },
   "outputs": [],
   "source": [
    "NonBRT.to_csv('NonBRT_new_tags.csv')"
   ]
  },
  {
   "cell_type": "code",
   "execution_count": null,
   "metadata": {
    "collapsed": true
   },
   "outputs": [],
   "source": []
  }
 ],
 "metadata": {
  "anaconda-cloud": {},
  "kernelspec": {
   "display_name": "Python [conda root]",
   "language": "python",
   "name": "conda-root-py"
  },
  "language_info": {
   "codemirror_mode": {
    "name": "ipython",
    "version": 3
   },
   "file_extension": ".py",
   "mimetype": "text/x-python",
   "name": "python",
   "nbconvert_exporter": "python",
   "pygments_lexer": "ipython3",
   "version": "3.5.2"
  }
 },
 "nbformat": 4,
 "nbformat_minor": 1
}
